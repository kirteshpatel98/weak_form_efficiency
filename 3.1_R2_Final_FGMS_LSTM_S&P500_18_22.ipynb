{
  "cells": [
    {
      "cell_type": "code",
      "execution_count": null,
      "id": "e6e9d1f6",
      "metadata": {
        "id": "e6e9d1f6"
      },
      "outputs": [],
      "source": [
        "!pip install keras-tuner\n",
        "!pip install yfinance"
      ]
    },
    {
      "cell_type": "markdown",
      "id": "d9110daf",
      "metadata": {
        "id": "d9110daf"
      },
      "source": [
        "# LSTM Model_S&P500 FROM 2018 TO 2022"
      ]
    },
    {
      "cell_type": "code",
      "execution_count": null,
      "id": "140a0895",
      "metadata": {
        "id": "140a0895"
      },
      "outputs": [],
      "source": [
        "import pandas as pd\n",
        "import numpy as np\n",
        "import matplotlib.pyplot as plt\n",
        "from statsmodels.tsa.stattools import adfuller, acf, pacf\n",
        "import yfinance as yf\n",
        "import math\n",
        "from sklearn.metrics import mean_squared_error\n",
        "import pandas_datareader as pdr\n",
        "import os\n",
        "from sklearn.metrics import accuracy_score\n",
        "from sklearn.metrics import mean_squared_error"
      ]
    },
    {
      "cell_type": "markdown",
      "id": "1ea0ce99",
      "metadata": {
        "id": "1ea0ce99"
      },
      "source": [
        "# Data Acquisition"
      ]
    },
    {
      "cell_type": "code",
      "execution_count": null,
      "id": "bb573a6b",
      "metadata": {
        "id": "bb573a6b"
      },
      "outputs": [],
      "source": [
        "df = yf.download('^GSPC',start=\"2018-01-31\", end=\"2022-12-31\",interval='1d')"
      ]
    },
    {
      "cell_type": "code",
      "execution_count": null,
      "id": "d6d47913",
      "metadata": {
        "id": "d6d47913",
        "scrolled": true
      },
      "outputs": [],
      "source": [
        "df.tail()"
      ]
    },
    {
      "cell_type": "code",
      "execution_count": null,
      "id": "6a867047",
      "metadata": {
        "id": "6a867047"
      },
      "outputs": [],
      "source": [
        "df.info()"
      ]
    },
    {
      "cell_type": "code",
      "execution_count": null,
      "id": "e31a0387",
      "metadata": {
        "id": "e31a0387"
      },
      "outputs": [],
      "source": [
        "df"
      ]
    },
    {
      "cell_type": "markdown",
      "id": "4f6fd68a",
      "metadata": {
        "id": "4f6fd68a"
      },
      "source": [
        "# Data Preparation"
      ]
    },
    {
      "cell_type": "code",
      "execution_count": null,
      "id": "4d09ac1d",
      "metadata": {
        "id": "4d09ac1d"
      },
      "outputs": [],
      "source": [
        "df[\"Return\"] = df[\"Adj Close\"].pct_change()"
      ]
    },
    {
      "cell_type": "code",
      "execution_count": null,
      "id": "3d5f306e",
      "metadata": {
        "id": "3d5f306e"
      },
      "outputs": [],
      "source": [
        "df1 = df.drop(columns = [\"Open\",\"High\",\"Low\",\"Adj Close\", \"Volume\"])"
      ]
    },
    {
      "cell_type": "code",
      "execution_count": null,
      "id": "e7607258",
      "metadata": {
        "id": "e7607258"
      },
      "outputs": [],
      "source": [
        "df1"
      ]
    },
    {
      "cell_type": "code",
      "execution_count": null,
      "id": "f63a4f10",
      "metadata": {
        "id": "f63a4f10"
      },
      "outputs": [],
      "source": [
        "df1[\"Log_Return\"] = np.log(1+df1[\"Return\"])"
      ]
    },
    {
      "cell_type": "code",
      "execution_count": null,
      "id": "8e05dd55",
      "metadata": {
        "id": "8e05dd55"
      },
      "outputs": [],
      "source": [
        "df1 = df1.dropna()"
      ]
    },
    {
      "cell_type": "code",
      "execution_count": null,
      "id": "2bb506d8",
      "metadata": {
        "id": "2bb506d8"
      },
      "outputs": [],
      "source": [
        "df2 = df1[\"Log_Return\"]"
      ]
    },
    {
      "cell_type": "code",
      "execution_count": null,
      "id": "7c511edb",
      "metadata": {
        "id": "7c511edb"
      },
      "outputs": [],
      "source": [
        "plt.figure(figsize=(16,6))\n",
        "plt.title('Log Return History')\n",
        "plt.plot(df2)\n",
        "plt.xlabel('Date', fontsize=18)\n",
        "plt.ylabel('Return USD ($)', fontsize=18)\n",
        "plt.show()"
      ]
    },
    {
      "cell_type": "code",
      "execution_count": null,
      "id": "560f3f16",
      "metadata": {
        "id": "560f3f16"
      },
      "outputs": [],
      "source": [
        "# Create a histogram of stock data\n",
        "plt.figure(figsize = (15,6))\n",
        "plt.hist(df2, bins=30, alpha=0.5, color='blue')\n",
        "\n",
        "# Add a vertical line for the mean\n",
        "plt.axvline(df2.mean(), color='red', linestyle='dashed', linewidth=2)\n",
        "\n",
        "# Add labels and title\n",
        "plt.xlabel(\"Date\")\n",
        "plt.ylabel(\"Log_Return\")\n",
        "plt.title('Histogram of Stock Data')\n",
        "\n",
        "# Show the plot\n",
        "plt.show()\n"
      ]
    },
    {
      "cell_type": "markdown",
      "id": "a5294009",
      "metadata": {
        "id": "a5294009"
      },
      "source": [
        "# Scaling Data"
      ]
    },
    {
      "cell_type": "code",
      "execution_count": null,
      "id": "3c9a1fb1",
      "metadata": {
        "id": "3c9a1fb1"
      },
      "outputs": [],
      "source": [
        "from sklearn.preprocessing import StandardScaler\n",
        "scaler = StandardScaler()\n",
        "df3 = scaler.fit_transform(np.array(df2).reshape(-1, 1))"
      ]
    },
    {
      "cell_type": "code",
      "execution_count": null,
      "id": "7e67beec",
      "metadata": {
        "id": "7e67beec"
      },
      "outputs": [],
      "source": [
        "df3"
      ]
    },
    {
      "cell_type": "markdown",
      "id": "93a13dc4",
      "metadata": {
        "id": "93a13dc4"
      },
      "source": [
        "# Train Test Split"
      ]
    },
    {
      "cell_type": "code",
      "execution_count": null,
      "id": "05d46b20",
      "metadata": {
        "id": "05d46b20"
      },
      "outputs": [],
      "source": [
        "train_size = int(len(df3)*0.8)\n",
        "test_size = len(df3)-train_size\n",
        "train_size,test_size"
      ]
    },
    {
      "cell_type": "code",
      "execution_count": null,
      "id": "22bceaab",
      "metadata": {
        "id": "22bceaab"
      },
      "outputs": [],
      "source": [
        "train_data,test_data = df3[0:train_size],df3[train_size:]"
      ]
    },
    {
      "cell_type": "code",
      "execution_count": null,
      "id": "ad22c0ab",
      "metadata": {
        "id": "ad22c0ab"
      },
      "outputs": [],
      "source": [
        "train_data.shape,test_data.shape"
      ]
    },
    {
      "cell_type": "code",
      "execution_count": null,
      "id": "6468cb7d",
      "metadata": {
        "id": "6468cb7d"
      },
      "outputs": [],
      "source": [
        "def creat_dataset(data, time_stamp):\n",
        "    data_x, data_y = [], []\n",
        "    for i in range(len(data)-time_stamp-1):\n",
        "        a = data[i: i + time_stamp, 0]\n",
        "        data_x.append(a)\n",
        "        b = data[i+time_stamp,0]\n",
        "        data_y.append(b)\n",
        "    return data_x, data_y\n",
        "                "
      ]
    },
    {
      "cell_type": "code",
      "execution_count": null,
      "id": "c86c2fe5",
      "metadata": {
        "id": "c86c2fe5"
      },
      "outputs": [],
      "source": [
        "x_train, y_train = creat_dataset(train_data,50)\n",
        "x_test, y_test = creat_dataset(test_data,50)"
      ]
    },
    {
      "cell_type": "code",
      "execution_count": null,
      "id": "1e68d2ae",
      "metadata": {
        "id": "1e68d2ae"
      },
      "outputs": [],
      "source": [
        "x_train = np.asarray(x_train)\n",
        "x_test = np.asarray(x_test)\n",
        "y_train = np.asarray(y_train)\n",
        "y_test = np.asarray(y_test)\n",
        "x_train,x_test"
      ]
    },
    {
      "cell_type": "markdown",
      "id": "464c1c30",
      "metadata": {
        "id": "464c1c30"
      },
      "source": [
        "# Find the correlation in b/w daily Returns"
      ]
    },
    {
      "cell_type": "code",
      "execution_count": null,
      "id": "dbf2e4e3",
      "metadata": {
        "id": "dbf2e4e3"
      },
      "outputs": [],
      "source": [
        "import seaborn as sns \n",
        "from sklearn.preprocessing import Normalizer\n",
        "normalizedx_train = Normalizer().fit_transform(x_train)\n",
        "\n",
        "normalizedx_train = pd.DataFrame(normalizedx_train)\n",
        "normalizedx_train"
      ]
    },
    {
      "cell_type": "markdown",
      "id": "373eb975",
      "metadata": {
        "id": "373eb975"
      },
      "source": [
        "# Pearson Correlation"
      ]
    },
    {
      "cell_type": "code",
      "execution_count": null,
      "id": "a0524b5b",
      "metadata": {
        "id": "a0524b5b"
      },
      "outputs": [],
      "source": [
        "# plot correlation heatmap\n",
        "plt.figure(figsize = (40,20))\n",
        "sns.heatmap(normalizedx_train.corr(), annot = True)"
      ]
    },
    {
      "cell_type": "code",
      "execution_count": null,
      "id": "ec51a464",
      "metadata": {
        "id": "ec51a464"
      },
      "outputs": [],
      "source": [
        "x_train = x_train.reshape(x_train.shape[0], x_train.shape[1],1)\n",
        "x_test = x_test.reshape(x_test.shape[0], x_test.shape[1],1)"
      ]
    },
    {
      "cell_type": "code",
      "execution_count": null,
      "id": "765f8e7f",
      "metadata": {
        "id": "765f8e7f"
      },
      "outputs": [],
      "source": [
        "x_train.shape, x_test.shape"
      ]
    },
    {
      "cell_type": "code",
      "execution_count": null,
      "id": "893c6248",
      "metadata": {
        "id": "893c6248"
      },
      "outputs": [],
      "source": [
        "# Building Model"
      ]
    },
    {
      "cell_type": "code",
      "execution_count": null,
      "id": "388110cb",
      "metadata": {
        "id": "388110cb"
      },
      "outputs": [],
      "source": [
        "import keras_tuner\n",
        "from tensorflow.keras.models import Sequential\n",
        "from tensorflow.keras.layers import Dense, Dropout\n",
        "from tensorflow.keras.layers import LSTM\n",
        "from kerastuner import RandomSearch\n",
        "from kerastuner.engine.hyperparameters import HyperParameters\n",
        "import tensorflow as tf"
      ]
    },
    {
      "cell_type": "markdown",
      "id": "125eef23",
      "metadata": {
        "id": "125eef23"
      },
      "source": [
        "# Hyperparameter Tuning"
      ]
    },
    {
      "cell_type": "code",
      "execution_count": null,
      "id": "94b001cd",
      "metadata": {
        "id": "94b001cd"
      },
      "outputs": [],
      "source": [
        "my_learning_rate = .001"
      ]
    },
    {
      "cell_type": "code",
      "execution_count": null,
      "id": "56faa24b",
      "metadata": {
        "id": "56faa24b"
      },
      "outputs": [],
      "source": [
        "def build_model(hp):\n",
        "    model = Sequential()\n",
        "    model.add(LSTM(hp.Int('input_unit',min_value=32,max_value=512,step=32),return_sequences=True, input_shape=(50,1)))\n",
        "    for i in range(hp.Int('n_layers', 1, 4)):\n",
        "        model.add(LSTM(hp.Int(f'lstm_{i}_units',min_value=32,max_value=512,step=32),return_sequences=True))\n",
        "    model.add(LSTM(hp.Int('layer_2_neurons',min_value=32,max_value=512,step=32)))\n",
        "    model.add(Dropout(hp.Float('Dropout_rate',min_value=0,max_value=0.5,step=0.1)))\n",
        "    model.add(Dense(1, activation=hp.Choice('dense_activation',values=['relu', 'sigmoid'],default='relu')))\n",
        "    model.compile(loss='mean_squared_error', optimizer=tf.keras.optimizers.RMSprop(learning_rate=my_learning_rate),metrics = ['mse'])\n",
        "    return model"
      ]
    },
    {
      "cell_type": "code",
      "execution_count": null,
      "id": "347907e2",
      "metadata": {
        "id": "347907e2"
      },
      "outputs": [],
      "source": [
        "tuner_search = RandomSearch(\n",
        "    build_model,\n",
        "    objective='mse',\n",
        "    max_trials=1,\n",
        "    directory='output',\n",
        "    project_name='R1_Final_FGMS_LSTM_S&P500_New-data_model_5'\n",
        ")"
      ]
    },
    {
      "cell_type": "code",
      "execution_count": null,
      "id": "6f1b5003",
      "metadata": {
        "id": "6f1b5003"
      },
      "outputs": [],
      "source": [
        "tuner_search.search(\n",
        "        x=x_train,\n",
        "        y=y_train,\n",
        "        epochs=50,\n",
        "        batch_size=10,\n",
        "        validation_data=(x_test,y_test),\n",
        ")"
      ]
    },
    {
      "cell_type": "code",
      "execution_count": null,
      "id": "65baf156",
      "metadata": {
        "id": "65baf156"
      },
      "outputs": [],
      "source": [
        "model_1=tuner_search.get_best_models(num_models=1)[0]"
      ]
    },
    {
      "cell_type": "code",
      "execution_count": null,
      "id": "0a15ac7d",
      "metadata": {
        "id": "0a15ac7d"
      },
      "outputs": [],
      "source": [
        "# Fitting Model"
      ]
    },
    {
      "cell_type": "code",
      "execution_count": null,
      "id": "0b288df9",
      "metadata": {
        "id": "0b288df9"
      },
      "outputs": [],
      "source": [
        "model_1.summary()"
      ]
    },
    {
      "cell_type": "code",
      "execution_count": null,
      "id": "0f33eea0",
      "metadata": {
        "id": "0f33eea0"
      },
      "outputs": [],
      "source": [
        "model_1.fit(x=x_train,\n",
        "        y=y_train,\n",
        "        epochs=100,\n",
        "        batch_size=10,\n",
        "        validation_data=(x_test,x_test),\n",
        ")"
      ]
    },
    {
      "cell_type": "code",
      "execution_count": null,
      "id": "875ab9a5",
      "metadata": {
        "id": "875ab9a5"
      },
      "outputs": [],
      "source": [
        "train_pred = model_1.predict(x_train)\n",
        "test_pred = model_1.predict(x_test)"
      ]
    },
    {
      "cell_type": "code",
      "execution_count": null,
      "id": "bca5c1d0",
      "metadata": {
        "id": "bca5c1d0"
      },
      "outputs": [],
      "source": [
        "train_pred.shape"
      ]
    },
    {
      "cell_type": "code",
      "execution_count": null,
      "id": "11600bb4",
      "metadata": {
        "id": "11600bb4"
      },
      "outputs": [],
      "source": [
        "y_train.shape, train_pred.shape"
      ]
    },
    {
      "cell_type": "markdown",
      "id": "9267764f",
      "metadata": {
        "id": "9267764f"
      },
      "source": [
        "# Accuracy of Model"
      ]
    },
    {
      "cell_type": "code",
      "execution_count": null,
      "id": "97avyqyeXV6l",
      "metadata": {
        "id": "97avyqyeXV6l"
      },
      "outputs": [],
      "source": [
        "from tensorflow.keras.utils import plot_model"
      ]
    },
    {
      "cell_type": "code",
      "execution_count": null,
      "id": "zyWNWy-qXVF4",
      "metadata": {
        "id": "zyWNWy-qXVF4"
      },
      "outputs": [],
      "source": [
        "plot_model(model_1, show_shapes=True, show_layer_names=True)"
      ]
    },
    {
      "cell_type": "code",
      "execution_count": null,
      "id": "42a77efd",
      "metadata": {
        "id": "42a77efd"
      },
      "outputs": [],
      "source": [
        "rmse = np.sqrt(mean_squared_error(y_true = y_train, y_pred = train_pred))\n",
        "print(\"RMSE: {:.2f}\".format(rmse))"
      ]
    },
    {
      "cell_type": "code",
      "execution_count": null,
      "id": "8f1c0ccc",
      "metadata": {
        "id": "8f1c0ccc"
      },
      "outputs": [],
      "source": [
        "rmse = np.sqrt(mean_squared_error(y_true = y_test, y_pred = test_pred))\n",
        "print(\"RMSE: {:.2f}\".format(rmse))"
      ]
    },
    {
      "cell_type": "code",
      "execution_count": null,
      "id": "e9692f69",
      "metadata": {
        "id": "e9692f69"
      },
      "outputs": [],
      "source": [
        "train_pred = scaler.inverse_transform(train_pred)\n",
        "test_pred = scaler.inverse_transform(test_pred)\n",
        "train_pred.shape, test_pred.shape"
      ]
    },
    {
      "cell_type": "code",
      "execution_count": null,
      "id": "0184c530",
      "metadata": {
        "id": "0184c530"
      },
      "outputs": [],
      "source": [
        "math.sqrt(mean_squared_error(y_train, train_pred))"
      ]
    },
    {
      "cell_type": "code",
      "execution_count": null,
      "id": "d6e7cf72",
      "metadata": {
        "id": "d6e7cf72"
      },
      "outputs": [],
      "source": [
        "math.sqrt(mean_squared_error(y_test, test_pred))"
      ]
    },
    {
      "cell_type": "code",
      "execution_count": null,
      "id": "9b8565ac",
      "metadata": {
        "id": "9b8565ac"
      },
      "outputs": [],
      "source": [
        "df3.shape"
      ]
    },
    {
      "cell_type": "code",
      "execution_count": null,
      "id": "abf07e8f",
      "metadata": {
        "id": "abf07e8f"
      },
      "outputs": [],
      "source": [
        "import numpy\n",
        "### Plotting \n",
        "# shift train predictions for plotting\n",
        "look_back = 50\n",
        "trainPredictPlot = numpy.empty_like(df3)\n",
        "trainPredictPlot[:, :] = np.nan\n",
        "trainPredictPlot[look_back:len(train_pred)+look_back, :] = train_pred"
      ]
    },
    {
      "cell_type": "code",
      "execution_count": null,
      "id": "601a32ba",
      "metadata": {
        "id": "601a32ba"
      },
      "outputs": [],
      "source": [
        "# shift test predictions for plotting\n",
        "testPredictPlot = numpy.empty_like(df3)\n",
        "testPredictPlot[:, :] = numpy.nan\n",
        "testPredictPlot[len(train_pred)+(look_back*2)+1:len(df3)-1, :] = test_pred"
      ]
    },
    {
      "cell_type": "code",
      "execution_count": null,
      "id": "22c33d4c",
      "metadata": {
        "id": "22c33d4c"
      },
      "outputs": [],
      "source": [
        "testPredictPlot"
      ]
    },
    {
      "cell_type": "code",
      "execution_count": null,
      "id": "b55dc38c",
      "metadata": {
        "id": "b55dc38c"
      },
      "outputs": [],
      "source": [
        "df3 = scaler.inverse_transform(df3)"
      ]
    },
    {
      "cell_type": "markdown",
      "id": "241b77df",
      "metadata": {
        "id": "241b77df"
      },
      "source": [
        "# Visualization of Results"
      ]
    },
    {
      "cell_type": "code",
      "execution_count": null,
      "id": "48c92189",
      "metadata": {
        "id": "48c92189"
      },
      "outputs": [],
      "source": [
        "# plot baseline and predictions\n",
        "plt.figure(figsize = (18,10))\n",
        "plt.plot((df3),label = \"Original Dataset \")\n",
        "plt.plot((trainPredictPlot),label= \"Prediction X_train \")\n",
        "plt.plot((testPredictPlot),label = \"Prediction X_test \")\n",
        "plt.xlabel('Dateset', fontsize=18)\n",
        "plt.ylabel('Return USD ($)', fontsize=18)\n",
        "plt.legend()\n",
        "plt.show()"
      ]
    },
    {
      "cell_type": "code",
      "execution_count": null,
      "id": "7be7371d",
      "metadata": {
        "id": "7be7371d"
      },
      "outputs": [],
      "source": [
        "len(train_data),len(test_data)"
      ]
    },
    {
      "cell_type": "code",
      "execution_count": null,
      "id": "9a40c375",
      "metadata": {
        "id": "9a40c375"
      },
      "outputs": [],
      "source": [
        "time_stamp = 50\n",
        "var = len(test_data)-time_stamp\n",
        "x_input = test_data[var:].reshape(1,-1)\n",
        "x_input.shape"
      ]
    },
    {
      "cell_type": "code",
      "execution_count": null,
      "id": "c1373527",
      "metadata": {
        "id": "c1373527"
      },
      "outputs": [],
      "source": [
        "temp_input=list(x_input)\n",
        "temp_input=temp_input[0].tolist()\n"
      ]
    },
    {
      "cell_type": "code",
      "execution_count": null,
      "id": "7a30da59",
      "metadata": {
        "id": "7a30da59"
      },
      "outputs": [],
      "source": [
        "# demonstrate prediction for next 1 days\n",
        "from numpy import array\n",
        "\n",
        "lst_output=[]\n",
        "n_steps=50\n",
        "i=0\n",
        "while(i<1):\n",
        "    \n",
        "    if(len(temp_input)>n_steps):\n",
        "        #print(temp_input)\n",
        "        x_input=np.array(temp_input[1:])\n",
        "        #print(\"{} day input {}\".format(i,x_input))\n",
        "        x_input=x_input.reshape(1,-1)\n",
        "        x_input = x_input.reshape((1, n_steps, 1))\n",
        "        #print(x_input)\n",
        "        yhat = model_1.predict(x_input, verbose=0)\n",
        "        print(\"{} day output {}\".format(i,yhat))\n",
        "        temp_input.extend(yhat[0].tolist())\n",
        "        temp_input=temp_input[1:]\n",
        "        #print(temp_input)\n",
        "        lst_output.extend(yhat.tolist())\n",
        "        i=i+1\n",
        "    else:\n",
        "        x_input = x_input.reshape((1, n_steps,1))\n",
        "        yhat = model_1.predict(x_input, verbose=0)\n",
        "        print(yhat[0])\n",
        "        temp_input.extend(yhat[0].tolist())\n",
        "        print(len(temp_input))\n",
        "        lst_output.extend(yhat.tolist())\n",
        "        i=i+1\n",
        "    \n"
      ]
    },
    {
      "cell_type": "code",
      "execution_count": null,
      "id": "92cdfb7d",
      "metadata": {
        "id": "92cdfb7d"
      },
      "outputs": [],
      "source": [
        "lst_output = scaler.inverse_transform(lst_output)"
      ]
    },
    {
      "cell_type": "code",
      "execution_count": null,
      "id": "7f04accb",
      "metadata": {
        "id": "7f04accb"
      },
      "outputs": [],
      "source": [
        "day_new=np.arange(1,51)\n",
        "day_pred=np.arange(51,52)"
      ]
    },
    {
      "cell_type": "code",
      "execution_count": null,
      "id": "aaa94b31",
      "metadata": {
        "id": "aaa94b31"
      },
      "outputs": [],
      "source": [
        "import matplotlib.pyplot as plt"
      ]
    },
    {
      "cell_type": "code",
      "execution_count": null,
      "id": "53542492",
      "metadata": {
        "id": "53542492"
      },
      "outputs": [],
      "source": [
        "len(df3)"
      ]
    },
    {
      "cell_type": "markdown",
      "id": "7e5ec8da",
      "metadata": {
        "id": "7e5ec8da"
      },
      "source": [
        "# Ploting Predicted Value"
      ]
    },
    {
      "cell_type": "code",
      "execution_count": null,
      "id": "5d00a084",
      "metadata": {
        "id": "5d00a084"
      },
      "outputs": [],
      "source": [
        "var_1 = len(df3)-time_stamp\n",
        "plt.figure(figsize = (20,10))\n",
        "plt.plot(day_new,(df3[var_1:]))\n",
        "plt.scatter(day_pred,(lst_output), c = \"r\")\n",
        "plt.xlabel('Dateset', fontsize=18)\n",
        "plt.ylabel('Return USD ($)', fontsize=18)"
      ]
    },
    {
      "cell_type": "code",
      "execution_count": null,
      "id": "ccbf040f",
      "metadata": {
        "id": "ccbf040f"
      },
      "outputs": [],
      "source": [
        "plt.figure(figsize = (20,10))\n",
        "df3 = df3.tolist()\n",
        "df3.extend((lst_output))\n",
        "plt.plot((df3[var_1:]))\n",
        "plt.xlabel('Dateset', fontsize=18)\n",
        "plt.ylabel('Return USD ($)', fontsize=18)"
      ]
    },
    {
      "cell_type": "markdown",
      "id": "6167233a",
      "metadata": {
        "id": "6167233a"
      },
      "source": [
        "# Loading New Data for Cross Checking"
      ]
    },
    {
      "cell_type": "code",
      "execution_count": null,
      "id": "6afb894c",
      "metadata": {
        "id": "6afb894c",
        "scrolled": true
      },
      "outputs": [],
      "source": [
        "check_df = yf.download('^GSPC',start=\"2022-12-01\", end=\"2023-01-04\",interval='1d')"
      ]
    },
    {
      "cell_type": "code",
      "execution_count": null,
      "id": "c77ffacc",
      "metadata": {
        "id": "c77ffacc"
      },
      "outputs": [],
      "source": [
        "check_df[\"Close\"].tail(10)"
      ]
    },
    {
      "cell_type": "code",
      "execution_count": null,
      "id": "be11233b",
      "metadata": {
        "id": "be11233b"
      },
      "outputs": [],
      "source": [
        "check_df[\"Return\"] = check_df.Close.pct_change()"
      ]
    },
    {
      "cell_type": "code",
      "execution_count": null,
      "id": "a91c2910",
      "metadata": {
        "id": "a91c2910"
      },
      "outputs": [],
      "source": [
        "check_df1 = check_df[\"Return\"].dropna()\n",
        "check_df1,df1[1425:]"
      ]
    },
    {
      "cell_type": "code",
      "execution_count": null,
      "id": "4c69c8d3",
      "metadata": {
        "id": "4c69c8d3"
      },
      "outputs": [],
      "source": [
        "for_adding_date = yf.download('^GSPC',start=\"2018-01-31\", end=\"2022-12-31\",interval='1d')\n",
        "for_adding_date.shape\n",
        "for_adding_date.tail()"
      ]
    },
    {
      "cell_type": "code",
      "execution_count": null,
      "id": "3811305f",
      "metadata": {
        "id": "3811305f"
      },
      "outputs": [],
      "source": [
        "df4 = pd.DataFrame(df3)"
      ]
    },
    {
      "cell_type": "code",
      "execution_count": null,
      "id": "ccefd7bb",
      "metadata": {
        "id": "ccefd7bb"
      },
      "outputs": [],
      "source": [
        "df4 = df4.set_index(for_adding_date.index)"
      ]
    },
    {
      "cell_type": "code",
      "execution_count": null,
      "id": "6063629f",
      "metadata": {
        "id": "6063629f"
      },
      "outputs": [],
      "source": [
        "# Ploting Final comparision \n",
        "plt.figure(figsize = (20,10))\n",
        "plt.subplot(3,1,1)\n",
        "plt.plot(check_df1,label = \"New Data\")\n",
        "plt.ylabel('Return USD ($)', fontsize=18)\n",
        "plt.legend()\n",
        "plt.subplot(3,1,2)\n",
        "plt.plot(df2[var_1+30:], label = \"Original Data\", color = \"r\")\n",
        "plt.ylabel('Return USD ($)', fontsize=18)\n",
        "plt.legend()\n",
        "plt.subplot(3,1,3)\n",
        "plt.plot(df4[var_1+30:], label = \"Predicted Data\", c = \"g\")\n",
        "plt.xlabel('Dateset', fontsize=18)\n",
        "plt.ylabel('Return USD ($)', fontsize=18)\n",
        "plt.legend()"
      ]
    },
    {
      "cell_type": "code",
      "execution_count": null,
      "id": "ea2bc72d",
      "metadata": {
        "id": "ea2bc72d"
      },
      "outputs": [],
      "source": []
    }
  ],
  "metadata": {
    "accelerator": "GPU",
    "colab": {
      "private_outputs": true,
      "provenance": []
    },
    "gpuClass": "standard",
    "kernelspec": {
      "display_name": "Python 3 (ipykernel)",
      "language": "python",
      "name": "python3"
    },
    "language_info": {
      "codemirror_mode": {
        "name": "ipython",
        "version": 3
      },
      "file_extension": ".py",
      "mimetype": "text/x-python",
      "name": "python",
      "nbconvert_exporter": "python",
      "pygments_lexer": "ipython3",
      "version": "3.9.12"
    }
  },
  "nbformat": 4,
  "nbformat_minor": 5
}
