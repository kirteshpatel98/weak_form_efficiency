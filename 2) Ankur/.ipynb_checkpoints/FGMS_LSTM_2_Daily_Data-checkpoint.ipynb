{
 "cells": [
  {
   "cell_type": "code",
   "execution_count": 1,
   "id": "140a0895",
   "metadata": {},
   "outputs": [],
   "source": [
    "import pandas as pd\n",
    "import numpy as np\n",
    "import matplotlib.pyplot as plt\n",
    "from statsmodels.tsa.stattools import adfuller, acf, pacf\n",
    "import yfinance as yf\n"
   ]
  },
  {
   "cell_type": "code",
   "execution_count": 3,
   "id": "1b176160",
   "metadata": {},
   "outputs": [
    {
     "ename": "ModuleNotFoundError",
     "evalue": "No module named 'pandas_datareader'",
     "output_type": "error",
     "traceback": [
      "\u001b[1;31m---------------------------------------------------------------------------\u001b[0m",
      "\u001b[1;31mModuleNotFoundError\u001b[0m                       Traceback (most recent call last)",
      "Cell \u001b[1;32mIn[3], line 1\u001b[0m\n\u001b[1;32m----> 1\u001b[0m \u001b[38;5;28;01mimport\u001b[39;00m \u001b[38;5;21;01mpandas_datareader\u001b[39;00m \u001b[38;5;28;01mas\u001b[39;00m \u001b[38;5;21;01mpdr\u001b[39;00m\n\u001b[0;32m      2\u001b[0m \u001b[38;5;28;01mimport\u001b[39;00m \u001b[38;5;21;01mos\u001b[39;00m\n",
      "\u001b[1;31mModuleNotFoundError\u001b[0m: No module named 'pandas_datareader'"
     ]
    }
   ],
   "source": [
    "import pandas_datareader as pdr\n",
    "import os"
   ]
  },
  {
   "cell_type": "code",
   "execution_count": 4,
   "id": "bb573a6b",
   "metadata": {},
   "outputs": [
    {
     "name": "stdout",
     "output_type": "stream",
     "text": [
      "[*********************100%***********************]  1 of 1 completed\n"
     ]
    }
   ],
   "source": [
    "#nifty = pdr.get_data_tiingo(\"INDF\", api_key = \"30f0d443a2a115c661a899929861dccfa07e7478\" )\n",
    "nifty = yf.download('^NSEI',start=\"2018-10-01\", end=\"2022-09-30\",interval='1d')"
   ]
  },
  {
   "cell_type": "code",
   "execution_count": 5,
   "id": "de678b89",
   "metadata": {},
   "outputs": [],
   "source": [
    "nifty.to_csv(\"^NSEI.csv\")"
   ]
  },
  {
   "cell_type": "code",
   "execution_count": 6,
   "id": "e31a0387",
   "metadata": {},
   "outputs": [
    {
     "data": {
      "text/html": [
       "<div>\n",
       "<style scoped>\n",
       "    .dataframe tbody tr th:only-of-type {\n",
       "        vertical-align: middle;\n",
       "    }\n",
       "\n",
       "    .dataframe tbody tr th {\n",
       "        vertical-align: top;\n",
       "    }\n",
       "\n",
       "    .dataframe thead th {\n",
       "        text-align: right;\n",
       "    }\n",
       "</style>\n",
       "<table border=\"1\" class=\"dataframe\">\n",
       "  <thead>\n",
       "    <tr style=\"text-align: right;\">\n",
       "      <th></th>\n",
       "      <th>Date</th>\n",
       "      <th>Open</th>\n",
       "      <th>High</th>\n",
       "      <th>Low</th>\n",
       "      <th>Close</th>\n",
       "      <th>Adj Close</th>\n",
       "      <th>Volume</th>\n",
       "    </tr>\n",
       "  </thead>\n",
       "  <tbody>\n",
       "    <tr>\n",
       "      <th>0</th>\n",
       "      <td>2018-10-01</td>\n",
       "      <td>10930.900391</td>\n",
       "      <td>11035.650391</td>\n",
       "      <td>10821.549805</td>\n",
       "      <td>11008.299805</td>\n",
       "      <td>11008.299805</td>\n",
       "      <td>387000</td>\n",
       "    </tr>\n",
       "    <tr>\n",
       "      <th>1</th>\n",
       "      <td>2018-10-03</td>\n",
       "      <td>10982.700195</td>\n",
       "      <td>10989.049805</td>\n",
       "      <td>10843.750000</td>\n",
       "      <td>10858.250000</td>\n",
       "      <td>10858.250000</td>\n",
       "      <td>386800</td>\n",
       "    </tr>\n",
       "    <tr>\n",
       "      <th>2</th>\n",
       "      <td>2018-10-04</td>\n",
       "      <td>10754.700195</td>\n",
       "      <td>10754.700195</td>\n",
       "      <td>10547.250000</td>\n",
       "      <td>10599.250000</td>\n",
       "      <td>10599.250000</td>\n",
       "      <td>425100</td>\n",
       "    </tr>\n",
       "    <tr>\n",
       "      <th>3</th>\n",
       "      <td>2018-10-05</td>\n",
       "      <td>10514.099609</td>\n",
       "      <td>10540.650391</td>\n",
       "      <td>10261.900391</td>\n",
       "      <td>10316.450195</td>\n",
       "      <td>10316.450195</td>\n",
       "      <td>606400</td>\n",
       "    </tr>\n",
       "    <tr>\n",
       "      <th>4</th>\n",
       "      <td>2018-10-08</td>\n",
       "      <td>10310.150391</td>\n",
       "      <td>10398.349609</td>\n",
       "      <td>10198.400391</td>\n",
       "      <td>10348.049805</td>\n",
       "      <td>10348.049805</td>\n",
       "      <td>456200</td>\n",
       "    </tr>\n",
       "    <tr>\n",
       "      <th>...</th>\n",
       "      <td>...</td>\n",
       "      <td>...</td>\n",
       "      <td>...</td>\n",
       "      <td>...</td>\n",
       "      <td>...</td>\n",
       "      <td>...</td>\n",
       "      <td>...</td>\n",
       "    </tr>\n",
       "    <tr>\n",
       "      <th>980</th>\n",
       "      <td>2022-09-23</td>\n",
       "      <td>17593.849609</td>\n",
       "      <td>17642.150391</td>\n",
       "      <td>17291.650391</td>\n",
       "      <td>17327.349609</td>\n",
       "      <td>17327.349609</td>\n",
       "      <td>390800</td>\n",
       "    </tr>\n",
       "    <tr>\n",
       "      <th>981</th>\n",
       "      <td>2022-09-26</td>\n",
       "      <td>17156.300781</td>\n",
       "      <td>17196.400391</td>\n",
       "      <td>16978.300781</td>\n",
       "      <td>17016.300781</td>\n",
       "      <td>17016.300781</td>\n",
       "      <td>492000</td>\n",
       "    </tr>\n",
       "    <tr>\n",
       "      <th>982</th>\n",
       "      <td>2022-09-27</td>\n",
       "      <td>17110.900391</td>\n",
       "      <td>17176.449219</td>\n",
       "      <td>16942.349609</td>\n",
       "      <td>17007.400391</td>\n",
       "      <td>17007.400391</td>\n",
       "      <td>359900</td>\n",
       "    </tr>\n",
       "    <tr>\n",
       "      <th>983</th>\n",
       "      <td>2022-09-28</td>\n",
       "      <td>16870.550781</td>\n",
       "      <td>17037.599609</td>\n",
       "      <td>16820.400391</td>\n",
       "      <td>16858.599609</td>\n",
       "      <td>16858.599609</td>\n",
       "      <td>323900</td>\n",
       "    </tr>\n",
       "    <tr>\n",
       "      <th>984</th>\n",
       "      <td>2022-09-29</td>\n",
       "      <td>16993.599609</td>\n",
       "      <td>17026.050781</td>\n",
       "      <td>16788.599609</td>\n",
       "      <td>16818.099609</td>\n",
       "      <td>16818.099609</td>\n",
       "      <td>340000</td>\n",
       "    </tr>\n",
       "  </tbody>\n",
       "</table>\n",
       "<p>985 rows × 7 columns</p>\n",
       "</div>"
      ],
      "text/plain": [
       "           Date          Open          High           Low         Close  \\\n",
       "0    2018-10-01  10930.900391  11035.650391  10821.549805  11008.299805   \n",
       "1    2018-10-03  10982.700195  10989.049805  10843.750000  10858.250000   \n",
       "2    2018-10-04  10754.700195  10754.700195  10547.250000  10599.250000   \n",
       "3    2018-10-05  10514.099609  10540.650391  10261.900391  10316.450195   \n",
       "4    2018-10-08  10310.150391  10398.349609  10198.400391  10348.049805   \n",
       "..          ...           ...           ...           ...           ...   \n",
       "980  2022-09-23  17593.849609  17642.150391  17291.650391  17327.349609   \n",
       "981  2022-09-26  17156.300781  17196.400391  16978.300781  17016.300781   \n",
       "982  2022-09-27  17110.900391  17176.449219  16942.349609  17007.400391   \n",
       "983  2022-09-28  16870.550781  17037.599609  16820.400391  16858.599609   \n",
       "984  2022-09-29  16993.599609  17026.050781  16788.599609  16818.099609   \n",
       "\n",
       "        Adj Close  Volume  \n",
       "0    11008.299805  387000  \n",
       "1    10858.250000  386800  \n",
       "2    10599.250000  425100  \n",
       "3    10316.450195  606400  \n",
       "4    10348.049805  456200  \n",
       "..            ...     ...  \n",
       "980  17327.349609  390800  \n",
       "981  17016.300781  492000  \n",
       "982  17007.400391  359900  \n",
       "983  16858.599609  323900  \n",
       "984  16818.099609  340000  \n",
       "\n",
       "[985 rows x 7 columns]"
      ]
     },
     "execution_count": 6,
     "metadata": {},
     "output_type": "execute_result"
    }
   ],
   "source": [
    "nifty = pd.read_csv(\"^NSEI.csv\")\n",
    "nifty"
   ]
  },
  {
   "cell_type": "code",
   "execution_count": 7,
   "id": "9d2bac5f",
   "metadata": {},
   "outputs": [
    {
     "data": {
      "text/html": [
       "<div>\n",
       "<style scoped>\n",
       "    .dataframe tbody tr th:only-of-type {\n",
       "        vertical-align: middle;\n",
       "    }\n",
       "\n",
       "    .dataframe tbody tr th {\n",
       "        vertical-align: top;\n",
       "    }\n",
       "\n",
       "    .dataframe thead th {\n",
       "        text-align: right;\n",
       "    }\n",
       "</style>\n",
       "<table border=\"1\" class=\"dataframe\">\n",
       "  <thead>\n",
       "    <tr style=\"text-align: right;\">\n",
       "      <th></th>\n",
       "      <th>Date</th>\n",
       "      <th>Open</th>\n",
       "      <th>High</th>\n",
       "      <th>Low</th>\n",
       "      <th>Close</th>\n",
       "      <th>Adj Close</th>\n",
       "      <th>Volume</th>\n",
       "    </tr>\n",
       "  </thead>\n",
       "  <tbody>\n",
       "    <tr>\n",
       "      <th>980</th>\n",
       "      <td>2022-09-23</td>\n",
       "      <td>17593.849609</td>\n",
       "      <td>17642.150391</td>\n",
       "      <td>17291.650391</td>\n",
       "      <td>17327.349609</td>\n",
       "      <td>17327.349609</td>\n",
       "      <td>390800</td>\n",
       "    </tr>\n",
       "    <tr>\n",
       "      <th>981</th>\n",
       "      <td>2022-09-26</td>\n",
       "      <td>17156.300781</td>\n",
       "      <td>17196.400391</td>\n",
       "      <td>16978.300781</td>\n",
       "      <td>17016.300781</td>\n",
       "      <td>17016.300781</td>\n",
       "      <td>492000</td>\n",
       "    </tr>\n",
       "    <tr>\n",
       "      <th>982</th>\n",
       "      <td>2022-09-27</td>\n",
       "      <td>17110.900391</td>\n",
       "      <td>17176.449219</td>\n",
       "      <td>16942.349609</td>\n",
       "      <td>17007.400391</td>\n",
       "      <td>17007.400391</td>\n",
       "      <td>359900</td>\n",
       "    </tr>\n",
       "    <tr>\n",
       "      <th>983</th>\n",
       "      <td>2022-09-28</td>\n",
       "      <td>16870.550781</td>\n",
       "      <td>17037.599609</td>\n",
       "      <td>16820.400391</td>\n",
       "      <td>16858.599609</td>\n",
       "      <td>16858.599609</td>\n",
       "      <td>323900</td>\n",
       "    </tr>\n",
       "    <tr>\n",
       "      <th>984</th>\n",
       "      <td>2022-09-29</td>\n",
       "      <td>16993.599609</td>\n",
       "      <td>17026.050781</td>\n",
       "      <td>16788.599609</td>\n",
       "      <td>16818.099609</td>\n",
       "      <td>16818.099609</td>\n",
       "      <td>340000</td>\n",
       "    </tr>\n",
       "  </tbody>\n",
       "</table>\n",
       "</div>"
      ],
      "text/plain": [
       "           Date          Open          High           Low         Close  \\\n",
       "980  2022-09-23  17593.849609  17642.150391  17291.650391  17327.349609   \n",
       "981  2022-09-26  17156.300781  17196.400391  16978.300781  17016.300781   \n",
       "982  2022-09-27  17110.900391  17176.449219  16942.349609  17007.400391   \n",
       "983  2022-09-28  16870.550781  17037.599609  16820.400391  16858.599609   \n",
       "984  2022-09-29  16993.599609  17026.050781  16788.599609  16818.099609   \n",
       "\n",
       "        Adj Close  Volume  \n",
       "980  17327.349609  390800  \n",
       "981  17016.300781  492000  \n",
       "982  17007.400391  359900  \n",
       "983  16858.599609  323900  \n",
       "984  16818.099609  340000  "
      ]
     },
     "execution_count": 7,
     "metadata": {},
     "output_type": "execute_result"
    }
   ],
   "source": [
    "nifty.tail()"
   ]
  },
  {
   "cell_type": "code",
   "execution_count": 8,
   "id": "d54079f2",
   "metadata": {},
   "outputs": [
    {
     "data": {
      "text/plain": [
       "0      11008.299805\n",
       "1      10858.250000\n",
       "2      10599.250000\n",
       "3      10316.450195\n",
       "4      10348.049805\n",
       "           ...     \n",
       "980    17327.349609\n",
       "981    17016.300781\n",
       "982    17007.400391\n",
       "983    16858.599609\n",
       "984    16818.099609\n",
       "Name: Close, Length: 985, dtype: float64"
      ]
     },
     "execution_count": 8,
     "metadata": {},
     "output_type": "execute_result"
    }
   ],
   "source": [
    "nifty_1 = nifty.reset_index()[\"Close\"]\n",
    "nifty_1"
   ]
  },
  {
   "cell_type": "code",
   "execution_count": 9,
   "id": "7c511edb",
   "metadata": {},
   "outputs": [
    {
     "data": {
      "text/plain": [
       "[<matplotlib.lines.Line2D at 0x2c2522ec1f0>]"
      ]
     },
     "execution_count": 9,
     "metadata": {},
     "output_type": "execute_result"
    },
    {
     "data": {
      "image/png": "[encoded data removed]",
      "text/plain": [
       "<Figure size 640x480 with 1 Axes>"
      ]
     },
     "metadata": {},
     "output_type": "display_data"
    }
   ],
   "source": [
    "plt.plot(nifty_1)"
   ]
  },
  {
   "cell_type": "code",
   "execution_count": 10,
   "id": "3c9a1fb1",
   "metadata": {},
   "outputs": [],
   "source": [
    "from sklearn.preprocessing import MinMaxScaler\n",
    "scaler = MinMaxScaler(feature_range = (0,1) )\n",
    "nifty_2 = scaler.fit_transform(np.array(nifty_1).reshape(-1,1))"
   ]
  },
  {
   "cell_type": "code",
   "execution_count": 11,
   "id": "ad4401af",
   "metadata": {},
   "outputs": [
    {
     "data": {
      "text/plain": [
       "[<matplotlib.lines.Line2D at 0x2c2538e4e80>]"
      ]
     },
     "execution_count": 11,
     "metadata": {},
     "output_type": "execute_result"
    },
    {
     "data": {
      "image/png": "[encoded data removed]",
      "text/plain": [
       "<Figure size 2000x800 with 1 Axes>"
      ]
     },
     "metadata": {},
     "output_type": "display_data"
    }
   ],
   "source": [
    "plt.figure(figsize = (20,8))\n",
    "plt.plot(nifty_2)"
   ]
  },
  {
   "cell_type": "code",
   "execution_count": 12,
   "id": "05d46b20",
   "metadata": {},
   "outputs": [
    {
     "data": {
      "text/plain": [
       "(788, 197)"
      ]
     },
     "execution_count": 12,
     "metadata": {},
     "output_type": "execute_result"
    }
   ],
   "source": [
    "train_size = int(len(nifty_2)*0.8)\n",
    "test_size = len(nifty_2)-train_size\n",
    "train_size,test_size"
   ]
  },
  {
   "cell_type": "code",
   "execution_count": 13,
   "id": "22bceaab",
   "metadata": {},
   "outputs": [],
   "source": [
    "train_data,test_data = nifty_2[0:train_size,:],nifty_2[train_size:,:]"
   ]
  },
  {
   "cell_type": "code",
   "execution_count": 14,
   "id": "ad22c0ab",
   "metadata": {},
   "outputs": [
    {
     "data": {
      "text/plain": [
       "((788, 1), (197, 1))"
      ]
     },
     "execution_count": 14,
     "metadata": {},
     "output_type": "execute_result"
    }
   ],
   "source": [
    "train_data.shape,test_data.shape"
   ]
  },
  {
   "cell_type": "code",
   "execution_count": 15,
   "id": "6468cb7d",
   "metadata": {},
   "outputs": [],
   "source": [
    "def creat_dataset(data, time_stamp):\n",
    "    data_x, data_y = [], []\n",
    "    for i in range(len(data)-time_stamp-1):\n",
    "        a = data[i: i + time_stamp, 0]\n",
    "        data_x.append(a)\n",
    "        b = data[i+time_stamp,0]\n",
    "        data_y.append(b)\n",
    "    return data_x, data_y\n",
    "                "
   ]
  },
  {
   "cell_type": "code",
   "execution_count": 16,
   "id": "c86c2fe5",
   "metadata": {},
   "outputs": [],
   "source": [
    "x_train, y_train = creat_dataset(train_data,30)\n",
    "x_test, y_test = creat_dataset(test_data,30)"
   ]
  },
  {
   "cell_type": "code",
   "execution_count": 17,
   "id": "1e68d2ae",
   "metadata": {},
   "outputs": [
    {
     "data": {
      "text/plain": [
       "(array([[0.31270011, 0.29889202, 0.27505795, ..., 0.26428663, 0.27351656,\n",
       "         0.272946  ],\n",
       "        [0.29889202, 0.27505795, 0.24903375, ..., 0.27351656, 0.272946  ,\n",
       "         0.27666378],\n",
       "        [0.27505795, 0.24903375, 0.25194166, ..., 0.272946  , 0.27666378,\n",
       "         0.28269131],\n",
       "        ...,\n",
       "        [0.97551243, 0.94296382, 0.92588431, ..., 0.88033722, 0.90730475,\n",
       "         0.91163902],\n",
       "        [0.94296382, 0.92588431, 0.94962635, ..., 0.90730475, 0.91163902,\n",
       "         0.9111284 ],\n",
       "        [0.92588431, 0.94962635, 0.94588089, ..., 0.91163902, 0.9111284 ,\n",
       "         0.89796438]]),\n",
       " array([[0.88693541, 0.86271474, 0.82857406, ..., 0.87779741, 0.88965459,\n",
       "         0.87421317],\n",
       "        [0.86271474, 0.82857406, 0.84298956, ..., 0.88965459, 0.87421317,\n",
       "         0.87345847],\n",
       "        [0.82857406, 0.84298956, 0.85997704, ..., 0.87421317, 0.87345847,\n",
       "         0.89535088],\n",
       "        ...,\n",
       "        [0.92472018, 0.92832293, 0.94001907, ..., 0.93018174, 0.92203317,\n",
       "         0.89420058],\n",
       "        [0.92832293, 0.94001907, 0.95096986, ..., 0.92203317, 0.89420058,\n",
       "         0.86557681],\n",
       "        [0.94001907, 0.95096986, 0.95209715, ..., 0.89420058, 0.86557681,\n",
       "         0.86475777]]))"
      ]
     },
     "execution_count": 17,
     "metadata": {},
     "output_type": "execute_result"
    }
   ],
   "source": [
    "x_train = np.asarray(x_train)\n",
    "x_test = np.asarray(x_test)\n",
    "y_train = np.asarray(y_train)\n",
    "y_test = np.asarray(y_test)\n",
    "x_train,x_test"
   ]
  },
  {
   "cell_type": "code",
   "execution_count": 18,
   "id": "eb33df2e",
   "metadata": {},
   "outputs": [
    {
     "data": {
      "text/html": [
       "<div>\n",
       "<style scoped>\n",
       "    .dataframe tbody tr th:only-of-type {\n",
       "        vertical-align: middle;\n",
       "    }\n",
       "\n",
       "    .dataframe tbody tr th {\n",
       "        vertical-align: top;\n",
       "    }\n",
       "\n",
       "    .dataframe thead th {\n",
       "        text-align: right;\n",
       "    }\n",
       "</style>\n",
       "<table border=\"1\" class=\"dataframe\">\n",
       "  <thead>\n",
       "    <tr style=\"text-align: right;\">\n",
       "      <th></th>\n",
       "      <th>0</th>\n",
       "      <th>1</th>\n",
       "      <th>2</th>\n",
       "      <th>3</th>\n",
       "      <th>4</th>\n",
       "      <th>5</th>\n",
       "      <th>6</th>\n",
       "      <th>7</th>\n",
       "      <th>8</th>\n",
       "      <th>9</th>\n",
       "      <th>...</th>\n",
       "      <th>20</th>\n",
       "      <th>21</th>\n",
       "      <th>22</th>\n",
       "      <th>23</th>\n",
       "      <th>24</th>\n",
       "      <th>25</th>\n",
       "      <th>26</th>\n",
       "      <th>27</th>\n",
       "      <th>28</th>\n",
       "      <th>29</th>\n",
       "    </tr>\n",
       "  </thead>\n",
       "  <tbody>\n",
       "    <tr>\n",
       "      <th>0</th>\n",
       "      <td>0.219491</td>\n",
       "      <td>0.209799</td>\n",
       "      <td>0.193069</td>\n",
       "      <td>0.174802</td>\n",
       "      <td>0.176843</td>\n",
       "      <td>0.173808</td>\n",
       "      <td>0.184081</td>\n",
       "      <td>0.169519</td>\n",
       "      <td>0.184882</td>\n",
       "      <td>0.187466</td>\n",
       "      <td>...</td>\n",
       "      <td>0.179334</td>\n",
       "      <td>0.178936</td>\n",
       "      <td>0.190082</td>\n",
       "      <td>0.188209</td>\n",
       "      <td>0.188596</td>\n",
       "      <td>0.193014</td>\n",
       "      <td>0.192162</td>\n",
       "      <td>0.185509</td>\n",
       "      <td>0.191987</td>\n",
       "      <td>0.191587</td>\n",
       "    </tr>\n",
       "    <tr>\n",
       "      <th>1</th>\n",
       "      <td>0.210905</td>\n",
       "      <td>0.194087</td>\n",
       "      <td>0.175724</td>\n",
       "      <td>0.177776</td>\n",
       "      <td>0.174724</td>\n",
       "      <td>0.185052</td>\n",
       "      <td>0.170413</td>\n",
       "      <td>0.185857</td>\n",
       "      <td>0.188454</td>\n",
       "      <td>0.193146</td>\n",
       "      <td>...</td>\n",
       "      <td>0.179880</td>\n",
       "      <td>0.191084</td>\n",
       "      <td>0.189201</td>\n",
       "      <td>0.189591</td>\n",
       "      <td>0.194032</td>\n",
       "      <td>0.193175</td>\n",
       "      <td>0.186487</td>\n",
       "      <td>0.193000</td>\n",
       "      <td>0.192597</td>\n",
       "      <td>0.195221</td>\n",
       "    </tr>\n",
       "    <tr>\n",
       "      <th>2</th>\n",
       "      <td>0.194544</td>\n",
       "      <td>0.176138</td>\n",
       "      <td>0.178195</td>\n",
       "      <td>0.175135</td>\n",
       "      <td>0.185488</td>\n",
       "      <td>0.170814</td>\n",
       "      <td>0.186295</td>\n",
       "      <td>0.188898</td>\n",
       "      <td>0.193601</td>\n",
       "      <td>0.185029</td>\n",
       "      <td>...</td>\n",
       "      <td>0.191534</td>\n",
       "      <td>0.189647</td>\n",
       "      <td>0.190037</td>\n",
       "      <td>0.194489</td>\n",
       "      <td>0.193630</td>\n",
       "      <td>0.186926</td>\n",
       "      <td>0.193454</td>\n",
       "      <td>0.193051</td>\n",
       "      <td>0.195680</td>\n",
       "      <td>0.199943</td>\n",
       "    </tr>\n",
       "    <tr>\n",
       "      <th>3</th>\n",
       "      <td>0.175763</td>\n",
       "      <td>0.177815</td>\n",
       "      <td>0.174763</td>\n",
       "      <td>0.185093</td>\n",
       "      <td>0.170450</td>\n",
       "      <td>0.185898</td>\n",
       "      <td>0.188496</td>\n",
       "      <td>0.193188</td>\n",
       "      <td>0.184635</td>\n",
       "      <td>0.174925</td>\n",
       "      <td>...</td>\n",
       "      <td>0.189243</td>\n",
       "      <td>0.189633</td>\n",
       "      <td>0.194075</td>\n",
       "      <td>0.193218</td>\n",
       "      <td>0.186528</td>\n",
       "      <td>0.193042</td>\n",
       "      <td>0.192640</td>\n",
       "      <td>0.195264</td>\n",
       "      <td>0.199518</td>\n",
       "      <td>0.204791</td>\n",
       "    </tr>\n",
       "    <tr>\n",
       "      <th>4</th>\n",
       "      <td>0.177087</td>\n",
       "      <td>0.174047</td>\n",
       "      <td>0.184334</td>\n",
       "      <td>0.169752</td>\n",
       "      <td>0.185136</td>\n",
       "      <td>0.187724</td>\n",
       "      <td>0.192397</td>\n",
       "      <td>0.183878</td>\n",
       "      <td>0.174208</td>\n",
       "      <td>0.170437</td>\n",
       "      <td>...</td>\n",
       "      <td>0.188856</td>\n",
       "      <td>0.193280</td>\n",
       "      <td>0.192426</td>\n",
       "      <td>0.185764</td>\n",
       "      <td>0.192252</td>\n",
       "      <td>0.191850</td>\n",
       "      <td>0.194464</td>\n",
       "      <td>0.198700</td>\n",
       "      <td>0.203953</td>\n",
       "      <td>0.197019</td>\n",
       "    </tr>\n",
       "    <tr>\n",
       "      <th>...</th>\n",
       "      <td>...</td>\n",
       "      <td>...</td>\n",
       "      <td>...</td>\n",
       "      <td>...</td>\n",
       "      <td>...</td>\n",
       "      <td>...</td>\n",
       "      <td>...</td>\n",
       "      <td>...</td>\n",
       "      <td>...</td>\n",
       "      <td>...</td>\n",
       "      <td>...</td>\n",
       "      <td>...</td>\n",
       "      <td>...</td>\n",
       "      <td>...</td>\n",
       "      <td>...</td>\n",
       "      <td>...</td>\n",
       "      <td>...</td>\n",
       "      <td>...</td>\n",
       "      <td>...</td>\n",
       "      <td>...</td>\n",
       "      <td>...</td>\n",
       "    </tr>\n",
       "    <tr>\n",
       "      <th>752</th>\n",
       "      <td>0.190518</td>\n",
       "      <td>0.193109</td>\n",
       "      <td>0.192068</td>\n",
       "      <td>0.185659</td>\n",
       "      <td>0.182296</td>\n",
       "      <td>0.186971</td>\n",
       "      <td>0.186234</td>\n",
       "      <td>0.185151</td>\n",
       "      <td>0.186738</td>\n",
       "      <td>0.189488</td>\n",
       "      <td>...</td>\n",
       "      <td>0.177647</td>\n",
       "      <td>0.179843</td>\n",
       "      <td>0.170606</td>\n",
       "      <td>0.171105</td>\n",
       "      <td>0.169823</td>\n",
       "      <td>0.173151</td>\n",
       "      <td>0.177404</td>\n",
       "      <td>0.173691</td>\n",
       "      <td>0.168537</td>\n",
       "      <td>0.173329</td>\n",
       "    </tr>\n",
       "    <tr>\n",
       "      <th>753</th>\n",
       "      <td>0.193533</td>\n",
       "      <td>0.192490</td>\n",
       "      <td>0.186068</td>\n",
       "      <td>0.182697</td>\n",
       "      <td>0.187382</td>\n",
       "      <td>0.186643</td>\n",
       "      <td>0.185558</td>\n",
       "      <td>0.187149</td>\n",
       "      <td>0.189904</td>\n",
       "      <td>0.189463</td>\n",
       "      <td>...</td>\n",
       "      <td>0.180239</td>\n",
       "      <td>0.170982</td>\n",
       "      <td>0.171481</td>\n",
       "      <td>0.170196</td>\n",
       "      <td>0.173532</td>\n",
       "      <td>0.177795</td>\n",
       "      <td>0.174073</td>\n",
       "      <td>0.168908</td>\n",
       "      <td>0.173710</td>\n",
       "      <td>0.179031</td>\n",
       "    </tr>\n",
       "    <tr>\n",
       "      <th>754</th>\n",
       "      <td>0.192983</td>\n",
       "      <td>0.186544</td>\n",
       "      <td>0.183165</td>\n",
       "      <td>0.187862</td>\n",
       "      <td>0.187121</td>\n",
       "      <td>0.186033</td>\n",
       "      <td>0.187628</td>\n",
       "      <td>0.190390</td>\n",
       "      <td>0.189948</td>\n",
       "      <td>0.189455</td>\n",
       "      <td>...</td>\n",
       "      <td>0.171419</td>\n",
       "      <td>0.171920</td>\n",
       "      <td>0.170632</td>\n",
       "      <td>0.173976</td>\n",
       "      <td>0.178249</td>\n",
       "      <td>0.174518</td>\n",
       "      <td>0.169340</td>\n",
       "      <td>0.174154</td>\n",
       "      <td>0.179489</td>\n",
       "      <td>0.180347</td>\n",
       "    </tr>\n",
       "    <tr>\n",
       "      <th>755</th>\n",
       "      <td>0.186989</td>\n",
       "      <td>0.183602</td>\n",
       "      <td>0.188310</td>\n",
       "      <td>0.187567</td>\n",
       "      <td>0.186477</td>\n",
       "      <td>0.188075</td>\n",
       "      <td>0.190844</td>\n",
       "      <td>0.190401</td>\n",
       "      <td>0.189907</td>\n",
       "      <td>0.187287</td>\n",
       "      <td>...</td>\n",
       "      <td>0.172330</td>\n",
       "      <td>0.171039</td>\n",
       "      <td>0.174391</td>\n",
       "      <td>0.178675</td>\n",
       "      <td>0.174935</td>\n",
       "      <td>0.169744</td>\n",
       "      <td>0.174570</td>\n",
       "      <td>0.179917</td>\n",
       "      <td>0.180777</td>\n",
       "      <td>0.180676</td>\n",
       "    </tr>\n",
       "    <tr>\n",
       "      <th>756</th>\n",
       "      <td>0.183901</td>\n",
       "      <td>0.188617</td>\n",
       "      <td>0.187873</td>\n",
       "      <td>0.186781</td>\n",
       "      <td>0.188382</td>\n",
       "      <td>0.191156</td>\n",
       "      <td>0.190712</td>\n",
       "      <td>0.190217</td>\n",
       "      <td>0.187593</td>\n",
       "      <td>0.191781</td>\n",
       "      <td>...</td>\n",
       "      <td>0.171318</td>\n",
       "      <td>0.174676</td>\n",
       "      <td>0.178966</td>\n",
       "      <td>0.175220</td>\n",
       "      <td>0.170021</td>\n",
       "      <td>0.174855</td>\n",
       "      <td>0.180211</td>\n",
       "      <td>0.181072</td>\n",
       "      <td>0.180971</td>\n",
       "      <td>0.178356</td>\n",
       "    </tr>\n",
       "  </tbody>\n",
       "</table>\n",
       "<p>757 rows × 30 columns</p>\n",
       "</div>"
      ],
      "text/plain": [
       "           0         1         2         3         4         5         6   \\\n",
       "0    0.219491  0.209799  0.193069  0.174802  0.176843  0.173808  0.184081   \n",
       "1    0.210905  0.194087  0.175724  0.177776  0.174724  0.185052  0.170413   \n",
       "2    0.194544  0.176138  0.178195  0.175135  0.185488  0.170814  0.186295   \n",
       "3    0.175763  0.177815  0.174763  0.185093  0.170450  0.185898  0.188496   \n",
       "4    0.177087  0.174047  0.184334  0.169752  0.185136  0.187724  0.192397   \n",
       "..        ...       ...       ...       ...       ...       ...       ...   \n",
       "752  0.190518  0.193109  0.192068  0.185659  0.182296  0.186971  0.186234   \n",
       "753  0.193533  0.192490  0.186068  0.182697  0.187382  0.186643  0.185558   \n",
       "754  0.192983  0.186544  0.183165  0.187862  0.187121  0.186033  0.187628   \n",
       "755  0.186989  0.183602  0.188310  0.187567  0.186477  0.188075  0.190844   \n",
       "756  0.183901  0.188617  0.187873  0.186781  0.188382  0.191156  0.190712   \n",
       "\n",
       "           7         8         9   ...        20        21        22  \\\n",
       "0    0.169519  0.184882  0.187466  ...  0.179334  0.178936  0.190082   \n",
       "1    0.185857  0.188454  0.193146  ...  0.179880  0.191084  0.189201   \n",
       "2    0.188898  0.193601  0.185029  ...  0.191534  0.189647  0.190037   \n",
       "3    0.193188  0.184635  0.174925  ...  0.189243  0.189633  0.194075   \n",
       "4    0.183878  0.174208  0.170437  ...  0.188856  0.193280  0.192426   \n",
       "..        ...       ...       ...  ...       ...       ...       ...   \n",
       "752  0.185151  0.186738  0.189488  ...  0.177647  0.179843  0.170606   \n",
       "753  0.187149  0.189904  0.189463  ...  0.180239  0.170982  0.171481   \n",
       "754  0.190390  0.189948  0.189455  ...  0.171419  0.171920  0.170632   \n",
       "755  0.190401  0.189907  0.187287  ...  0.172330  0.171039  0.174391   \n",
       "756  0.190217  0.187593  0.191781  ...  0.171318  0.174676  0.178966   \n",
       "\n",
       "           23        24        25        26        27        28        29  \n",
       "0    0.188209  0.188596  0.193014  0.192162  0.185509  0.191987  0.191587  \n",
       "1    0.189591  0.194032  0.193175  0.186487  0.193000  0.192597  0.195221  \n",
       "2    0.194489  0.193630  0.186926  0.193454  0.193051  0.195680  0.199943  \n",
       "3    0.193218  0.186528  0.193042  0.192640  0.195264  0.199518  0.204791  \n",
       "4    0.185764  0.192252  0.191850  0.194464  0.198700  0.203953  0.197019  \n",
       "..        ...       ...       ...       ...       ...       ...       ...  \n",
       "752  0.171105  0.169823  0.173151  0.177404  0.173691  0.168537  0.173329  \n",
       "753  0.170196  0.173532  0.177795  0.174073  0.168908  0.173710  0.179031  \n",
       "754  0.173976  0.178249  0.174518  0.169340  0.174154  0.179489  0.180347  \n",
       "755  0.178675  0.174935  0.169744  0.174570  0.179917  0.180777  0.180676  \n",
       "756  0.175220  0.170021  0.174855  0.180211  0.181072  0.180971  0.178356  \n",
       "\n",
       "[757 rows x 30 columns]"
      ]
     },
     "execution_count": 18,
     "metadata": {},
     "output_type": "execute_result"
    }
   ],
   "source": [
    "import seaborn as sns \n",
    "from sklearn.preprocessing import Normalizer\n",
    "normalizedx_train = Normalizer().fit_transform(x_train)\n",
    "\n",
    "normalizedx_train = pd.DataFrame(normalizedx_train)\n",
    "normalizedx_train"
   ]
  },
  {
   "cell_type": "code",
   "execution_count": null,
   "id": "11c503e0",
   "metadata": {
    "scrolled": true
   },
   "outputs": [
    {
     "data": {
      "text/plain": [
       "<AxesSubplot:>"
      ]
     },
     "execution_count": 19,
     "metadata": {},
     "output_type": "execute_result"
    }
   ],
   "source": [
    "# plot correlation heatmap\n",
    "plt.figure(figsize = (20,10))\n",
    "sns.heatmap(normalizedx_train.corr(), annot = True)"
   ]
  },
  {
   "cell_type": "code",
   "execution_count": null,
   "id": "ec51a464",
   "metadata": {},
   "outputs": [],
   "source": [
    "x_train = x_train.reshape(x_train.shape[0], x_train.shape[1],1)\n",
    "x_test = x_test.reshape(x_test.shape[0], x_test.shape[1],1)"
   ]
  },
  {
   "cell_type": "code",
   "execution_count": null,
   "id": "765f8e7f",
   "metadata": {},
   "outputs": [],
   "source": [
    "x_train.shape, x_test.shape"
   ]
  },
  {
   "cell_type": "code",
   "execution_count": null,
   "id": "388110cb",
   "metadata": {},
   "outputs": [],
   "source": [
    "from tensorflow.keras.models import Sequential\n",
    "from tensorflow.keras.layers import Dense\n",
    "from tensorflow.keras.layers import LSTM"
   ]
  },
  {
   "cell_type": "code",
   "execution_count": null,
   "id": "0d9152e3",
   "metadata": {},
   "outputs": [],
   "source": [
    "model_1 = Sequential()\n",
    "model_1.add(LSTM(50, return_sequences = True, input_shape = (30,1)))\n",
    "model_1.add(LSTM(50, return_sequences= True))\n",
    "model_1.add(LSTM(50))\n",
    "model_1.add(Dense(1))\n",
    "model_1.compile(loss= \"mean_squared_error\", optimizer = \"adam\")"
   ]
  },
  {
   "cell_type": "code",
   "execution_count": null,
   "id": "a3f6e64e",
   "metadata": {},
   "outputs": [],
   "source": [
    "model_1.summary()"
   ]
  },
  {
   "cell_type": "code",
   "execution_count": null,
   "id": "93099566",
   "metadata": {},
   "outputs": [],
   "source": [
    "\n",
    "start_time = time.time()\n",
    "\n",
    "# your code goes here\n",
    "\n",
    "end_time = time.time()\n",
    "\n",
    "print(\"Time taken:\", end_time - start_time, \"seconds\")"
   ]
  },
  {
   "cell_type": "code",
   "execution_count": null,
   "id": "a08395d1",
   "metadata": {},
   "outputs": [],
   "source": [
    "model_1.fit(x_train, y_train, validation_data= (x_test, y_test), epochs= 50, batch_size = 64, verbose = 1)"
   ]
  },
  {
   "cell_type": "code",
   "execution_count": null,
   "id": "875ab9a5",
   "metadata": {},
   "outputs": [],
   "source": [
    "train_pred = model_1.predict(x_train)\n",
    "test_pred = model_1.predict(x_test)\n",
    "train_pred, test_pred"
   ]
  },
  {
   "cell_type": "code",
   "execution_count": null,
   "id": "e9692f69",
   "metadata": {},
   "outputs": [],
   "source": [
    "train_pred = scaler.inverse_transform(train_pred)\n",
    "test_pred = scaler.inverse_transform(test_pred)\n",
    "train_pred, test_pred"
   ]
  },
  {
   "cell_type": "code",
   "execution_count": null,
   "id": "b691c5f3",
   "metadata": {},
   "outputs": [],
   "source": [
    "import math\n",
    "from sklearn.metrics import mean_squared_error"
   ]
  },
  {
   "cell_type": "code",
   "execution_count": null,
   "id": "0184c530",
   "metadata": {},
   "outputs": [],
   "source": [
    "math.sqrt(mean_squared_error(y_train, train_pred))"
   ]
  },
  {
   "cell_type": "code",
   "execution_count": null,
   "id": "d6e7cf72",
   "metadata": {},
   "outputs": [],
   "source": [
    "math.sqrt(mean_squared_error(y_test, test_pred))"
   ]
  },
  {
   "cell_type": "code",
   "execution_count": null,
   "id": "5e5592b8",
   "metadata": {},
   "outputs": [],
   "source": [
    "import numpy\n",
    "### Plotting \n",
    "# shift train predictions for plotting\n",
    "look_back = 30\n",
    "trainPredictPlot = numpy.empty_like(nifty_2)\n",
    "trainPredictPlot[:, :] = np.nan\n",
    "trainPredictPlot[look_back:len(train_pred)+look_back, :] = train_pred"
   ]
  },
  {
   "cell_type": "code",
   "execution_count": null,
   "id": "601a32ba",
   "metadata": {},
   "outputs": [],
   "source": [
    "# shift test predictions for plotting\n",
    "testPredictPlot = numpy.empty_like(nifty_2)\n",
    "testPredictPlot[:, :] = numpy.nan\n",
    "testPredictPlot[len(train_pred)+(look_back*2)+1:len(nifty_2)-1, :] = test_pred"
   ]
  },
  {
   "cell_type": "code",
   "execution_count": null,
   "id": "48c92189",
   "metadata": {},
   "outputs": [],
   "source": [
    "# plot baseline and predictions\n",
    "plt.figure(figsize = (18,10))\n",
    "plt.plot(scaler.inverse_transform(nifty_2))\n",
    "plt.plot(trainPredictPlot)\n",
    "plt.plot(testPredictPlot)\n",
    "plt.show()"
   ]
  },
  {
   "cell_type": "code",
   "execution_count": null,
   "id": "7be7371d",
   "metadata": {},
   "outputs": [],
   "source": [
    "len(train_data),len(test_data)"
   ]
  },
  {
   "cell_type": "code",
   "execution_count": null,
   "id": "9448277c",
   "metadata": {},
   "outputs": [],
   "source": [
    "x_input = test_data[167:].reshape(1,-1)\n",
    "x_input.shape"
   ]
  },
  {
   "cell_type": "code",
   "execution_count": null,
   "id": "9adb8fbe",
   "metadata": {},
   "outputs": [],
   "source": [
    "temp_input=list(x_input)\n",
    "temp_input=temp_input[0].tolist()"
   ]
  },
  {
   "cell_type": "code",
   "execution_count": null,
   "id": "cfa2572f",
   "metadata": {},
   "outputs": [],
   "source": [
    "temp_input"
   ]
  },
  {
   "cell_type": "code",
   "execution_count": null,
   "id": "ddea1595",
   "metadata": {},
   "outputs": [],
   "source": [
    "# demonstrate prediction for next 10 days\n",
    "from numpy import array\n",
    "\n",
    "lst_output=[]\n",
    "n_steps=30\n",
    "i=0\n",
    "while(i<5):\n",
    "    \n",
    "    if(len(temp_input)>30):\n",
    "        #print(temp_input)\n",
    "        x_input=np.array(temp_input[1:])\n",
    "        print(\"{} day input {}\".format(i,x_input))\n",
    "        x_input=x_input.reshape(1,-1)\n",
    "        x_input = x_input.reshape((1, n_steps, 1))\n",
    "        #print(x_input)\n",
    "        yhat = model_1.predict(x_input, verbose=0)\n",
    "        print(\"{} day output {}\".format(i,yhat))\n",
    "        temp_input.extend(yhat[0].tolist())\n",
    "        temp_input=temp_input[1:]\n",
    "        #print(temp_input)\n",
    "        lst_output.extend(yhat.tolist())\n",
    "        i=i+1\n",
    "    else:\n",
    "        x_input = x_input.reshape((1, n_steps,1))\n",
    "        yhat = model_1.predict(x_input, verbose=0)\n",
    "        print(yhat[0])\n",
    "        temp_input.extend(yhat[0].tolist())\n",
    "        print(len(temp_input))\n",
    "        lst_output.extend(yhat.tolist())\n",
    "        i=i+1\n",
    "    \n",
    "\n",
    "print(lst_output)"
   ]
  },
  {
   "cell_type": "code",
   "execution_count": null,
   "id": "c3258b60",
   "metadata": {},
   "outputs": [],
   "source": [
    "day_new=np.arange(1,31)\n",
    "day_pred=np.arange(31,36)"
   ]
  },
  {
   "cell_type": "code",
   "execution_count": null,
   "id": "787875d5",
   "metadata": {},
   "outputs": [],
   "source": [
    "import matplotlib.pyplot as plt"
   ]
  },
  {
   "cell_type": "code",
   "execution_count": null,
   "id": "53542492",
   "metadata": {},
   "outputs": [],
   "source": [
    "len(nifty_2)"
   ]
  },
  {
   "cell_type": "code",
   "execution_count": null,
   "id": "4da3ea5e",
   "metadata": {},
   "outputs": [],
   "source": [
    "plt.plot(day_new,scaler.inverse_transform(nifty_2[955:]))\n",
    "plt.plot(day_pred,scaler.inverse_transform(lst_output))"
   ]
  },
  {
   "cell_type": "code",
   "execution_count": null,
   "id": "08ba638a",
   "metadata": {},
   "outputs": [],
   "source": [
    "nifty_3=nifty_2.tolist()\n",
    "nifty_3.extend(lst_output)\n",
    "plt.plot(nifty_3[955:])"
   ]
  },
  {
   "cell_type": "code",
   "execution_count": null,
   "id": "f5ae1b81",
   "metadata": {},
   "outputs": [],
   "source": [
    "check_nifty = yf.download('^NSEI',start=\"2022-09-01\", end=\"2022-10-05\",interval='1d')"
   ]
  },
  {
   "cell_type": "code",
   "execution_count": null,
   "id": "bcfdce50",
   "metadata": {},
   "outputs": [],
   "source": [
    "check_nifty_1 = check_nifty.reset_index()[\"Close\"]\n",
    "check_nifty_1"
   ]
  },
  {
   "cell_type": "code",
   "execution_count": null,
   "id": "6063629f",
   "metadata": {},
   "outputs": [],
   "source": [
    "plt.plot(check_nifty_1)"
   ]
  },
  {
   "cell_type": "markdown",
   "id": "a3a96e86",
   "metadata": {},
   "source": [
    "# Prediction for next 10 days"
   ]
  },
  {
   "cell_type": "code",
   "execution_count": null,
   "id": "b480c17f",
   "metadata": {},
   "outputs": [],
   "source": [
    "# demonstrate prediction for next 10 days\n",
    "from numpy import array\n",
    "\n",
    "lst_output_10=[]\n",
    "n_steps=30\n",
    "i=0\n",
    "while(i<10):\n",
    "    \n",
    "    if(len(temp_input)>30):\n",
    "        #print(temp_input)\n",
    "        x_input=np.array(temp_input[1:])\n",
    "        print(\"{} day input {}\".format(i,x_input))\n",
    "        x_input=x_input.reshape(1,-1)\n",
    "        x_input = x_input.reshape((1, n_steps, 1))\n",
    "        #print(x_input)\n",
    "        yhat = model_1.predict(x_input, verbose=0)\n",
    "        print(\"{} day output {}\".format(i,yhat))\n",
    "        temp_input.extend(yhat[0].tolist())\n",
    "        temp_input=temp_input[1:]\n",
    "        #print(temp_input)\n",
    "        lst_output_10.extend(yhat.tolist())\n",
    "        i=i+1\n",
    "    else:\n",
    "        x_input = x_input.reshape((1, n_steps,1))\n",
    "        yhat = model_1.predict(x_input, verbose=0)\n",
    "        print(yhat[0])\n",
    "        temp_input.extend(yhat[0].tolist())\n",
    "        print(len(temp_input))\n",
    "        lst_output_10.extend(yhat.tolist())\n",
    "        i=i+1\n",
    "    \n",
    "\n",
    "print(lst_output_10)"
   ]
  },
  {
   "cell_type": "code",
   "execution_count": null,
   "id": "73efb8ae",
   "metadata": {},
   "outputs": [],
   "source": [
    "day_new_10=np.arange(1,31)\n",
    "day_pred_10=np.arange(31,41)"
   ]
  },
  {
   "cell_type": "code",
   "execution_count": null,
   "id": "5d556ff3",
   "metadata": {},
   "outputs": [],
   "source": [
    "plt.plot(day_new_10,scaler.inverse_transform(nifty_2[955:]))\n",
    "plt.plot(day_pred_10,scaler.inverse_transform(lst_output_10))"
   ]
  },
  {
   "cell_type": "code",
   "execution_count": null,
   "id": "696b9934",
   "metadata": {},
   "outputs": [],
   "source": [
    "plt.plot(check_nifty_1)"
   ]
  },
  {
   "cell_type": "markdown",
   "id": "51fd5495",
   "metadata": {},
   "source": [
    "# German Market"
   ]
  },
  {
   "cell_type": "code",
   "execution_count": null,
   "id": "90455fab",
   "metadata": {},
   "outputs": [],
   "source": [
    "sdax = yf.download('^SDAXI',start=\"2018-10-01\", end=\"2022-09-30\",interval='1d')"
   ]
  },
  {
   "cell_type": "code",
   "execution_count": null,
   "id": "0fe29023",
   "metadata": {},
   "outputs": [],
   "source": [
    "sdax = sdax.reset_index()[\"Close\"]"
   ]
  },
  {
   "cell_type": "code",
   "execution_count": null,
   "id": "eb7c8823",
   "metadata": {},
   "outputs": [],
   "source": [
    "sdax"
   ]
  },
  {
   "cell_type": "code",
   "execution_count": null,
   "id": "1a6cacb2",
   "metadata": {},
   "outputs": [],
   "source": [
    "plt.figure(figsize = (18, 8))\n",
    "plt.plot(sdax[900:])"
   ]
  },
  {
   "cell_type": "code",
   "execution_count": null,
   "id": "83c4afa6",
   "metadata": {},
   "outputs": [],
   "source": [
    "sdax_1 = scaler.fit_transform(np.array(sdax).reshape(-1,1))"
   ]
  },
  {
   "cell_type": "code",
   "execution_count": null,
   "id": "441ffcad",
   "metadata": {},
   "outputs": [],
   "source": [
    "sdax_1"
   ]
  },
  {
   "cell_type": "code",
   "execution_count": null,
   "id": "fabc4c3c",
   "metadata": {},
   "outputs": [],
   "source": [
    "train_len = int(len(sdax_1)*0.8)\n",
    "test_len = 1- train_len\n",
    "train_data, test_data = sdax_1[:train_len], sdax_1[train_len:]\n",
    "train_data.shape, test_data.shape"
   ]
  },
  {
   "cell_type": "code",
   "execution_count": null,
   "id": "7f5a7431",
   "metadata": {},
   "outputs": [],
   "source": [
    "def creat_dataset(data, time_stamp):\n",
    "    data_x, data_y = [], []\n",
    "    for i in range(len(data)-time_stamp-1):\n",
    "        a = data[i: i + time_stamp, 0]\n",
    "        data_x.append(a)\n",
    "        b = data[i+time_stamp,0]\n",
    "        data_y.append(b)\n",
    "    return data_x, data_y"
   ]
  },
  {
   "cell_type": "code",
   "execution_count": null,
   "id": "8d1971b1",
   "metadata": {},
   "outputs": [],
   "source": [
    "x_train_1, y_train_1 = creat_dataset(train_data,30)"
   ]
  },
  {
   "cell_type": "code",
   "execution_count": null,
   "id": "c3c825fd",
   "metadata": {},
   "outputs": [],
   "source": [
    "x_test_1, y_test_1 = creat_dataset(test_data,30)"
   ]
  },
  {
   "cell_type": "code",
   "execution_count": null,
   "id": "a5cc0a25",
   "metadata": {},
   "outputs": [],
   "source": [
    "x_train_1, y_train_1, x_test_1, y_test_1"
   ]
  },
  {
   "cell_type": "code",
   "execution_count": null,
   "id": "19a2c8f6",
   "metadata": {},
   "outputs": [],
   "source": [
    "x_train_1, y_train_1 = np.asarray(x_train_1), np.asarray(y_train_1)\n",
    "x_test_1, y_test_1 = np.asarray(x_test_1), np.asarray(y_test_1)\n",
    "x_train_1, x_test_1"
   ]
  },
  {
   "cell_type": "code",
   "execution_count": null,
   "id": "562134ad",
   "metadata": {},
   "outputs": [],
   "source": [
    "x_train_1.shape, x_test_1.shape"
   ]
  },
  {
   "cell_type": "code",
   "execution_count": null,
   "id": "b33a65e8",
   "metadata": {},
   "outputs": [],
   "source": [
    "x_train_1 = x_train_1.reshape(x_train_1.shape[0],x_train_1.shape[1],1)\n",
    "x_test_1 = x_test_1.reshape(x_test_1.shape[0],x_test_1.shape[1],1)\n",
    "x_train_1.shape, x_test_1.shape"
   ]
  },
  {
   "cell_type": "code",
   "execution_count": null,
   "id": "ec702511",
   "metadata": {},
   "outputs": [],
   "source": [
    "model_1.fit(x_train_1, y_train_1, validation_data= (x_test_1, y_test_1), epochs= 50, batch_size = 64, verbose = 1)"
   ]
  },
  {
   "cell_type": "code",
   "execution_count": null,
   "id": "ca679c2e",
   "metadata": {},
   "outputs": [],
   "source": [
    "x_test_1.shape"
   ]
  },
  {
   "cell_type": "code",
   "execution_count": null,
   "id": "a9a9e815",
   "metadata": {},
   "outputs": [],
   "source": [
    "x_input_sdax = x_test_1[142:,0].reshape(1,-1)\n",
    "x_input_sdax.shape"
   ]
  },
  {
   "cell_type": "code",
   "execution_count": null,
   "id": "73c7754c",
   "metadata": {},
   "outputs": [],
   "source": [
    "temp_input_sdax = list(x_input_sdax)"
   ]
  },
  {
   "cell_type": "code",
   "execution_count": null,
   "id": "1c3e7342",
   "metadata": {},
   "outputs": [],
   "source": [
    "# demonstrate prediction for next 2 days\n",
    "from numpy import array\n",
    "\n",
    "lst_output_sdax=[]\n",
    "n_steps=30\n",
    "i=0\n",
    "while(i<2):\n",
    "    \n",
    "    if(len(temp_input_sdax)>30):\n",
    "        #print(temp_input)\n",
    "        x_input_sdax=np.array(temp_input_sdax[1:])\n",
    "        print(\"{} day input {}\".format(i,x_input_sdax))\n",
    "        x_input_sdax=x_input_sdax.reshape(1,-1)\n",
    "        x_input_sdax = x_input_sdax.reshape((1, n_steps, 1))\n",
    "        #print(x_input)\n",
    "        yhat = model_1.predict(x_input_sdax, verbose=0)\n",
    "        print(\"{} day output {}\".format(i,yhat))\n",
    "        temp_input_sdax.extend(yhat[0].tolist())\n",
    "        temp_input_sdax=temp_input_sdax[1:]\n",
    "        #print(temp_input)\n",
    "        lst_output_sdax.extend(yhat.tolist())\n",
    "        i=i+1\n",
    "    else:\n",
    "        x_input_sdax = x_input_sdax.reshape((1, n_steps,1))\n",
    "        yhat = model_1.predict(x_input_sdax, verbose=0)\n",
    "        print(yhat[0])\n",
    "        temp_input_sdax.extend(yhat[0].tolist())\n",
    "        print(len(temp_input_sdax))\n",
    "        lst_output_sdax.extend(yhat.tolist())\n",
    "        i=i+1\n",
    "    \n",
    "\n",
    "print(lst_output_sdax)"
   ]
  },
  {
   "cell_type": "code",
   "execution_count": null,
   "id": "2c1742be",
   "metadata": {},
   "outputs": [],
   "source": [
    "day_new_sdax = np.arange(1,31)\n",
    "day_pred_sdax = np.arange(31,33)"
   ]
  },
  {
   "cell_type": "code",
   "execution_count": null,
   "id": "2dd867b7",
   "metadata": {},
   "outputs": [],
   "source": [
    "len(sdax_1)"
   ]
  },
  {
   "cell_type": "code",
   "execution_count": null,
   "id": "e907427e",
   "metadata": {},
   "outputs": [],
   "source": [
    "plt.plot(day_new_sdax,scaler.inverse_transform(sdax_1[983:]))\n",
    "plt.plot(day_pred_sdax,scaler.inverse_transform(lst_output_sdax))"
   ]
  },
  {
   "cell_type": "code",
   "execution_count": null,
   "id": "32d63fc2",
   "metadata": {},
   "outputs": [],
   "source": [
    "sdax_check = yf.download('^SDAXI',start=\"2022-09-01\", end=\"2022-10-07\",interval='1d')"
   ]
  },
  {
   "cell_type": "code",
   "execution_count": null,
   "id": "159973c9",
   "metadata": {},
   "outputs": [],
   "source": [
    "sdax_check = sdax_check.reset_index()[\"Close\"]"
   ]
  },
  {
   "cell_type": "code",
   "execution_count": null,
   "id": "9c5dab13",
   "metadata": {},
   "outputs": [],
   "source": [
    "plt.plot(sdax_check)"
   ]
  },
  {
   "cell_type": "code",
   "execution_count": null,
   "id": "c371e3c8",
   "metadata": {},
   "outputs": [],
   "source": [
    "x_train_1.shape"
   ]
  },
  {
   "cell_type": "code",
   "execution_count": null,
   "id": "3b6eb770",
   "metadata": {},
   "outputs": [],
   "source": [
    "x_train_check = x_train_1.reshape(x_train_1.shape[0],x_train_1.shape[1])\n",
    "x_train_check.shape"
   ]
  },
  {
   "cell_type": "code",
   "execution_count": null,
   "id": "51eb1a8c",
   "metadata": {},
   "outputs": [],
   "source": [
    "normalizedx_train_sdax = Normalizer().fit_transform(x_train_check)\n",
    "\n",
    "normalizedx_train_sdax = pd.DataFrame(normalizedx_train_sdax)\n",
    "normalizedx_train_sdax"
   ]
  },
  {
   "cell_type": "code",
   "execution_count": null,
   "id": "4434fa7a",
   "metadata": {},
   "outputs": [],
   "source": [
    "plt.figure(figsize = (20,10))\n",
    "sns.heatmap(normalizedx_train_sdax.corr(), annot = True)"
   ]
  },
  {
   "cell_type": "code",
   "execution_count": null,
   "id": "aad1c974",
   "metadata": {},
   "outputs": [],
   "source": []
  },
  {
   "cell_type": "code",
   "execution_count": null,
   "id": "f4659f8c",
   "metadata": {},
   "outputs": [],
   "source": []
  },
  {
   "cell_type": "code",
   "execution_count": null,
   "id": "d0f7acba",
   "metadata": {},
   "outputs": [],
   "source": []
  },
  {
   "cell_type": "code",
   "execution_count": null,
   "id": "fb196e4f",
   "metadata": {},
   "outputs": [],
   "source": [
    "sp500 = yf.download('^NSEI',start=\"2018-10-01\", end=\"2022-09-30\",interval='1d')"
   ]
  },
  {
   "cell_type": "code",
   "execution_count": null,
   "id": "965bb9eb",
   "metadata": {},
   "outputs": [],
   "source": [
    "sp500.head()"
   ]
  },
  {
   "cell_type": "code",
   "execution_count": null,
   "id": "b18ce9f8",
   "metadata": {},
   "outputs": [],
   "source": [
    "# Clean the data and convert to daily returns\n",
    "sp500[\"returns\"] = np.log(sp500[\"Close\"]/sp500[\"Close\"].shift(1))\n",
    "sp500 = sp500.dropna()"
   ]
  },
  {
   "cell_type": "code",
   "execution_count": null,
   "id": "7e00d7e6",
   "metadata": {},
   "outputs": [],
   "source": [
    "# Calculate the moving average of the stock prices\n",
    "window_size = 50\n",
    "sp500[\"ma\"] = sp500[\"Close\"].rolling(window=window_size).mean()\n",
    "\n",
    "# Plot the moving average and the stock prices\n",
    "plt.figure(figsize=(12, 8))\n",
    "plt.plot(sp500[\"Close\"], label=\"Stock Prices\")\n",
    "plt.plot(sp500[\"ma\"], label=\"Moving Average\")\n",
    "plt.xlabel(\"Year\")\n",
    "plt.ylabel(\"Price\")\n",
    "plt.title(\"S&P 500 Moving Average\")\n",
    "plt.legend()\n",
    "plt.show()"
   ]
  },
  {
   "cell_type": "code",
   "execution_count": null,
   "id": "3bb1dd3d",
   "metadata": {},
   "outputs": [],
   "source": [
    "# Calculate EWMA\n",
    "sp500[\"EWMA\"] = sp500[\"Close\"].ewm(span=30, adjust=False).mean()\n",
    "\n",
    "# Plot the original closing prices and the EWMA\n",
    "plt.figure(figsize=(15, 8))\n",
    "plt.plot(sp500[\"Close\"], label=\"Closing Prices\")\n",
    "plt.plot(sp500[\"EWMA\"], label=\"EWMA\")\n",
    "plt.plot(sp500[\"ma\"], label=\"Moving Average\")\n",
    "plt.legend()\n",
    "plt.xlabel(\"Year\")\n",
    "plt.ylabel(\"Price\")\n",
    "plt.title(\"S&P 500 Closing Prices and EWMA\")\n",
    "plt.show()"
   ]
  },
  {
   "cell_type": "code",
   "execution_count": null,
   "id": "2b2d5d12",
   "metadata": {},
   "outputs": [],
   "source": [
    "result = adfuller(sp500[\"Close\"])\n",
    "print(\"Augmented Dickey-Fuller Test Results\")\n",
    "print(\"Test Statistic: {:.3f}\".format(result[0]))\n",
    "print(\"p-value: {:.3f}\".format(result[1]))\n",
    "print(\"Critical Values:\")\n",
    "for key, value in result[4].items():\n",
    "    print(\"\\t{}: {:.3f}\".format(key, value))\n",
    "    \n",
    "if result[1] < 0.05:\n",
    "    print(\"The time series is stationary.\")\n",
    "else:\n",
    "    print(\"The time series is not stationary.\")"
   ]
  },
  {
   "cell_type": "markdown",
   "id": "7dec747d",
   "metadata": {},
   "source": [
    "# Deep Learning"
   ]
  },
  {
   "cell_type": "code",
   "execution_count": null,
   "id": "e606589c",
   "metadata": {},
   "outputs": [],
   "source": [
    "df = sp500.reset_index()[\"Close\"]\n",
    "df"
   ]
  },
  {
   "cell_type": "code",
   "execution_count": null,
   "id": "d5412ece",
   "metadata": {},
   "outputs": [],
   "source": [
    "plt.plot(df)"
   ]
  },
  {
   "cell_type": "code",
   "execution_count": null,
   "id": "c9d57f63",
   "metadata": {},
   "outputs": [],
   "source": [
    "from sklearn.preprocessing import MinMaxScaler\n",
    "scaler = MinMaxScaler(feature_range = (0,1))\n",
    "df = scaler.fit_transform(np.array(df).reshape(-1,1))"
   ]
  },
  {
   "cell_type": "code",
   "execution_count": null,
   "id": "647ecd12",
   "metadata": {},
   "outputs": [],
   "source": [
    "train_size = int(len(df)*0.65)\n",
    "test_size = len(df) - train_size\n",
    "train_data,test_data=df[0:train_size,:],df[train_size:len(df),:1]"
   ]
  },
  {
   "cell_type": "code",
   "execution_count": null,
   "id": "00aed939",
   "metadata": {},
   "outputs": [],
   "source": [
    "train_size,test_size"
   ]
  },
  {
   "cell_type": "code",
   "execution_count": null,
   "id": "1371d1da",
   "metadata": {},
   "outputs": [],
   "source": [
    "# convert an array of values into a dataset matrix\n",
    "def create_dataset(dataset, time_step=1):\n",
    "    dataX, dataY = [], []\n",
    "    for i in range(len(dataset)-time_step-1):\n",
    "        a = dataset[i:(i+time_step), 0]   ###i=0, 0,1,2,3-----99   100 \n",
    "        dataX.append(a)\n",
    "        dataY.append(dataset[i + time_step, 0])\n",
    "    return numpy.array(dataX), numpy.array(dataY)"
   ]
  },
  {
   "cell_type": "code",
   "execution_count": null,
   "id": "d5d087c3",
   "metadata": {},
   "outputs": [],
   "source": [
    "import numpy\n",
    "time_step = 100\n",
    "X_train, y_train = create_dataset(train_data, time_step)\n",
    "X_test, ytest = create_dataset(test_data, time_step)"
   ]
  },
  {
   "cell_type": "code",
   "execution_count": null,
   "id": "52b9b79a",
   "metadata": {},
   "outputs": [],
   "source": [
    "print(X_train.shape), print(y_train.shape)"
   ]
  },
  {
   "cell_type": "code",
   "execution_count": null,
   "id": "f1005763",
   "metadata": {},
   "outputs": [],
   "source": [
    "print(X_test.shape), print(ytest.shape)"
   ]
  },
  {
   "cell_type": "code",
   "execution_count": null,
   "id": "6949e156",
   "metadata": {},
   "outputs": [],
   "source": [
    "X_train =X_train.reshape(X_train.shape[0],X_train.shape[1] , 1)\n",
    "X_test = X_test.reshape(X_test.shape[0],X_test.shape[1] , 1)"
   ]
  },
  {
   "cell_type": "code",
   "execution_count": null,
   "id": "f81ef938",
   "metadata": {},
   "outputs": [],
   "source": [
    "from tensorflow.keras.models import Sequential\n",
    "from tensorflow.keras.layers import Dense\n",
    "from tensorflow.keras.layers import LSTM"
   ]
  },
  {
   "cell_type": "code",
   "execution_count": null,
   "id": "e17e18f3",
   "metadata": {},
   "outputs": [],
   "source": [
    "model = Sequential()\n",
    "model.add(LSTM(50, return_sequences = True, input_shape = (100,1)))\n",
    "model.add(LSTM(50, return_sequences = True))\n",
    "model.add(LSTM(50))\n",
    "model.add(Dense(1))\n",
    "model.compile(loss = \"mean_squared_error\", optimizer = \"adam\")"
   ]
  },
  {
   "cell_type": "code",
   "execution_count": null,
   "id": "68000c9a",
   "metadata": {},
   "outputs": [],
   "source": [
    "model.summary()"
   ]
  },
  {
   "cell_type": "code",
   "execution_count": null,
   "id": "3fd05b10",
   "metadata": {},
   "outputs": [],
   "source": [
    "model.fit(X_train,y_train,validation_data=(X_test,ytest),epochs=100,batch_size=64,verbose=1)"
   ]
  },
  {
   "cell_type": "code",
   "execution_count": null,
   "id": "616219fe",
   "metadata": {},
   "outputs": [],
   "source": [
    "train_predict=model.predict(X_train)\n",
    "test_predict=model.predict(X_test)"
   ]
  },
  {
   "cell_type": "code",
   "execution_count": null,
   "id": "6b5ec5c6",
   "metadata": {},
   "outputs": [],
   "source": [
    "train_predict=scaler.inverse_transform(train_predict)\n",
    "test_predict=scaler.inverse_transform(test_predict)"
   ]
  },
  {
   "cell_type": "code",
   "execution_count": null,
   "id": "723ca8d6",
   "metadata": {},
   "outputs": [],
   "source": [
    "import math\n",
    "from sklearn.metrics import mean_squared_error\n",
    "math.sqrt(mean_squared_error(y_train,train_predict))"
   ]
  },
  {
   "cell_type": "code",
   "execution_count": null,
   "id": "f7b27eaa",
   "metadata": {},
   "outputs": [],
   "source": [
    "### Test Data RMSE\n",
    "math.sqrt(mean_squared_error(ytest,test_predict))"
   ]
  },
  {
   "cell_type": "code",
   "execution_count": null,
   "id": "5df011ed",
   "metadata": {},
   "outputs": [],
   "source": [
    "### Plotting \n",
    "# shift train predictions for plotting\n",
    "plt.figure(figsize=(12, 8))\n",
    "look_back=100\n",
    "trainPredictPlot = numpy.empty_like(df)\n",
    "trainPredictPlot[:, :] = np.nan\n",
    "trainPredictPlot[look_back:len(train_predict)+look_back, :] = train_predict\n",
    "# shift test predictions for plotting\n",
    "testPredictPlot = numpy.empty_like(df)\n",
    "testPredictPlot[:, :] = numpy.nan\n",
    "testPredictPlot[len(train_predict)+(look_back*2)+1:len(df)-1, :] = test_predict\n",
    "# plot baseline and predictions\n",
    "plt.plot(scaler.inverse_transform(df))\n",
    "plt.plot(trainPredictPlot)\n",
    "plt.plot(testPredictPlot)\n",
    "plt.show()"
   ]
  },
  {
   "cell_type": "code",
   "execution_count": null,
   "id": "ca266a68",
   "metadata": {},
   "outputs": [],
   "source": [
    "len(test_data)"
   ]
  },
  {
   "cell_type": "code",
   "execution_count": null,
   "id": "1a4546e9",
   "metadata": {},
   "outputs": [],
   "source": [
    "x_input=test_data[253:].reshape(1,-1)\n",
    "x_input.shape"
   ]
  },
  {
   "cell_type": "code",
   "execution_count": null,
   "id": "6f008fff",
   "metadata": {},
   "outputs": [],
   "source": [
    "temp_input=list(x_input)\n",
    "temp_input=temp_input[0].tolist()"
   ]
  },
  {
   "cell_type": "code",
   "execution_count": null,
   "id": "fafb4cf3",
   "metadata": {},
   "outputs": [],
   "source": [
    "# demonstrate prediction for next 10 days\n",
    "from numpy import array\n",
    "\n",
    "lst_output=[]\n",
    "n_steps=100\n",
    "i=0\n",
    "while(i<30):\n",
    "    \n",
    "    if(len(temp_input)>100):\n",
    "        #print(temp_input)\n",
    "        x_input=np.array(temp_input[1:])\n",
    "        print(\"{} day input {}\".format(i,x_input))\n",
    "        x_input=x_input.reshape(1,-1)\n",
    "        x_input = x_input.reshape((1, n_steps, 1))\n",
    "        #print(x_input)\n",
    "        yhat = model.predict(x_input, verbose=0)\n",
    "        print(\"{} day output {}\".format(i,yhat))\n",
    "        temp_input.extend(yhat[0].tolist())\n",
    "        temp_input=temp_input[1:]\n",
    "        #print(temp_input)\n",
    "        lst_output.extend(yhat.tolist())\n",
    "        i=i+1\n",
    "    else:\n",
    "        x_input = x_input.reshape((1, n_steps,1))\n",
    "        yhat = model.predict(x_input, verbose=0)\n",
    "        print(yhat[0])\n",
    "        temp_input.extend(yhat[0].tolist())\n",
    "        print(len(temp_input))\n",
    "        lst_output.extend(yhat.tolist())\n",
    "        i=i+1\n",
    "    \n",
    "\n",
    "print(lst_output)"
   ]
  },
  {
   "cell_type": "code",
   "execution_count": null,
   "id": "79ac98b8",
   "metadata": {},
   "outputs": [],
   "source": [
    "day_new=np.arange(1,101)\n",
    "day_pred=np.arange(101,131)"
   ]
  },
  {
   "cell_type": "code",
   "execution_count": null,
   "id": "f28016e9",
   "metadata": {},
   "outputs": [],
   "source": [
    "import matplotlib.pyplot as plt"
   ]
  },
  {
   "cell_type": "code",
   "execution_count": null,
   "id": "d2e1133e",
   "metadata": {},
   "outputs": [],
   "source": [
    "len(df)"
   ]
  },
  {
   "cell_type": "code",
   "execution_count": null,
   "id": "99e43009",
   "metadata": {},
   "outputs": [],
   "source": [
    "plt.plot(day_new,scaler.inverse_transform(df[906:]))\n",
    "plt.plot(day_pred,scaler.inverse_transform(lst_output))"
   ]
  },
  {
   "cell_type": "code",
   "execution_count": null,
   "id": "b583575c",
   "metadata": {},
   "outputs": [],
   "source": [
    "sp_pred = yf.download('^GSPC',start=\"2018-10-01\", end=\"2022-10-30\",interval='1d')\n",
    "sp_pred"
   ]
  },
  {
   "cell_type": "code",
   "execution_count": null,
   "id": "97e91e0b",
   "metadata": {},
   "outputs": [],
   "source": [
    "df1 = sp_pred.reset_index()[\"Close\"]"
   ]
  },
  {
   "cell_type": "code",
   "execution_count": null,
   "id": "5d71ba98",
   "metadata": {},
   "outputs": [],
   "source": [
    "plt.figure(figsize = (15,6))\n",
    "plt.plot(df1)"
   ]
  },
  {
   "cell_type": "code",
   "execution_count": null,
   "id": "9e1a248a",
   "metadata": {},
   "outputs": [],
   "source": []
  },
  {
   "cell_type": "markdown",
   "id": "6f0f8c1d",
   "metadata": {},
   "source": [
    "# Arima Model"
   ]
  },
  {
   "cell_type": "code",
   "execution_count": null,
   "id": "efe96e72",
   "metadata": {},
   "outputs": [],
   "source": [
    "def adf_test(series):\n",
    "    result=adfuller(series)\n",
    "    print('ADF Statistics: {}'.format(result[0]))\n",
    "    print('p- value: {}'.format(result[1]))\n",
    "    if result[1] <= 0.05:\n",
    "        print(\"strong evidence against the null hypothesis, reject the null hypothesis. Data has no unit root and is stationary\")\n",
    "    else:\n",
    "        print(\"weak evidence against null hypothesis, time series has a unit root, indicating it is non-stationary \")"
   ]
  },
  {
   "cell_type": "code",
   "execution_count": null,
   "id": "9ca27110",
   "metadata": {},
   "outputs": [],
   "source": [
    "result = adf_test(sp500['Close'].dropna())"
   ]
  },
  {
   "cell_type": "code",
   "execution_count": null,
   "id": "7254480d",
   "metadata": {},
   "outputs": [],
   "source": [
    "### First Shift \n",
    "## Use Techniques Differencing\n",
    "sp500['Close_1']=sp500[\"Close\"]-sp500[\"Close\"].shift(1)"
   ]
  },
  {
   "cell_type": "code",
   "execution_count": null,
   "id": "a4bd751b",
   "metadata": {},
   "outputs": [],
   "source": [
    "result = adf_test(sp500['Close_1'].dropna())"
   ]
  },
  {
   "cell_type": "code",
   "execution_count": null,
   "id": "1d4841e6",
   "metadata": {},
   "outputs": [],
   "source": [
    "from statsmodels.graphics.tsaplots import plot_acf,plot_pacf"
   ]
  },
  {
   "cell_type": "code",
   "execution_count": null,
   "id": "a199b9a2",
   "metadata": {},
   "outputs": [],
   "source": [
    "fig = plt.figure(figsize=(12,12))\n",
    "ax1 = fig.add_subplot(211)\n",
    "acf = sm.graphics.tsa.plot_acf(sp500['Close_1'].dropna(),lags=50, ax=ax1)\n",
    "ax2 = fig.add_subplot(212)\n",
    "pacf = sm.graphics.tsa.plot_pacf(sp500['Close_1'].dropna(),lags=50, ax=ax2)"
   ]
  },
  {
   "cell_type": "code",
   "execution_count": null,
   "id": "8271be6c",
   "metadata": {},
   "outputs": [],
   "source": [
    "# For non-seasonal data\n",
    "#p=0, d=1, q=0 or 1\n",
    "from statsmodels.tsa.arima_model import ARIMA\n",
    "import statsmodels.api as sm"
   ]
  },
  {
   "cell_type": "code",
   "execution_count": null,
   "id": "540a6762",
   "metadata": {},
   "outputs": [],
   "source": [
    "model = sm.tsa.arima.ARIMA(sp500[\"Close\"],order=(45,1,45))\n",
    "model_fit=model.fit()"
   ]
  },
  {
   "cell_type": "code",
   "execution_count": null,
   "id": "5ff40550",
   "metadata": {},
   "outputs": [],
   "source": [
    "model_fit.summary()"
   ]
  },
  {
   "cell_type": "code",
   "execution_count": null,
   "id": "f77fc136",
   "metadata": {},
   "outputs": [],
   "source": [
    "sp500['forecast']=model_fit.predict(start=\"2022-05-01\",end=\"2022-05-28\",dynamic=True)\n",
    "sp500[['Close','forecast']].plot(figsize=(12,8))"
   ]
  },
  {
   "cell_type": "code",
   "execution_count": null,
   "id": "9cae1cc5",
   "metadata": {},
   "outputs": [],
   "source": [
    "### 12 months \n",
    "## Use Techniques Differencing\n",
    "sp500['Close 12 Difference']=sp500[\"Close\"]-sp500[\"Close\"].shift(24)"
   ]
  },
  {
   "cell_type": "markdown",
   "id": "ce9437b0",
   "metadata": {},
   "source": [
    "# Sarimax"
   ]
  },
  {
   "cell_type": "code",
   "execution_count": null,
   "id": "7030bb23",
   "metadata": {},
   "outputs": [],
   "source": [
    "model=sm.tsa.statespace.SARIMAX(sp500[\"Close\"],order=(1, 1, 1),seasonal_order=(1,1,1,12))\n",
    "results=model.fit()"
   ]
  },
  {
   "cell_type": "code",
   "execution_count": null,
   "id": "b2f69db2",
   "metadata": {},
   "outputs": [],
   "source": [
    "sp500['forecast']=results.predict(start=\"2020-10-01\",end=\"2020-11-30\",dynamic=True)\n",
    "sp500[['Close','forecast']].plot(figsize=(12,8))\n",
    "plt.xlim(pd.Timestamp('2020-06-01'), pd.Timestamp('2021-03-01'))"
   ]
  },
  {
   "cell_type": "code",
   "execution_count": null,
   "id": "d415b8c6",
   "metadata": {},
   "outputs": [],
   "source": []
  },
  {
   "cell_type": "code",
   "execution_count": null,
   "id": "f15a7d84",
   "metadata": {},
   "outputs": [],
   "source": []
  },
  {
   "cell_type": "code",
   "execution_count": null,
   "id": "50309550",
   "metadata": {},
   "outputs": [],
   "source": []
  },
  {
   "cell_type": "code",
   "execution_count": null,
   "id": "faedfd02",
   "metadata": {},
   "outputs": [],
   "source": [
    "result = adf_test(sp500['Close 12 Difference'].dropna())\n"
   ]
  },
  {
   "cell_type": "code",
   "execution_count": null,
   "id": "a4f3df3a",
   "metadata": {},
   "outputs": [],
   "source": [
    "### 2_12 months \n",
    "## Use Techniques Differencing\n",
    "sp500['Close 2_12 Difference']=sp500[\"Close 12 Difference\"]-sp500[\"Close 12 Difference\"].shift(1)"
   ]
  },
  {
   "cell_type": "code",
   "execution_count": null,
   "id": "309c4687",
   "metadata": {},
   "outputs": [],
   "source": [
    "result_1 = adf_test(sp500['Close 2_12 Difference'].dropna())"
   ]
  },
  {
   "cell_type": "code",
   "execution_count": null,
   "id": "708c184d",
   "metadata": {},
   "outputs": [],
   "source": []
  },
  {
   "cell_type": "code",
   "execution_count": null,
   "id": "9a7b8775",
   "metadata": {},
   "outputs": [],
   "source": [
    "from statsmodels.graphics.tsaplots import plot_acf,plot_pacf"
   ]
  },
  {
   "cell_type": "code",
   "execution_count": null,
   "id": "55eb5673",
   "metadata": {},
   "outputs": [],
   "source": [
    "acf12 = plot_acf(sp500['Close 12 Difference'].dropna())"
   ]
  },
  {
   "cell_type": "code",
   "execution_count": null,
   "id": "59471977",
   "metadata": {},
   "outputs": [],
   "source": [
    "pacf12 = plot_pacf(sp500['Close 2_12 Difference'].dropna())"
   ]
  },
  {
   "cell_type": "code",
   "execution_count": null,
   "id": "b3f0f4b3",
   "metadata": {},
   "outputs": [],
   "source": [
    "## create a SARIMA model\n",
    "from statsmodels.tsa.statespace.sarimax import SARIMAX"
   ]
  },
  {
   "cell_type": "code",
   "execution_count": null,
   "id": "d5beef24",
   "metadata": {},
   "outputs": [],
   "source": [
    "model_SARIMA=SARIMAX(train_data['Thousands of Passengers'],order=(3,0,5),seasonal_order=(0,1,0,365))"
   ]
  },
  {
   "cell_type": "code",
   "execution_count": null,
   "id": "8ad5c686",
   "metadata": {},
   "outputs": [],
   "source": []
  },
  {
   "cell_type": "code",
   "execution_count": null,
   "id": "ccb4fa5c",
   "metadata": {},
   "outputs": [],
   "source": []
  },
  {
   "cell_type": "code",
   "execution_count": null,
   "id": "e0e7e81e",
   "metadata": {},
   "outputs": [],
   "source": []
  },
  {
   "cell_type": "code",
   "execution_count": null,
   "id": "2255bbdb",
   "metadata": {},
   "outputs": [],
   "source": [
    "# Test for random walk hypothesis using Augmented Dickey-Fuller test\n",
    "result = adfuller(sp500[\"returns\"])\n",
    "print(\"ADF Test:\")\n",
    "print(\"Test Statistic: \", result[0])\n",
    "print(\"p-value: \", result[1])\n",
    "print(\"Critical Values:\")\n",
    "for key, value in result[4].items():\n",
    "    print(\"\\t\", key, \": \", value)"
   ]
  },
  {
   "cell_type": "code",
   "execution_count": null,
   "id": "0d6a97f4",
   "metadata": {},
   "outputs": [],
   "source": [
    "# Plot autocorrelation and partial autocorrelation\n",
    "plt.figure(figsize=(12, 8))\n",
    "\n",
    "plt.subplot(2,1,1)\n",
    "acf_result = acf(sp500[\"returns\"], nlags=30)\n",
    "plt.plot(acf_result)\n",
    "plt.axhline(y=0, linestyle=\"--\", color=\"gray\")\n",
    "plt.axhline(y=-1.96/np.sqrt(len(sp500[\"returns\"])), linestyle=\"--\", color=\"gray\")\n",
    "plt.axhline(y=1.96/np.sqrt(len(sp500[\"returns\"])), linestyle=\"--\", color=\"gray\")\n",
    "plt.title(\"Autocorrelation\")"
   ]
  },
  {
   "cell_type": "code",
   "execution_count": null,
   "id": "b9c24cd0",
   "metadata": {},
   "outputs": [],
   "source": [
    "plt.figure(figsize=(12, 8))\n",
    "plt.subplot(2,1,2)\n",
    "pacf_result = pacf(sp500[\"returns\"], nlags=30, method=\"ols\")\n",
    "plt.plot(pacf_result)\n",
    "plt.axhline(y=0, linestyle=\"--\", color=\"gray\")\n",
    "plt.axhline(y=-1.96/np.sqrt(len(sp500[\"returns\"])), linestyle=\"--\", color=\"gray\")\n",
    "plt.axhline(y=1.96/np.sqrt(len(sp500[\"returns\"])), linestyle=\"--\", color=\"gray\")\n",
    "plt.title(\"Partial Autocorrelation\")\n"
   ]
  },
  {
   "cell_type": "code",
   "execution_count": null,
   "id": "b61da9c6",
   "metadata": {},
   "outputs": [],
   "source": [
    "plt.tight_layout()\n",
    "plt.show()"
   ]
  },
  {
   "cell_type": "code",
   "execution_count": null,
   "id": "ea2bc72d",
   "metadata": {},
   "outputs": [],
   "source": []
  }
 ],
 "metadata": {
  "kernelspec": {
   "display_name": "Python 3 (ipykernel)",
   "language": "python",
   "name": "python3"
  },
  "language_info": {
   "codemirror_mode": {
    "name": "ipython",
    "version": 3
   },
   "file_extension": ".py",
   "mimetype": "text/x-python",
   "name": "python",
   "nbconvert_exporter": "python",
   "pygments_lexer": "ipython3",
   "version": "3.10.6"
  }
 },
 "nbformat": 4,
 "nbformat_minor": 5
}
