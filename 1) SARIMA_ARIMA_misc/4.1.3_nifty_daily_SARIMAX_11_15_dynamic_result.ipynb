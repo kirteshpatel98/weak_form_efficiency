{
 "cells": [
  {
   "cell_type": "code",
   "execution_count": 1,
   "id": "7af01abd",
   "metadata": {},
   "outputs": [],
   "source": [
    "import yfinance as yf\n",
    "import pandas as pd\n",
    "import numpy as np\n",
    "from statsmodels.tsa.stattools import adfuller\n",
    "from statsmodels.tsa.seasonal import seasonal_decompose\n",
    "from statsmodels.graphics.tsaplots import plot_acf, plot_pacf, month_plot, quarter_plot\n",
    "import statsmodels.api as sm\n",
    "from statsmodels.tsa.seasonal import seasonal_decompose\n",
    "import pickle\n",
    "from sklearn.preprocessing import StandardScaler"
   ]
  },
  {
   "cell_type": "markdown",
   "id": "db044410",
   "metadata": {},
   "source": [
    "## 1) Importing Data "
   ]
  },
  {
   "cell_type": "code",
   "execution_count": 2,
   "id": "e683ea86",
   "metadata": {},
   "outputs": [
    {
     "name": "stdout",
     "output_type": "stream",
     "text": [
      "[*********************100%***********************]  1 of 1 completed\n"
     ]
    }
   ],
   "source": [
    "sp500=yf.download('^NSEI',start=\"2011-01-01\", end=\"2015-12-31\",interval='1d')"
   ]
  },
  {
   "cell_type": "code",
   "execution_count": 3,
   "id": "310ea44f",
   "metadata": {},
   "outputs": [
    {
     "data": {
      "text/html": [
       "<div>\n",
       "<style scoped>\n",
       "    .dataframe tbody tr th:only-of-type {\n",
       "        vertical-align: middle;\n",
       "    }\n",
       "\n",
       "    .dataframe tbody tr th {\n",
       "        vertical-align: top;\n",
       "    }\n",
       "\n",
       "    .dataframe thead th {\n",
       "        text-align: right;\n",
       "    }\n",
       "</style>\n",
       "<table border=\"1\" class=\"dataframe\">\n",
       "  <thead>\n",
       "    <tr style=\"text-align: right;\">\n",
       "      <th></th>\n",
       "      <th>Open</th>\n",
       "      <th>High</th>\n",
       "      <th>Low</th>\n",
       "      <th>Close</th>\n",
       "      <th>Adj Close</th>\n",
       "      <th>Volume</th>\n",
       "    </tr>\n",
       "    <tr>\n",
       "      <th>Date</th>\n",
       "      <th></th>\n",
       "      <th></th>\n",
       "      <th></th>\n",
       "      <th></th>\n",
       "      <th></th>\n",
       "      <th></th>\n",
       "    </tr>\n",
       "  </thead>\n",
       "  <tbody>\n",
       "    <tr>\n",
       "      <th>2011-01-03</th>\n",
       "      <td>6177.450195</td>\n",
       "      <td>6178.549805</td>\n",
       "      <td>6147.200195</td>\n",
       "      <td>6157.600098</td>\n",
       "      <td>6157.600098</td>\n",
       "      <td>0</td>\n",
       "    </tr>\n",
       "    <tr>\n",
       "      <th>2011-01-04</th>\n",
       "      <td>6172.750000</td>\n",
       "      <td>6181.049805</td>\n",
       "      <td>6124.399902</td>\n",
       "      <td>6146.350098</td>\n",
       "      <td>6146.350098</td>\n",
       "      <td>0</td>\n",
       "    </tr>\n",
       "    <tr>\n",
       "      <th>2011-01-05</th>\n",
       "      <td>6141.350098</td>\n",
       "      <td>6141.350098</td>\n",
       "      <td>6062.350098</td>\n",
       "      <td>6079.799805</td>\n",
       "      <td>6079.799805</td>\n",
       "      <td>0</td>\n",
       "    </tr>\n",
       "    <tr>\n",
       "      <th>2011-01-06</th>\n",
       "      <td>6107.000000</td>\n",
       "      <td>6116.149902</td>\n",
       "      <td>6022.299805</td>\n",
       "      <td>6048.250000</td>\n",
       "      <td>6048.250000</td>\n",
       "      <td>0</td>\n",
       "    </tr>\n",
       "    <tr>\n",
       "      <th>2011-01-07</th>\n",
       "      <td>6030.899902</td>\n",
       "      <td>6051.200195</td>\n",
       "      <td>5883.600098</td>\n",
       "      <td>5904.600098</td>\n",
       "      <td>5904.600098</td>\n",
       "      <td>0</td>\n",
       "    </tr>\n",
       "  </tbody>\n",
       "</table>\n",
       "</div>"
      ],
      "text/plain": [
       "                   Open         High          Low        Close    Adj Close  \\\n",
       "Date                                                                          \n",
       "2011-01-03  6177.450195  6178.549805  6147.200195  6157.600098  6157.600098   \n",
       "2011-01-04  6172.750000  6181.049805  6124.399902  6146.350098  6146.350098   \n",
       "2011-01-05  6141.350098  6141.350098  6062.350098  6079.799805  6079.799805   \n",
       "2011-01-06  6107.000000  6116.149902  6022.299805  6048.250000  6048.250000   \n",
       "2011-01-07  6030.899902  6051.200195  5883.600098  5904.600098  5904.600098   \n",
       "\n",
       "            Volume  \n",
       "Date                \n",
       "2011-01-03       0  \n",
       "2011-01-04       0  \n",
       "2011-01-05       0  \n",
       "2011-01-06       0  \n",
       "2011-01-07       0  "
      ]
     },
     "execution_count": 3,
     "metadata": {},
     "output_type": "execute_result"
    }
   ],
   "source": [
    "sp500.head()"
   ]
  },
  {
   "cell_type": "code",
   "execution_count": 4,
   "id": "198784a7",
   "metadata": {},
   "outputs": [],
   "source": [
    "sp500['Returns %']=sp500['Adj Close'].diff() / sp500['Adj Close']"
   ]
  },
  {
   "cell_type": "code",
   "execution_count": 5,
   "id": "46295905",
   "metadata": {},
   "outputs": [
    {
     "data": {
      "text/html": [
       "<div>\n",
       "<style scoped>\n",
       "    .dataframe tbody tr th:only-of-type {\n",
       "        vertical-align: middle;\n",
       "    }\n",
       "\n",
       "    .dataframe tbody tr th {\n",
       "        vertical-align: top;\n",
       "    }\n",
       "\n",
       "    .dataframe thead th {\n",
       "        text-align: right;\n",
       "    }\n",
       "</style>\n",
       "<table border=\"1\" class=\"dataframe\">\n",
       "  <thead>\n",
       "    <tr style=\"text-align: right;\">\n",
       "      <th></th>\n",
       "      <th>Open</th>\n",
       "      <th>High</th>\n",
       "      <th>Low</th>\n",
       "      <th>Close</th>\n",
       "      <th>Adj Close</th>\n",
       "      <th>Volume</th>\n",
       "      <th>Returns %</th>\n",
       "    </tr>\n",
       "    <tr>\n",
       "      <th>Date</th>\n",
       "      <th></th>\n",
       "      <th></th>\n",
       "      <th></th>\n",
       "      <th></th>\n",
       "      <th></th>\n",
       "      <th></th>\n",
       "      <th></th>\n",
       "    </tr>\n",
       "  </thead>\n",
       "  <tbody>\n",
       "    <tr>\n",
       "      <th>2011-01-03</th>\n",
       "      <td>6177.450195</td>\n",
       "      <td>6178.549805</td>\n",
       "      <td>6147.200195</td>\n",
       "      <td>6157.600098</td>\n",
       "      <td>6157.600098</td>\n",
       "      <td>0</td>\n",
       "      <td>NaN</td>\n",
       "    </tr>\n",
       "    <tr>\n",
       "      <th>2011-01-04</th>\n",
       "      <td>6172.750000</td>\n",
       "      <td>6181.049805</td>\n",
       "      <td>6124.399902</td>\n",
       "      <td>6146.350098</td>\n",
       "      <td>6146.350098</td>\n",
       "      <td>0</td>\n",
       "      <td>-0.001830</td>\n",
       "    </tr>\n",
       "    <tr>\n",
       "      <th>2011-01-05</th>\n",
       "      <td>6141.350098</td>\n",
       "      <td>6141.350098</td>\n",
       "      <td>6062.350098</td>\n",
       "      <td>6079.799805</td>\n",
       "      <td>6079.799805</td>\n",
       "      <td>0</td>\n",
       "      <td>-0.010946</td>\n",
       "    </tr>\n",
       "    <tr>\n",
       "      <th>2011-01-06</th>\n",
       "      <td>6107.000000</td>\n",
       "      <td>6116.149902</td>\n",
       "      <td>6022.299805</td>\n",
       "      <td>6048.250000</td>\n",
       "      <td>6048.250000</td>\n",
       "      <td>0</td>\n",
       "      <td>-0.005216</td>\n",
       "    </tr>\n",
       "    <tr>\n",
       "      <th>2011-01-07</th>\n",
       "      <td>6030.899902</td>\n",
       "      <td>6051.200195</td>\n",
       "      <td>5883.600098</td>\n",
       "      <td>5904.600098</td>\n",
       "      <td>5904.600098</td>\n",
       "      <td>0</td>\n",
       "      <td>-0.024328</td>\n",
       "    </tr>\n",
       "  </tbody>\n",
       "</table>\n",
       "</div>"
      ],
      "text/plain": [
       "                   Open         High          Low        Close    Adj Close  \\\n",
       "Date                                                                          \n",
       "2011-01-03  6177.450195  6178.549805  6147.200195  6157.600098  6157.600098   \n",
       "2011-01-04  6172.750000  6181.049805  6124.399902  6146.350098  6146.350098   \n",
       "2011-01-05  6141.350098  6141.350098  6062.350098  6079.799805  6079.799805   \n",
       "2011-01-06  6107.000000  6116.149902  6022.299805  6048.250000  6048.250000   \n",
       "2011-01-07  6030.899902  6051.200195  5883.600098  5904.600098  5904.600098   \n",
       "\n",
       "            Volume  Returns %  \n",
       "Date                           \n",
       "2011-01-03       0        NaN  \n",
       "2011-01-04       0  -0.001830  \n",
       "2011-01-05       0  -0.010946  \n",
       "2011-01-06       0  -0.005216  \n",
       "2011-01-07       0  -0.024328  "
      ]
     },
     "execution_count": 5,
     "metadata": {},
     "output_type": "execute_result"
    }
   ],
   "source": [
    "sp500.head()"
   ]
  },
  {
   "cell_type": "code",
   "execution_count": 6,
   "id": "d29ec9a3",
   "metadata": {},
   "outputs": [
    {
     "data": {
      "text/plain": [
       "<AxesSubplot:xlabel='Date'>"
      ]
     },
     "execution_count": 6,
     "metadata": {},
     "output_type": "execute_result"
    },
    {
     "data": {
      "image/png": "[encoded data removed]",
      "text/plain": [
       "<Figure size 640x480 with 1 Axes>"
      ]
     },
     "metadata": {},
     "output_type": "display_data"
    }
   ],
   "source": [
    "sp500['Adj Close'].plot()"
   ]
  },
  {
   "cell_type": "code",
   "execution_count": 7,
   "id": "39b8c531",
   "metadata": {},
   "outputs": [
    {
     "data": {
      "text/plain": [
       "<AxesSubplot:xlabel='Date'>"
      ]
     },
     "execution_count": 7,
     "metadata": {},
     "output_type": "execute_result"
    },
    {
     "data": {
      "image/png": "[encoded data removed]",
      "text/plain": [
       "<Figure size 640x480 with 1 Axes>"
      ]
     },
     "metadata": {},
     "output_type": "display_data"
    }
   ],
   "source": [
    "sp500['Returns %'].plot()"
   ]
  },
  {
   "cell_type": "code",
   "execution_count": 8,
   "id": "3a6b2cbf",
   "metadata": {},
   "outputs": [],
   "source": [
    "# sp500['Adj Close'].ewm(span=100).mean().plot()"
   ]
  },
  {
   "cell_type": "code",
   "execution_count": 9,
   "id": "05f38645",
   "metadata": {},
   "outputs": [],
   "source": [
    "# sp500['Adj Close']=sp500['Adj Close'].ewm(span=80).mean()"
   ]
  },
  {
   "cell_type": "code",
   "execution_count": 10,
   "id": "c0ed473b",
   "metadata": {},
   "outputs": [
    {
     "data": {
      "text/plain": [
       "<AxesSubplot:xlabel='Date'>"
      ]
     },
     "execution_count": 10,
     "metadata": {},
     "output_type": "execute_result"
    },
    {
     "data": {
      "image/png": "[encoded data removed]",
      "text/plain": [
       "<Figure size 640x480 with 1 Axes>"
      ]
     },
     "metadata": {},
     "output_type": "display_data"
    }
   ],
   "source": [
    "sp500['Adj Close'].plot()"
   ]
  },
  {
   "cell_type": "markdown",
   "id": "aadfe326",
   "metadata": {},
   "source": [
    "The cyclical component represents phenomena that happen across seasonal periods. Cyclical patterns do not have a fixed period like seasonal patterns do. An example of a cyclical pattern is the cycles of boom and bust that stock markets experience in response to world events. <br>\n",
    "This data seems to have cyclical component with no consistent cyclicity. So instead of decomposing it into trend, seasonality, noise, we would just keep it as it is."
   ]
  },
  {
   "cell_type": "code",
   "execution_count": 11,
   "id": "484873c4",
   "metadata": {},
   "outputs": [
    {
     "data": {
      "text/plain": [
       "(1214,)"
      ]
     },
     "execution_count": 11,
     "metadata": {},
     "output_type": "execute_result"
    }
   ],
   "source": [
    "sp500['Adj Close'].shape"
   ]
  },
  {
   "cell_type": "code",
   "execution_count": 12,
   "id": "545e0ddb",
   "metadata": {},
   "outputs": [
    {
     "name": "stdout",
     "output_type": "stream",
     "text": [
      "Figure(640x480)\n"
     ]
    },
    {
     "data": {
      "image/png": "[encoded data removed]",
      "text/plain": [
       "<Figure size 640x480 with 1 Axes>"
      ]
     },
     "metadata": {},
     "output_type": "display_data"
    }
   ],
   "source": [
    "print(plot_acf(sp500['Adj Close'],lags=500))"
   ]
  },
  {
   "cell_type": "markdown",
   "id": "b8c3d0bc",
   "metadata": {},
   "source": [
    "Also autocorrelation graph shows no seasonal pattern."
   ]
  },
  {
   "cell_type": "markdown",
   "id": "cfc88c2e",
   "metadata": {},
   "source": [
    "## 4) Model"
   ]
  },
  {
   "cell_type": "code",
   "execution_count": 13,
   "id": "36cd981f",
   "metadata": {},
   "outputs": [
    {
     "data": {
      "text/html": [
       "<div>\n",
       "<style scoped>\n",
       "    .dataframe tbody tr th:only-of-type {\n",
       "        vertical-align: middle;\n",
       "    }\n",
       "\n",
       "    .dataframe tbody tr th {\n",
       "        vertical-align: top;\n",
       "    }\n",
       "\n",
       "    .dataframe thead th {\n",
       "        text-align: right;\n",
       "    }\n",
       "</style>\n",
       "<table border=\"1\" class=\"dataframe\">\n",
       "  <thead>\n",
       "    <tr style=\"text-align: right;\">\n",
       "      <th></th>\n",
       "      <th>Open</th>\n",
       "      <th>High</th>\n",
       "      <th>Low</th>\n",
       "      <th>Close</th>\n",
       "      <th>Adj Close</th>\n",
       "      <th>Volume</th>\n",
       "      <th>Returns %</th>\n",
       "    </tr>\n",
       "    <tr>\n",
       "      <th>Date</th>\n",
       "      <th></th>\n",
       "      <th></th>\n",
       "      <th></th>\n",
       "      <th></th>\n",
       "      <th></th>\n",
       "      <th></th>\n",
       "      <th></th>\n",
       "    </tr>\n",
       "  </thead>\n",
       "  <tbody>\n",
       "    <tr>\n",
       "      <th>2011-01-03</th>\n",
       "      <td>6177.450195</td>\n",
       "      <td>6178.549805</td>\n",
       "      <td>6147.200195</td>\n",
       "      <td>6157.600098</td>\n",
       "      <td>6157.600098</td>\n",
       "      <td>0</td>\n",
       "      <td>NaN</td>\n",
       "    </tr>\n",
       "    <tr>\n",
       "      <th>2011-01-04</th>\n",
       "      <td>6172.750000</td>\n",
       "      <td>6181.049805</td>\n",
       "      <td>6124.399902</td>\n",
       "      <td>6146.350098</td>\n",
       "      <td>6146.350098</td>\n",
       "      <td>0</td>\n",
       "      <td>-0.001830</td>\n",
       "    </tr>\n",
       "    <tr>\n",
       "      <th>2011-01-05</th>\n",
       "      <td>6141.350098</td>\n",
       "      <td>6141.350098</td>\n",
       "      <td>6062.350098</td>\n",
       "      <td>6079.799805</td>\n",
       "      <td>6079.799805</td>\n",
       "      <td>0</td>\n",
       "      <td>-0.010946</td>\n",
       "    </tr>\n",
       "    <tr>\n",
       "      <th>2011-01-06</th>\n",
       "      <td>6107.000000</td>\n",
       "      <td>6116.149902</td>\n",
       "      <td>6022.299805</td>\n",
       "      <td>6048.250000</td>\n",
       "      <td>6048.250000</td>\n",
       "      <td>0</td>\n",
       "      <td>-0.005216</td>\n",
       "    </tr>\n",
       "    <tr>\n",
       "      <th>2011-01-07</th>\n",
       "      <td>6030.899902</td>\n",
       "      <td>6051.200195</td>\n",
       "      <td>5883.600098</td>\n",
       "      <td>5904.600098</td>\n",
       "      <td>5904.600098</td>\n",
       "      <td>0</td>\n",
       "      <td>-0.024328</td>\n",
       "    </tr>\n",
       "  </tbody>\n",
       "</table>\n",
       "</div>"
      ],
      "text/plain": [
       "                   Open         High          Low        Close    Adj Close  \\\n",
       "Date                                                                          \n",
       "2011-01-03  6177.450195  6178.549805  6147.200195  6157.600098  6157.600098   \n",
       "2011-01-04  6172.750000  6181.049805  6124.399902  6146.350098  6146.350098   \n",
       "2011-01-05  6141.350098  6141.350098  6062.350098  6079.799805  6079.799805   \n",
       "2011-01-06  6107.000000  6116.149902  6022.299805  6048.250000  6048.250000   \n",
       "2011-01-07  6030.899902  6051.200195  5883.600098  5904.600098  5904.600098   \n",
       "\n",
       "            Volume  Returns %  \n",
       "Date                           \n",
       "2011-01-03       0        NaN  \n",
       "2011-01-04       0  -0.001830  \n",
       "2011-01-05       0  -0.010946  \n",
       "2011-01-06       0  -0.005216  \n",
       "2011-01-07       0  -0.024328  "
      ]
     },
     "execution_count": 13,
     "metadata": {},
     "output_type": "execute_result"
    }
   ],
   "source": [
    "sp500.head()"
   ]
  },
  {
   "cell_type": "code",
   "execution_count": 14,
   "id": "09035c94",
   "metadata": {},
   "outputs": [
    {
     "data": {
      "text/plain": [
       "\"with open('nifty_08_12.pkl', 'wb') as f:\\n    pickle.dump(sar, f) \""
      ]
     },
     "execution_count": 14,
     "metadata": {},
     "output_type": "execute_result"
    }
   ],
   "source": [
    "'''with open('nifty_08_12.pkl', 'wb') as f:\n",
    "    pickle.dump(sar, f) '''"
   ]
  },
  {
   "cell_type": "code",
   "execution_count": 15,
   "id": "9473d8c3",
   "metadata": {},
   "outputs": [
    {
     "data": {
      "text/plain": [
       "\"with open('nifty_08_12.pkl', 'rb') as f:\\n    sar = pickle.load(f) \""
      ]
     },
     "execution_count": 15,
     "metadata": {},
     "output_type": "execute_result"
    }
   ],
   "source": [
    "'''with open('nifty_08_12.pkl', 'rb') as f:\n",
    "    sar = pickle.load(f) '''"
   ]
  },
  {
   "cell_type": "code",
   "execution_count": 16,
   "id": "c01d3272",
   "metadata": {},
   "outputs": [
    {
     "name": "stdout",
     "output_type": "stream",
     "text": [
      "[*********************100%***********************]  1 of 1 completed\n"
     ]
    },
    {
     "data": {
      "text/plain": [
       "Date\n",
       "2016-01-04    7791.299805\n",
       "2016-01-05    7784.649902\n",
       "2016-01-06    7741.000000\n",
       "2016-01-07    7568.299805\n",
       "2016-01-08    7601.350098\n",
       "2016-01-11    7563.850098\n",
       "2016-01-12    7510.299805\n",
       "2016-01-13    7562.399902\n",
       "2016-01-14    7536.799805\n",
       "2016-01-15    7437.799805\n",
       "2016-01-18    7351.000000\n",
       "2016-01-19    7435.100098\n",
       "2016-01-20    7309.299805\n",
       "2016-01-21    7276.799805\n",
       "2016-01-22    7422.450195\n",
       "2016-01-25    7436.149902\n",
       "2016-01-27    7437.750000\n",
       "2016-01-28    7424.649902\n",
       "2016-01-29    7563.549805\n",
       "2016-02-01    7555.950195\n",
       "2016-02-02    7455.549805\n",
       "2016-02-03    7361.799805\n",
       "2016-02-04    7404.000000\n",
       "2016-02-05    7489.100098\n",
       "2016-02-08    7387.250000\n",
       "2016-02-09    7298.200195\n",
       "2016-02-10    7215.700195\n",
       "2016-02-11    6976.350098\n",
       "2016-02-12    6980.950195\n",
       "2016-02-15    7162.950195\n",
       "2016-02-16    7048.250000\n",
       "2016-02-17    7108.450195\n",
       "2016-02-18    7191.750000\n",
       "2016-02-19    7210.750000\n",
       "2016-02-22    7234.549805\n",
       "2016-02-23    7109.549805\n",
       "2016-02-24    7018.700195\n",
       "2016-02-25    6970.600098\n",
       "2016-02-26    7029.750000\n",
       "2016-02-29    6987.049805\n",
       "2016-03-01    7222.299805\n",
       "2016-03-02    7368.850098\n",
       "2016-03-03    7475.600098\n",
       "2016-03-04    7485.350098\n",
       "Name: Adj Close, dtype: float64"
      ]
     },
     "execution_count": 16,
     "metadata": {},
     "output_type": "execute_result"
    }
   ],
   "source": [
    "sp500_fore=yf.download('^NSEI',start=\"2016-01-01\", end=\"2016-03-08\",interval='1d')\n",
    "sp500_fore['Adj Close']"
   ]
  },
  {
   "cell_type": "code",
   "execution_count": 17,
   "id": "3c0fa32d",
   "metadata": {},
   "outputs": [],
   "source": [
    "sp500_fore['Returns %']=sp500_fore['Adj Close'].diff() / sp500_fore['Adj Close']"
   ]
  },
  {
   "cell_type": "code",
   "execution_count": 18,
   "id": "0becec2c",
   "metadata": {},
   "outputs": [
    {
     "data": {
      "text/html": [
       "<div>\n",
       "<style scoped>\n",
       "    .dataframe tbody tr th:only-of-type {\n",
       "        vertical-align: middle;\n",
       "    }\n",
       "\n",
       "    .dataframe tbody tr th {\n",
       "        vertical-align: top;\n",
       "    }\n",
       "\n",
       "    .dataframe thead th {\n",
       "        text-align: right;\n",
       "    }\n",
       "</style>\n",
       "<table border=\"1\" class=\"dataframe\">\n",
       "  <thead>\n",
       "    <tr style=\"text-align: right;\">\n",
       "      <th></th>\n",
       "      <th>Open</th>\n",
       "      <th>High</th>\n",
       "      <th>Low</th>\n",
       "      <th>Close</th>\n",
       "      <th>Adj Close</th>\n",
       "      <th>Volume</th>\n",
       "      <th>Returns %</th>\n",
       "    </tr>\n",
       "    <tr>\n",
       "      <th>Date</th>\n",
       "      <th></th>\n",
       "      <th></th>\n",
       "      <th></th>\n",
       "      <th></th>\n",
       "      <th></th>\n",
       "      <th></th>\n",
       "      <th></th>\n",
       "    </tr>\n",
       "  </thead>\n",
       "  <tbody>\n",
       "    <tr>\n",
       "      <th>2016-01-04</th>\n",
       "      <td>7924.549805</td>\n",
       "      <td>7937.549805</td>\n",
       "      <td>7781.100098</td>\n",
       "      <td>7791.299805</td>\n",
       "      <td>7791.299805</td>\n",
       "      <td>134700</td>\n",
       "      <td>NaN</td>\n",
       "    </tr>\n",
       "    <tr>\n",
       "      <th>2016-01-05</th>\n",
       "      <td>7828.399902</td>\n",
       "      <td>7831.200195</td>\n",
       "      <td>7763.250000</td>\n",
       "      <td>7784.649902</td>\n",
       "      <td>7784.649902</td>\n",
       "      <td>145200</td>\n",
       "      <td>-0.000854</td>\n",
       "    </tr>\n",
       "    <tr>\n",
       "      <th>2016-01-06</th>\n",
       "      <td>7788.049805</td>\n",
       "      <td>7800.950195</td>\n",
       "      <td>7721.200195</td>\n",
       "      <td>7741.000000</td>\n",
       "      <td>7741.000000</td>\n",
       "      <td>147100</td>\n",
       "      <td>-0.005639</td>\n",
       "    </tr>\n",
       "    <tr>\n",
       "      <th>2016-01-07</th>\n",
       "      <td>7673.350098</td>\n",
       "      <td>7674.950195</td>\n",
       "      <td>7556.600098</td>\n",
       "      <td>7568.299805</td>\n",
       "      <td>7568.299805</td>\n",
       "      <td>188900</td>\n",
       "      <td>-0.022819</td>\n",
       "    </tr>\n",
       "    <tr>\n",
       "      <th>2016-01-08</th>\n",
       "      <td>7611.649902</td>\n",
       "      <td>7634.100098</td>\n",
       "      <td>7581.049805</td>\n",
       "      <td>7601.350098</td>\n",
       "      <td>7601.350098</td>\n",
       "      <td>157400</td>\n",
       "      <td>0.004348</td>\n",
       "    </tr>\n",
       "  </tbody>\n",
       "</table>\n",
       "</div>"
      ],
      "text/plain": [
       "                   Open         High          Low        Close    Adj Close  \\\n",
       "Date                                                                          \n",
       "2016-01-04  7924.549805  7937.549805  7781.100098  7791.299805  7791.299805   \n",
       "2016-01-05  7828.399902  7831.200195  7763.250000  7784.649902  7784.649902   \n",
       "2016-01-06  7788.049805  7800.950195  7721.200195  7741.000000  7741.000000   \n",
       "2016-01-07  7673.350098  7674.950195  7556.600098  7568.299805  7568.299805   \n",
       "2016-01-08  7611.649902  7634.100098  7581.049805  7601.350098  7601.350098   \n",
       "\n",
       "            Volume  Returns %  \n",
       "Date                           \n",
       "2016-01-04  134700        NaN  \n",
       "2016-01-05  145200  -0.000854  \n",
       "2016-01-06  147100  -0.005639  \n",
       "2016-01-07  188900  -0.022819  \n",
       "2016-01-08  157400   0.004348  "
      ]
     },
     "execution_count": 18,
     "metadata": {},
     "output_type": "execute_result"
    }
   ],
   "source": [
    "sp500_fore.head()"
   ]
  },
  {
   "cell_type": "code",
   "execution_count": 19,
   "id": "f6aece87",
   "metadata": {},
   "outputs": [],
   "source": [
    "# np.log(sp500_fore.loc[~np.isnan(np.array(sp500_fore['Returns %'])),'Returns %']+1)"
   ]
  },
  {
   "cell_type": "code",
   "execution_count": 20,
   "id": "dda2eac3",
   "metadata": {},
   "outputs": [],
   "source": [
    "# np.log(sp500.loc[~np.isnan(np.array(sp500['Returns %'])),'Returns %']+1).append(sp500_fore['Adj Close'])"
   ]
  },
  {
   "cell_type": "code",
   "execution_count": 21,
   "id": "b2bad481",
   "metadata": {},
   "outputs": [],
   "source": [
    "# non seasonal\n",
    "def dynamic_pred(df,df1):\n",
    "    len_df=len(df)\n",
    "    pred_df=pd.Series()\n",
    "    for y,x in df1.items():\n",
    "        sar = sm.tsa.statespace.SARIMAX(df, \n",
    "                                order=(1,0,1), \n",
    "                                seasonal_order=(1,0,0,45), \n",
    "                                trend='c').fit()\n",
    "        pred=sar.forecast(steps=1)\n",
    "        \n",
    "        x=pd.Series([x],index=[y])\n",
    "        pred.index=x.index\n",
    "        pred_df=pred_df.append(pred)\n",
    "        if len(df)==len_df+len(df1):\n",
    "            break\n",
    "        else:\n",
    "            df=df.append(x)\n",
    "              \n",
    "    return pred_df"
   ]
  },
  {
   "cell_type": "code",
   "execution_count": 22,
   "id": "c3b523cd",
   "metadata": {
    "scrolled": false
   },
   "outputs": [
    {
     "name": "stderr",
     "output_type": "stream",
     "text": [
      "C:\\Users\\hp\\AppData\\Local\\Temp\\ipykernel_14348\\4164044962.py:4: FutureWarning: The default dtype for empty Series will be 'object' instead of 'float64' in a future version. Specify a dtype explicitly to silence this warning.\n",
      "  pred_df=pd.Series()\n",
      "C:\\Users\\hp\\miniconda3\\envs\\kirtesh\\lib\\site-packages\\statsmodels\\tsa\\base\\tsa_model.py:471: ValueWarning: A date index has been provided, but it has no associated frequency information and so will be ignored when e.g. forecasting.\n",
      "  self._init_dates(dates, freq)\n",
      "C:\\Users\\hp\\miniconda3\\envs\\kirtesh\\lib\\site-packages\\statsmodels\\tsa\\base\\tsa_model.py:471: ValueWarning: A date index has been provided, but it has no associated frequency information and so will be ignored when e.g. forecasting.\n",
      "  self._init_dates(dates, freq)\n",
      "C:\\Users\\hp\\miniconda3\\envs\\kirtesh\\lib\\site-packages\\statsmodels\\tsa\\base\\tsa_model.py:834: ValueWarning: No supported index is available. Prediction results will be given with an integer index beginning at `start`.\n",
      "  return get_prediction_index(\n",
      "C:\\Users\\hp\\AppData\\Local\\Temp\\ipykernel_14348\\4164044962.py:14: FutureWarning: The series.append method is deprecated and will be removed from pandas in a future version. Use pandas.concat instead.\n",
      "  pred_df=pred_df.append(pred)\n",
      "C:\\Users\\hp\\AppData\\Local\\Temp\\ipykernel_14348\\4164044962.py:18: FutureWarning: The series.append method is deprecated and will be removed from pandas in a future version. Use pandas.concat instead.\n",
      "  df=df.append(x)\n",
      "C:\\Users\\hp\\miniconda3\\envs\\kirtesh\\lib\\site-packages\\statsmodels\\tsa\\base\\tsa_model.py:471: ValueWarning: A date index has been provided, but it has no associated frequency information and so will be ignored when e.g. forecasting.\n",
      "  self._init_dates(dates, freq)\n",
      "C:\\Users\\hp\\miniconda3\\envs\\kirtesh\\lib\\site-packages\\statsmodels\\tsa\\base\\tsa_model.py:471: ValueWarning: A date index has been provided, but it has no associated frequency information and so will be ignored when e.g. forecasting.\n",
      "  self._init_dates(dates, freq)\n",
      "C:\\Users\\hp\\miniconda3\\envs\\kirtesh\\lib\\site-packages\\statsmodels\\tsa\\base\\tsa_model.py:834: ValueWarning: No supported index is available. Prediction results will be given with an integer index beginning at `start`.\n",
      "  return get_prediction_index(\n",
      "C:\\Users\\hp\\AppData\\Local\\Temp\\ipykernel_14348\\4164044962.py:14: FutureWarning: The series.append method is deprecated and will be removed from pandas in a future version. Use pandas.concat instead.\n",
      "  pred_df=pred_df.append(pred)\n",
      "C:\\Users\\hp\\AppData\\Local\\Temp\\ipykernel_14348\\4164044962.py:18: FutureWarning: The series.append method is deprecated and will be removed from pandas in a future version. Use pandas.concat instead.\n",
      "  df=df.append(x)\n",
      "C:\\Users\\hp\\miniconda3\\envs\\kirtesh\\lib\\site-packages\\statsmodels\\tsa\\base\\tsa_model.py:471: ValueWarning: A date index has been provided, but it has no associated frequency information and so will be ignored when e.g. forecasting.\n",
      "  self._init_dates(dates, freq)\n",
      "C:\\Users\\hp\\miniconda3\\envs\\kirtesh\\lib\\site-packages\\statsmodels\\tsa\\base\\tsa_model.py:471: ValueWarning: A date index has been provided, but it has no associated frequency information and so will be ignored when e.g. forecasting.\n",
      "  self._init_dates(dates, freq)\n",
      "C:\\Users\\hp\\miniconda3\\envs\\kirtesh\\lib\\site-packages\\statsmodels\\tsa\\base\\tsa_model.py:834: ValueWarning: No supported index is available. Prediction results will be given with an integer index beginning at `start`.\n",
      "  return get_prediction_index(\n",
      "C:\\Users\\hp\\AppData\\Local\\Temp\\ipykernel_14348\\4164044962.py:14: FutureWarning: The series.append method is deprecated and will be removed from pandas in a future version. Use pandas.concat instead.\n",
      "  pred_df=pred_df.append(pred)\n",
      "C:\\Users\\hp\\AppData\\Local\\Temp\\ipykernel_14348\\4164044962.py:18: FutureWarning: The series.append method is deprecated and will be removed from pandas in a future version. Use pandas.concat instead.\n",
      "  df=df.append(x)\n",
      "C:\\Users\\hp\\miniconda3\\envs\\kirtesh\\lib\\site-packages\\statsmodels\\tsa\\base\\tsa_model.py:471: ValueWarning: A date index has been provided, but it has no associated frequency information and so will be ignored when e.g. forecasting.\n",
      "  self._init_dates(dates, freq)\n",
      "C:\\Users\\hp\\miniconda3\\envs\\kirtesh\\lib\\site-packages\\statsmodels\\tsa\\base\\tsa_model.py:471: ValueWarning: A date index has been provided, but it has no associated frequency information and so will be ignored when e.g. forecasting.\n",
      "  self._init_dates(dates, freq)\n",
      "C:\\Users\\hp\\miniconda3\\envs\\kirtesh\\lib\\site-packages\\statsmodels\\tsa\\base\\tsa_model.py:834: ValueWarning: No supported index is available. Prediction results will be given with an integer index beginning at `start`.\n",
      "  return get_prediction_index(\n",
      "C:\\Users\\hp\\AppData\\Local\\Temp\\ipykernel_14348\\4164044962.py:14: FutureWarning: The series.append method is deprecated and will be removed from pandas in a future version. Use pandas.concat instead.\n",
      "  pred_df=pred_df.append(pred)\n",
      "C:\\Users\\hp\\AppData\\Local\\Temp\\ipykernel_14348\\4164044962.py:18: FutureWarning: The series.append method is deprecated and will be removed from pandas in a future version. Use pandas.concat instead.\n",
      "  df=df.append(x)\n",
      "C:\\Users\\hp\\miniconda3\\envs\\kirtesh\\lib\\site-packages\\statsmodels\\tsa\\base\\tsa_model.py:471: ValueWarning: A date index has been provided, but it has no associated frequency information and so will be ignored when e.g. forecasting.\n",
      "  self._init_dates(dates, freq)\n",
      "C:\\Users\\hp\\miniconda3\\envs\\kirtesh\\lib\\site-packages\\statsmodels\\tsa\\base\\tsa_model.py:471: ValueWarning: A date index has been provided, but it has no associated frequency information and so will be ignored when e.g. forecasting.\n",
      "  self._init_dates(dates, freq)\n",
      "C:\\Users\\hp\\miniconda3\\envs\\kirtesh\\lib\\site-packages\\statsmodels\\tsa\\base\\tsa_model.py:834: ValueWarning: No supported index is available. Prediction results will be given with an integer index beginning at `start`.\n",
      "  return get_prediction_index(\n",
      "C:\\Users\\hp\\AppData\\Local\\Temp\\ipykernel_14348\\4164044962.py:14: FutureWarning: The series.append method is deprecated and will be removed from pandas in a future version. Use pandas.concat instead.\n",
      "  pred_df=pred_df.append(pred)\n",
      "C:\\Users\\hp\\AppData\\Local\\Temp\\ipykernel_14348\\4164044962.py:18: FutureWarning: The series.append method is deprecated and will be removed from pandas in a future version. Use pandas.concat instead.\n",
      "  df=df.append(x)\n",
      "C:\\Users\\hp\\miniconda3\\envs\\kirtesh\\lib\\site-packages\\statsmodels\\tsa\\base\\tsa_model.py:471: ValueWarning: A date index has been provided, but it has no associated frequency information and so will be ignored when e.g. forecasting.\n",
      "  self._init_dates(dates, freq)\n",
      "C:\\Users\\hp\\miniconda3\\envs\\kirtesh\\lib\\site-packages\\statsmodels\\tsa\\base\\tsa_model.py:471: ValueWarning: A date index has been provided, but it has no associated frequency information and so will be ignored when e.g. forecasting.\n",
      "  self._init_dates(dates, freq)\n",
      "C:\\Users\\hp\\miniconda3\\envs\\kirtesh\\lib\\site-packages\\statsmodels\\tsa\\base\\tsa_model.py:834: ValueWarning: No supported index is available. Prediction results will be given with an integer index beginning at `start`.\n",
      "  return get_prediction_index(\n",
      "C:\\Users\\hp\\AppData\\Local\\Temp\\ipykernel_14348\\4164044962.py:14: FutureWarning: The series.append method is deprecated and will be removed from pandas in a future version. Use pandas.concat instead.\n",
      "  pred_df=pred_df.append(pred)\n",
      "C:\\Users\\hp\\AppData\\Local\\Temp\\ipykernel_14348\\4164044962.py:18: FutureWarning: The series.append method is deprecated and will be removed from pandas in a future version. Use pandas.concat instead.\n",
      "  df=df.append(x)\n",
      "C:\\Users\\hp\\miniconda3\\envs\\kirtesh\\lib\\site-packages\\statsmodels\\tsa\\base\\tsa_model.py:471: ValueWarning: A date index has been provided, but it has no associated frequency information and so will be ignored when e.g. forecasting.\n",
      "  self._init_dates(dates, freq)\n",
      "C:\\Users\\hp\\miniconda3\\envs\\kirtesh\\lib\\site-packages\\statsmodels\\tsa\\base\\tsa_model.py:471: ValueWarning: A date index has been provided, but it has no associated frequency information and so will be ignored when e.g. forecasting.\n",
      "  self._init_dates(dates, freq)\n",
      "C:\\Users\\hp\\miniconda3\\envs\\kirtesh\\lib\\site-packages\\statsmodels\\tsa\\base\\tsa_model.py:834: ValueWarning: No supported index is available. Prediction results will be given with an integer index beginning at `start`.\n",
      "  return get_prediction_index(\n",
      "C:\\Users\\hp\\AppData\\Local\\Temp\\ipykernel_14348\\4164044962.py:14: FutureWarning: The series.append method is deprecated and will be removed from pandas in a future version. Use pandas.concat instead.\n",
      "  pred_df=pred_df.append(pred)\n",
      "C:\\Users\\hp\\AppData\\Local\\Temp\\ipykernel_14348\\4164044962.py:18: FutureWarning: The series.append method is deprecated and will be removed from pandas in a future version. Use pandas.concat instead.\n",
      "  df=df.append(x)\n",
      "C:\\Users\\hp\\miniconda3\\envs\\kirtesh\\lib\\site-packages\\statsmodels\\tsa\\base\\tsa_model.py:471: ValueWarning: A date index has been provided, but it has no associated frequency information and so will be ignored when e.g. forecasting.\n",
      "  self._init_dates(dates, freq)\n",
      "C:\\Users\\hp\\miniconda3\\envs\\kirtesh\\lib\\site-packages\\statsmodels\\tsa\\base\\tsa_model.py:471: ValueWarning: A date index has been provided, but it has no associated frequency information and so will be ignored when e.g. forecasting.\n",
      "  self._init_dates(dates, freq)\n"
     ]
    },
    {
     "name": "stderr",
     "output_type": "stream",
     "text": [
      "C:\\Users\\hp\\miniconda3\\envs\\kirtesh\\lib\\site-packages\\statsmodels\\tsa\\base\\tsa_model.py:834: ValueWarning: No supported index is available. Prediction results will be given with an integer index beginning at `start`.\n",
      "  return get_prediction_index(\n",
      "C:\\Users\\hp\\AppData\\Local\\Temp\\ipykernel_14348\\4164044962.py:14: FutureWarning: The series.append method is deprecated and will be removed from pandas in a future version. Use pandas.concat instead.\n",
      "  pred_df=pred_df.append(pred)\n",
      "C:\\Users\\hp\\AppData\\Local\\Temp\\ipykernel_14348\\4164044962.py:18: FutureWarning: The series.append method is deprecated and will be removed from pandas in a future version. Use pandas.concat instead.\n",
      "  df=df.append(x)\n",
      "C:\\Users\\hp\\miniconda3\\envs\\kirtesh\\lib\\site-packages\\statsmodels\\tsa\\base\\tsa_model.py:471: ValueWarning: A date index has been provided, but it has no associated frequency information and so will be ignored when e.g. forecasting.\n",
      "  self._init_dates(dates, freq)\n",
      "C:\\Users\\hp\\miniconda3\\envs\\kirtesh\\lib\\site-packages\\statsmodels\\tsa\\base\\tsa_model.py:471: ValueWarning: A date index has been provided, but it has no associated frequency information and so will be ignored when e.g. forecasting.\n",
      "  self._init_dates(dates, freq)\n",
      "C:\\Users\\hp\\miniconda3\\envs\\kirtesh\\lib\\site-packages\\statsmodels\\tsa\\base\\tsa_model.py:834: ValueWarning: No supported index is available. Prediction results will be given with an integer index beginning at `start`.\n",
      "  return get_prediction_index(\n",
      "C:\\Users\\hp\\AppData\\Local\\Temp\\ipykernel_14348\\4164044962.py:14: FutureWarning: The series.append method is deprecated and will be removed from pandas in a future version. Use pandas.concat instead.\n",
      "  pred_df=pred_df.append(pred)\n",
      "C:\\Users\\hp\\AppData\\Local\\Temp\\ipykernel_14348\\4164044962.py:18: FutureWarning: The series.append method is deprecated and will be removed from pandas in a future version. Use pandas.concat instead.\n",
      "  df=df.append(x)\n",
      "C:\\Users\\hp\\miniconda3\\envs\\kirtesh\\lib\\site-packages\\statsmodels\\tsa\\base\\tsa_model.py:471: ValueWarning: A date index has been provided, but it has no associated frequency information and so will be ignored when e.g. forecasting.\n",
      "  self._init_dates(dates, freq)\n",
      "C:\\Users\\hp\\miniconda3\\envs\\kirtesh\\lib\\site-packages\\statsmodels\\tsa\\base\\tsa_model.py:471: ValueWarning: A date index has been provided, but it has no associated frequency information and so will be ignored when e.g. forecasting.\n",
      "  self._init_dates(dates, freq)\n",
      "C:\\Users\\hp\\miniconda3\\envs\\kirtesh\\lib\\site-packages\\statsmodels\\tsa\\base\\tsa_model.py:834: ValueWarning: No supported index is available. Prediction results will be given with an integer index beginning at `start`.\n",
      "  return get_prediction_index(\n",
      "C:\\Users\\hp\\AppData\\Local\\Temp\\ipykernel_14348\\4164044962.py:14: FutureWarning: The series.append method is deprecated and will be removed from pandas in a future version. Use pandas.concat instead.\n",
      "  pred_df=pred_df.append(pred)\n",
      "C:\\Users\\hp\\AppData\\Local\\Temp\\ipykernel_14348\\4164044962.py:18: FutureWarning: The series.append method is deprecated and will be removed from pandas in a future version. Use pandas.concat instead.\n",
      "  df=df.append(x)\n",
      "C:\\Users\\hp\\miniconda3\\envs\\kirtesh\\lib\\site-packages\\statsmodels\\tsa\\base\\tsa_model.py:471: ValueWarning: A date index has been provided, but it has no associated frequency information and so will be ignored when e.g. forecasting.\n",
      "  self._init_dates(dates, freq)\n",
      "C:\\Users\\hp\\miniconda3\\envs\\kirtesh\\lib\\site-packages\\statsmodels\\tsa\\base\\tsa_model.py:471: ValueWarning: A date index has been provided, but it has no associated frequency information and so will be ignored when e.g. forecasting.\n",
      "  self._init_dates(dates, freq)\n",
      "C:\\Users\\hp\\miniconda3\\envs\\kirtesh\\lib\\site-packages\\statsmodels\\tsa\\base\\tsa_model.py:834: ValueWarning: No supported index is available. Prediction results will be given with an integer index beginning at `start`.\n",
      "  return get_prediction_index(\n",
      "C:\\Users\\hp\\AppData\\Local\\Temp\\ipykernel_14348\\4164044962.py:14: FutureWarning: The series.append method is deprecated and will be removed from pandas in a future version. Use pandas.concat instead.\n",
      "  pred_df=pred_df.append(pred)\n",
      "C:\\Users\\hp\\AppData\\Local\\Temp\\ipykernel_14348\\4164044962.py:18: FutureWarning: The series.append method is deprecated and will be removed from pandas in a future version. Use pandas.concat instead.\n",
      "  df=df.append(x)\n",
      "C:\\Users\\hp\\miniconda3\\envs\\kirtesh\\lib\\site-packages\\statsmodels\\tsa\\base\\tsa_model.py:471: ValueWarning: A date index has been provided, but it has no associated frequency information and so will be ignored when e.g. forecasting.\n",
      "  self._init_dates(dates, freq)\n",
      "C:\\Users\\hp\\miniconda3\\envs\\kirtesh\\lib\\site-packages\\statsmodels\\tsa\\base\\tsa_model.py:471: ValueWarning: A date index has been provided, but it has no associated frequency information and so will be ignored when e.g. forecasting.\n",
      "  self._init_dates(dates, freq)\n",
      "C:\\Users\\hp\\miniconda3\\envs\\kirtesh\\lib\\site-packages\\statsmodels\\tsa\\base\\tsa_model.py:834: ValueWarning: No supported index is available. Prediction results will be given with an integer index beginning at `start`.\n",
      "  return get_prediction_index(\n",
      "C:\\Users\\hp\\AppData\\Local\\Temp\\ipykernel_14348\\4164044962.py:14: FutureWarning: The series.append method is deprecated and will be removed from pandas in a future version. Use pandas.concat instead.\n",
      "  pred_df=pred_df.append(pred)\n",
      "C:\\Users\\hp\\AppData\\Local\\Temp\\ipykernel_14348\\4164044962.py:18: FutureWarning: The series.append method is deprecated and will be removed from pandas in a future version. Use pandas.concat instead.\n",
      "  df=df.append(x)\n",
      "C:\\Users\\hp\\miniconda3\\envs\\kirtesh\\lib\\site-packages\\statsmodels\\tsa\\base\\tsa_model.py:471: ValueWarning: A date index has been provided, but it has no associated frequency information and so will be ignored when e.g. forecasting.\n",
      "  self._init_dates(dates, freq)\n",
      "C:\\Users\\hp\\miniconda3\\envs\\kirtesh\\lib\\site-packages\\statsmodels\\tsa\\base\\tsa_model.py:471: ValueWarning: A date index has been provided, but it has no associated frequency information and so will be ignored when e.g. forecasting.\n",
      "  self._init_dates(dates, freq)\n",
      "C:\\Users\\hp\\miniconda3\\envs\\kirtesh\\lib\\site-packages\\statsmodels\\tsa\\base\\tsa_model.py:834: ValueWarning: No supported index is available. Prediction results will be given with an integer index beginning at `start`.\n",
      "  return get_prediction_index(\n",
      "C:\\Users\\hp\\AppData\\Local\\Temp\\ipykernel_14348\\4164044962.py:14: FutureWarning: The series.append method is deprecated and will be removed from pandas in a future version. Use pandas.concat instead.\n",
      "  pred_df=pred_df.append(pred)\n",
      "C:\\Users\\hp\\AppData\\Local\\Temp\\ipykernel_14348\\4164044962.py:18: FutureWarning: The series.append method is deprecated and will be removed from pandas in a future version. Use pandas.concat instead.\n",
      "  df=df.append(x)\n",
      "C:\\Users\\hp\\miniconda3\\envs\\kirtesh\\lib\\site-packages\\statsmodels\\tsa\\base\\tsa_model.py:471: ValueWarning: A date index has been provided, but it has no associated frequency information and so will be ignored when e.g. forecasting.\n",
      "  self._init_dates(dates, freq)\n",
      "C:\\Users\\hp\\miniconda3\\envs\\kirtesh\\lib\\site-packages\\statsmodels\\tsa\\base\\tsa_model.py:471: ValueWarning: A date index has been provided, but it has no associated frequency information and so will be ignored when e.g. forecasting.\n",
      "  self._init_dates(dates, freq)\n",
      "C:\\Users\\hp\\miniconda3\\envs\\kirtesh\\lib\\site-packages\\statsmodels\\tsa\\base\\tsa_model.py:834: ValueWarning: No supported index is available. Prediction results will be given with an integer index beginning at `start`.\n",
      "  return get_prediction_index(\n",
      "C:\\Users\\hp\\AppData\\Local\\Temp\\ipykernel_14348\\4164044962.py:14: FutureWarning: The series.append method is deprecated and will be removed from pandas in a future version. Use pandas.concat instead.\n",
      "  pred_df=pred_df.append(pred)\n",
      "C:\\Users\\hp\\AppData\\Local\\Temp\\ipykernel_14348\\4164044962.py:18: FutureWarning: The series.append method is deprecated and will be removed from pandas in a future version. Use pandas.concat instead.\n",
      "  df=df.append(x)\n",
      "C:\\Users\\hp\\miniconda3\\envs\\kirtesh\\lib\\site-packages\\statsmodels\\tsa\\base\\tsa_model.py:471: ValueWarning: A date index has been provided, but it has no associated frequency information and so will be ignored when e.g. forecasting.\n",
      "  self._init_dates(dates, freq)\n",
      "C:\\Users\\hp\\miniconda3\\envs\\kirtesh\\lib\\site-packages\\statsmodels\\tsa\\base\\tsa_model.py:471: ValueWarning: A date index has been provided, but it has no associated frequency information and so will be ignored when e.g. forecasting.\n",
      "  self._init_dates(dates, freq)\n"
     ]
    },
    {
     "name": "stderr",
     "output_type": "stream",
     "text": [
      "C:\\Users\\hp\\miniconda3\\envs\\kirtesh\\lib\\site-packages\\statsmodels\\tsa\\base\\tsa_model.py:834: ValueWarning: No supported index is available. Prediction results will be given with an integer index beginning at `start`.\n",
      "  return get_prediction_index(\n",
      "C:\\Users\\hp\\AppData\\Local\\Temp\\ipykernel_14348\\4164044962.py:14: FutureWarning: The series.append method is deprecated and will be removed from pandas in a future version. Use pandas.concat instead.\n",
      "  pred_df=pred_df.append(pred)\n",
      "C:\\Users\\hp\\AppData\\Local\\Temp\\ipykernel_14348\\4164044962.py:18: FutureWarning: The series.append method is deprecated and will be removed from pandas in a future version. Use pandas.concat instead.\n",
      "  df=df.append(x)\n",
      "C:\\Users\\hp\\miniconda3\\envs\\kirtesh\\lib\\site-packages\\statsmodels\\tsa\\base\\tsa_model.py:471: ValueWarning: A date index has been provided, but it has no associated frequency information and so will be ignored when e.g. forecasting.\n",
      "  self._init_dates(dates, freq)\n",
      "C:\\Users\\hp\\miniconda3\\envs\\kirtesh\\lib\\site-packages\\statsmodels\\tsa\\base\\tsa_model.py:471: ValueWarning: A date index has been provided, but it has no associated frequency information and so will be ignored when e.g. forecasting.\n",
      "  self._init_dates(dates, freq)\n",
      "C:\\Users\\hp\\miniconda3\\envs\\kirtesh\\lib\\site-packages\\statsmodels\\tsa\\base\\tsa_model.py:834: ValueWarning: No supported index is available. Prediction results will be given with an integer index beginning at `start`.\n",
      "  return get_prediction_index(\n",
      "C:\\Users\\hp\\AppData\\Local\\Temp\\ipykernel_14348\\4164044962.py:14: FutureWarning: The series.append method is deprecated and will be removed from pandas in a future version. Use pandas.concat instead.\n",
      "  pred_df=pred_df.append(pred)\n",
      "C:\\Users\\hp\\AppData\\Local\\Temp\\ipykernel_14348\\4164044962.py:18: FutureWarning: The series.append method is deprecated and will be removed from pandas in a future version. Use pandas.concat instead.\n",
      "  df=df.append(x)\n",
      "C:\\Users\\hp\\miniconda3\\envs\\kirtesh\\lib\\site-packages\\statsmodels\\tsa\\base\\tsa_model.py:471: ValueWarning: A date index has been provided, but it has no associated frequency information and so will be ignored when e.g. forecasting.\n",
      "  self._init_dates(dates, freq)\n",
      "C:\\Users\\hp\\miniconda3\\envs\\kirtesh\\lib\\site-packages\\statsmodels\\tsa\\base\\tsa_model.py:471: ValueWarning: A date index has been provided, but it has no associated frequency information and so will be ignored when e.g. forecasting.\n",
      "  self._init_dates(dates, freq)\n",
      "C:\\Users\\hp\\miniconda3\\envs\\kirtesh\\lib\\site-packages\\statsmodels\\tsa\\base\\tsa_model.py:834: ValueWarning: No supported index is available. Prediction results will be given with an integer index beginning at `start`.\n",
      "  return get_prediction_index(\n",
      "C:\\Users\\hp\\AppData\\Local\\Temp\\ipykernel_14348\\4164044962.py:14: FutureWarning: The series.append method is deprecated and will be removed from pandas in a future version. Use pandas.concat instead.\n",
      "  pred_df=pred_df.append(pred)\n",
      "C:\\Users\\hp\\AppData\\Local\\Temp\\ipykernel_14348\\4164044962.py:18: FutureWarning: The series.append method is deprecated and will be removed from pandas in a future version. Use pandas.concat instead.\n",
      "  df=df.append(x)\n",
      "C:\\Users\\hp\\miniconda3\\envs\\kirtesh\\lib\\site-packages\\statsmodels\\tsa\\base\\tsa_model.py:471: ValueWarning: A date index has been provided, but it has no associated frequency information and so will be ignored when e.g. forecasting.\n",
      "  self._init_dates(dates, freq)\n",
      "C:\\Users\\hp\\miniconda3\\envs\\kirtesh\\lib\\site-packages\\statsmodels\\tsa\\base\\tsa_model.py:471: ValueWarning: A date index has been provided, but it has no associated frequency information and so will be ignored when e.g. forecasting.\n",
      "  self._init_dates(dates, freq)\n",
      "C:\\Users\\hp\\miniconda3\\envs\\kirtesh\\lib\\site-packages\\statsmodels\\tsa\\base\\tsa_model.py:834: ValueWarning: No supported index is available. Prediction results will be given with an integer index beginning at `start`.\n",
      "  return get_prediction_index(\n",
      "C:\\Users\\hp\\AppData\\Local\\Temp\\ipykernel_14348\\4164044962.py:14: FutureWarning: The series.append method is deprecated and will be removed from pandas in a future version. Use pandas.concat instead.\n",
      "  pred_df=pred_df.append(pred)\n",
      "C:\\Users\\hp\\AppData\\Local\\Temp\\ipykernel_14348\\4164044962.py:18: FutureWarning: The series.append method is deprecated and will be removed from pandas in a future version. Use pandas.concat instead.\n",
      "  df=df.append(x)\n",
      "C:\\Users\\hp\\miniconda3\\envs\\kirtesh\\lib\\site-packages\\statsmodels\\tsa\\base\\tsa_model.py:471: ValueWarning: A date index has been provided, but it has no associated frequency information and so will be ignored when e.g. forecasting.\n",
      "  self._init_dates(dates, freq)\n",
      "C:\\Users\\hp\\miniconda3\\envs\\kirtesh\\lib\\site-packages\\statsmodels\\tsa\\base\\tsa_model.py:471: ValueWarning: A date index has been provided, but it has no associated frequency information and so will be ignored when e.g. forecasting.\n",
      "  self._init_dates(dates, freq)\n",
      "C:\\Users\\hp\\miniconda3\\envs\\kirtesh\\lib\\site-packages\\statsmodels\\tsa\\base\\tsa_model.py:834: ValueWarning: No supported index is available. Prediction results will be given with an integer index beginning at `start`.\n",
      "  return get_prediction_index(\n",
      "C:\\Users\\hp\\AppData\\Local\\Temp\\ipykernel_14348\\4164044962.py:14: FutureWarning: The series.append method is deprecated and will be removed from pandas in a future version. Use pandas.concat instead.\n",
      "  pred_df=pred_df.append(pred)\n",
      "C:\\Users\\hp\\AppData\\Local\\Temp\\ipykernel_14348\\4164044962.py:18: FutureWarning: The series.append method is deprecated and will be removed from pandas in a future version. Use pandas.concat instead.\n",
      "  df=df.append(x)\n",
      "C:\\Users\\hp\\miniconda3\\envs\\kirtesh\\lib\\site-packages\\statsmodels\\tsa\\base\\tsa_model.py:471: ValueWarning: A date index has been provided, but it has no associated frequency information and so will be ignored when e.g. forecasting.\n",
      "  self._init_dates(dates, freq)\n",
      "C:\\Users\\hp\\miniconda3\\envs\\kirtesh\\lib\\site-packages\\statsmodels\\tsa\\base\\tsa_model.py:471: ValueWarning: A date index has been provided, but it has no associated frequency information and so will be ignored when e.g. forecasting.\n",
      "  self._init_dates(dates, freq)\n",
      "C:\\Users\\hp\\miniconda3\\envs\\kirtesh\\lib\\site-packages\\statsmodels\\tsa\\base\\tsa_model.py:834: ValueWarning: No supported index is available. Prediction results will be given with an integer index beginning at `start`.\n",
      "  return get_prediction_index(\n",
      "C:\\Users\\hp\\AppData\\Local\\Temp\\ipykernel_14348\\4164044962.py:14: FutureWarning: The series.append method is deprecated and will be removed from pandas in a future version. Use pandas.concat instead.\n",
      "  pred_df=pred_df.append(pred)\n",
      "C:\\Users\\hp\\AppData\\Local\\Temp\\ipykernel_14348\\4164044962.py:18: FutureWarning: The series.append method is deprecated and will be removed from pandas in a future version. Use pandas.concat instead.\n",
      "  df=df.append(x)\n",
      "C:\\Users\\hp\\miniconda3\\envs\\kirtesh\\lib\\site-packages\\statsmodels\\tsa\\base\\tsa_model.py:471: ValueWarning: A date index has been provided, but it has no associated frequency information and so will be ignored when e.g. forecasting.\n",
      "  self._init_dates(dates, freq)\n",
      "C:\\Users\\hp\\miniconda3\\envs\\kirtesh\\lib\\site-packages\\statsmodels\\tsa\\base\\tsa_model.py:471: ValueWarning: A date index has been provided, but it has no associated frequency information and so will be ignored when e.g. forecasting.\n",
      "  self._init_dates(dates, freq)\n",
      "C:\\Users\\hp\\miniconda3\\envs\\kirtesh\\lib\\site-packages\\statsmodels\\tsa\\base\\tsa_model.py:834: ValueWarning: No supported index is available. Prediction results will be given with an integer index beginning at `start`.\n",
      "  return get_prediction_index(\n",
      "C:\\Users\\hp\\AppData\\Local\\Temp\\ipykernel_14348\\4164044962.py:14: FutureWarning: The series.append method is deprecated and will be removed from pandas in a future version. Use pandas.concat instead.\n",
      "  pred_df=pred_df.append(pred)\n",
      "C:\\Users\\hp\\AppData\\Local\\Temp\\ipykernel_14348\\4164044962.py:18: FutureWarning: The series.append method is deprecated and will be removed from pandas in a future version. Use pandas.concat instead.\n",
      "  df=df.append(x)\n",
      "C:\\Users\\hp\\miniconda3\\envs\\kirtesh\\lib\\site-packages\\statsmodels\\tsa\\base\\tsa_model.py:471: ValueWarning: A date index has been provided, but it has no associated frequency information and so will be ignored when e.g. forecasting.\n",
      "  self._init_dates(dates, freq)\n",
      "C:\\Users\\hp\\miniconda3\\envs\\kirtesh\\lib\\site-packages\\statsmodels\\tsa\\base\\tsa_model.py:471: ValueWarning: A date index has been provided, but it has no associated frequency information and so will be ignored when e.g. forecasting.\n",
      "  self._init_dates(dates, freq)\n"
     ]
    },
    {
     "name": "stderr",
     "output_type": "stream",
     "text": [
      "C:\\Users\\hp\\miniconda3\\envs\\kirtesh\\lib\\site-packages\\statsmodels\\base\\model.py:604: ConvergenceWarning: Maximum Likelihood optimization failed to converge. Check mle_retvals\n",
      "  warnings.warn(\"Maximum Likelihood optimization failed to \"\n",
      "C:\\Users\\hp\\miniconda3\\envs\\kirtesh\\lib\\site-packages\\statsmodels\\tsa\\base\\tsa_model.py:834: ValueWarning: No supported index is available. Prediction results will be given with an integer index beginning at `start`.\n",
      "  return get_prediction_index(\n",
      "C:\\Users\\hp\\AppData\\Local\\Temp\\ipykernel_14348\\4164044962.py:14: FutureWarning: The series.append method is deprecated and will be removed from pandas in a future version. Use pandas.concat instead.\n",
      "  pred_df=pred_df.append(pred)\n",
      "C:\\Users\\hp\\AppData\\Local\\Temp\\ipykernel_14348\\4164044962.py:18: FutureWarning: The series.append method is deprecated and will be removed from pandas in a future version. Use pandas.concat instead.\n",
      "  df=df.append(x)\n",
      "C:\\Users\\hp\\miniconda3\\envs\\kirtesh\\lib\\site-packages\\statsmodels\\tsa\\base\\tsa_model.py:471: ValueWarning: A date index has been provided, but it has no associated frequency information and so will be ignored when e.g. forecasting.\n",
      "  self._init_dates(dates, freq)\n",
      "C:\\Users\\hp\\miniconda3\\envs\\kirtesh\\lib\\site-packages\\statsmodels\\tsa\\base\\tsa_model.py:471: ValueWarning: A date index has been provided, but it has no associated frequency information and so will be ignored when e.g. forecasting.\n",
      "  self._init_dates(dates, freq)\n",
      "C:\\Users\\hp\\miniconda3\\envs\\kirtesh\\lib\\site-packages\\statsmodels\\tsa\\base\\tsa_model.py:834: ValueWarning: No supported index is available. Prediction results will be given with an integer index beginning at `start`.\n",
      "  return get_prediction_index(\n",
      "C:\\Users\\hp\\AppData\\Local\\Temp\\ipykernel_14348\\4164044962.py:14: FutureWarning: The series.append method is deprecated and will be removed from pandas in a future version. Use pandas.concat instead.\n",
      "  pred_df=pred_df.append(pred)\n",
      "C:\\Users\\hp\\AppData\\Local\\Temp\\ipykernel_14348\\4164044962.py:18: FutureWarning: The series.append method is deprecated and will be removed from pandas in a future version. Use pandas.concat instead.\n",
      "  df=df.append(x)\n",
      "C:\\Users\\hp\\miniconda3\\envs\\kirtesh\\lib\\site-packages\\statsmodels\\tsa\\base\\tsa_model.py:471: ValueWarning: A date index has been provided, but it has no associated frequency information and so will be ignored when e.g. forecasting.\n",
      "  self._init_dates(dates, freq)\n",
      "C:\\Users\\hp\\miniconda3\\envs\\kirtesh\\lib\\site-packages\\statsmodels\\tsa\\base\\tsa_model.py:471: ValueWarning: A date index has been provided, but it has no associated frequency information and so will be ignored when e.g. forecasting.\n",
      "  self._init_dates(dates, freq)\n",
      "C:\\Users\\hp\\miniconda3\\envs\\kirtesh\\lib\\site-packages\\statsmodels\\tsa\\base\\tsa_model.py:834: ValueWarning: No supported index is available. Prediction results will be given with an integer index beginning at `start`.\n",
      "  return get_prediction_index(\n",
      "C:\\Users\\hp\\AppData\\Local\\Temp\\ipykernel_14348\\4164044962.py:14: FutureWarning: The series.append method is deprecated and will be removed from pandas in a future version. Use pandas.concat instead.\n",
      "  pred_df=pred_df.append(pred)\n",
      "C:\\Users\\hp\\AppData\\Local\\Temp\\ipykernel_14348\\4164044962.py:18: FutureWarning: The series.append method is deprecated and will be removed from pandas in a future version. Use pandas.concat instead.\n",
      "  df=df.append(x)\n",
      "C:\\Users\\hp\\miniconda3\\envs\\kirtesh\\lib\\site-packages\\statsmodels\\tsa\\base\\tsa_model.py:471: ValueWarning: A date index has been provided, but it has no associated frequency information and so will be ignored when e.g. forecasting.\n",
      "  self._init_dates(dates, freq)\n",
      "C:\\Users\\hp\\miniconda3\\envs\\kirtesh\\lib\\site-packages\\statsmodels\\tsa\\base\\tsa_model.py:471: ValueWarning: A date index has been provided, but it has no associated frequency information and so will be ignored when e.g. forecasting.\n",
      "  self._init_dates(dates, freq)\n",
      "C:\\Users\\hp\\miniconda3\\envs\\kirtesh\\lib\\site-packages\\statsmodels\\tsa\\base\\tsa_model.py:834: ValueWarning: No supported index is available. Prediction results will be given with an integer index beginning at `start`.\n",
      "  return get_prediction_index(\n",
      "C:\\Users\\hp\\AppData\\Local\\Temp\\ipykernel_14348\\4164044962.py:14: FutureWarning: The series.append method is deprecated and will be removed from pandas in a future version. Use pandas.concat instead.\n",
      "  pred_df=pred_df.append(pred)\n",
      "C:\\Users\\hp\\AppData\\Local\\Temp\\ipykernel_14348\\4164044962.py:18: FutureWarning: The series.append method is deprecated and will be removed from pandas in a future version. Use pandas.concat instead.\n",
      "  df=df.append(x)\n",
      "C:\\Users\\hp\\miniconda3\\envs\\kirtesh\\lib\\site-packages\\statsmodels\\tsa\\base\\tsa_model.py:471: ValueWarning: A date index has been provided, but it has no associated frequency information and so will be ignored when e.g. forecasting.\n",
      "  self._init_dates(dates, freq)\n",
      "C:\\Users\\hp\\miniconda3\\envs\\kirtesh\\lib\\site-packages\\statsmodels\\tsa\\base\\tsa_model.py:471: ValueWarning: A date index has been provided, but it has no associated frequency information and so will be ignored when e.g. forecasting.\n",
      "  self._init_dates(dates, freq)\n",
      "C:\\Users\\hp\\miniconda3\\envs\\kirtesh\\lib\\site-packages\\statsmodels\\tsa\\base\\tsa_model.py:834: ValueWarning: No supported index is available. Prediction results will be given with an integer index beginning at `start`.\n",
      "  return get_prediction_index(\n",
      "C:\\Users\\hp\\AppData\\Local\\Temp\\ipykernel_14348\\4164044962.py:14: FutureWarning: The series.append method is deprecated and will be removed from pandas in a future version. Use pandas.concat instead.\n",
      "  pred_df=pred_df.append(pred)\n",
      "C:\\Users\\hp\\AppData\\Local\\Temp\\ipykernel_14348\\4164044962.py:18: FutureWarning: The series.append method is deprecated and will be removed from pandas in a future version. Use pandas.concat instead.\n",
      "  df=df.append(x)\n",
      "C:\\Users\\hp\\miniconda3\\envs\\kirtesh\\lib\\site-packages\\statsmodels\\tsa\\base\\tsa_model.py:471: ValueWarning: A date index has been provided, but it has no associated frequency information and so will be ignored when e.g. forecasting.\n",
      "  self._init_dates(dates, freq)\n",
      "C:\\Users\\hp\\miniconda3\\envs\\kirtesh\\lib\\site-packages\\statsmodels\\tsa\\base\\tsa_model.py:471: ValueWarning: A date index has been provided, but it has no associated frequency information and so will be ignored when e.g. forecasting.\n",
      "  self._init_dates(dates, freq)\n",
      "C:\\Users\\hp\\miniconda3\\envs\\kirtesh\\lib\\site-packages\\statsmodels\\tsa\\base\\tsa_model.py:834: ValueWarning: No supported index is available. Prediction results will be given with an integer index beginning at `start`.\n",
      "  return get_prediction_index(\n",
      "C:\\Users\\hp\\AppData\\Local\\Temp\\ipykernel_14348\\4164044962.py:14: FutureWarning: The series.append method is deprecated and will be removed from pandas in a future version. Use pandas.concat instead.\n",
      "  pred_df=pred_df.append(pred)\n",
      "C:\\Users\\hp\\AppData\\Local\\Temp\\ipykernel_14348\\4164044962.py:18: FutureWarning: The series.append method is deprecated and will be removed from pandas in a future version. Use pandas.concat instead.\n",
      "  df=df.append(x)\n",
      "C:\\Users\\hp\\miniconda3\\envs\\kirtesh\\lib\\site-packages\\statsmodels\\tsa\\base\\tsa_model.py:471: ValueWarning: A date index has been provided, but it has no associated frequency information and so will be ignored when e.g. forecasting.\n",
      "  self._init_dates(dates, freq)\n",
      "C:\\Users\\hp\\miniconda3\\envs\\kirtesh\\lib\\site-packages\\statsmodels\\tsa\\base\\tsa_model.py:471: ValueWarning: A date index has been provided, but it has no associated frequency information and so will be ignored when e.g. forecasting.\n",
      "  self._init_dates(dates, freq)\n",
      "C:\\Users\\hp\\miniconda3\\envs\\kirtesh\\lib\\site-packages\\statsmodels\\tsa\\base\\tsa_model.py:834: ValueWarning: No supported index is available. Prediction results will be given with an integer index beginning at `start`.\n",
      "  return get_prediction_index(\n",
      "C:\\Users\\hp\\AppData\\Local\\Temp\\ipykernel_14348\\4164044962.py:14: FutureWarning: The series.append method is deprecated and will be removed from pandas in a future version. Use pandas.concat instead.\n",
      "  pred_df=pred_df.append(pred)\n",
      "C:\\Users\\hp\\AppData\\Local\\Temp\\ipykernel_14348\\4164044962.py:18: FutureWarning: The series.append method is deprecated and will be removed from pandas in a future version. Use pandas.concat instead.\n",
      "  df=df.append(x)\n",
      "C:\\Users\\hp\\miniconda3\\envs\\kirtesh\\lib\\site-packages\\statsmodels\\tsa\\base\\tsa_model.py:471: ValueWarning: A date index has been provided, but it has no associated frequency information and so will be ignored when e.g. forecasting.\n",
      "  self._init_dates(dates, freq)\n",
      "C:\\Users\\hp\\miniconda3\\envs\\kirtesh\\lib\\site-packages\\statsmodels\\tsa\\base\\tsa_model.py:471: ValueWarning: A date index has been provided, but it has no associated frequency information and so will be ignored when e.g. forecasting.\n",
      "  self._init_dates(dates, freq)\n"
     ]
    },
    {
     "name": "stderr",
     "output_type": "stream",
     "text": [
      "C:\\Users\\hp\\miniconda3\\envs\\kirtesh\\lib\\site-packages\\statsmodels\\tsa\\base\\tsa_model.py:834: ValueWarning: No supported index is available. Prediction results will be given with an integer index beginning at `start`.\n",
      "  return get_prediction_index(\n",
      "C:\\Users\\hp\\AppData\\Local\\Temp\\ipykernel_14348\\4164044962.py:14: FutureWarning: The series.append method is deprecated and will be removed from pandas in a future version. Use pandas.concat instead.\n",
      "  pred_df=pred_df.append(pred)\n",
      "C:\\Users\\hp\\AppData\\Local\\Temp\\ipykernel_14348\\4164044962.py:18: FutureWarning: The series.append method is deprecated and will be removed from pandas in a future version. Use pandas.concat instead.\n",
      "  df=df.append(x)\n",
      "C:\\Users\\hp\\miniconda3\\envs\\kirtesh\\lib\\site-packages\\statsmodels\\tsa\\base\\tsa_model.py:471: ValueWarning: A date index has been provided, but it has no associated frequency information and so will be ignored when e.g. forecasting.\n",
      "  self._init_dates(dates, freq)\n",
      "C:\\Users\\hp\\miniconda3\\envs\\kirtesh\\lib\\site-packages\\statsmodels\\tsa\\base\\tsa_model.py:471: ValueWarning: A date index has been provided, but it has no associated frequency information and so will be ignored when e.g. forecasting.\n",
      "  self._init_dates(dates, freq)\n",
      "C:\\Users\\hp\\miniconda3\\envs\\kirtesh\\lib\\site-packages\\statsmodels\\tsa\\base\\tsa_model.py:834: ValueWarning: No supported index is available. Prediction results will be given with an integer index beginning at `start`.\n",
      "  return get_prediction_index(\n",
      "C:\\Users\\hp\\AppData\\Local\\Temp\\ipykernel_14348\\4164044962.py:14: FutureWarning: The series.append method is deprecated and will be removed from pandas in a future version. Use pandas.concat instead.\n",
      "  pred_df=pred_df.append(pred)\n",
      "C:\\Users\\hp\\AppData\\Local\\Temp\\ipykernel_14348\\4164044962.py:18: FutureWarning: The series.append method is deprecated and will be removed from pandas in a future version. Use pandas.concat instead.\n",
      "  df=df.append(x)\n",
      "C:\\Users\\hp\\miniconda3\\envs\\kirtesh\\lib\\site-packages\\statsmodels\\tsa\\base\\tsa_model.py:471: ValueWarning: A date index has been provided, but it has no associated frequency information and so will be ignored when e.g. forecasting.\n",
      "  self._init_dates(dates, freq)\n",
      "C:\\Users\\hp\\miniconda3\\envs\\kirtesh\\lib\\site-packages\\statsmodels\\tsa\\base\\tsa_model.py:471: ValueWarning: A date index has been provided, but it has no associated frequency information and so will be ignored when e.g. forecasting.\n",
      "  self._init_dates(dates, freq)\n",
      "C:\\Users\\hp\\miniconda3\\envs\\kirtesh\\lib\\site-packages\\statsmodels\\base\\model.py:604: ConvergenceWarning: Maximum Likelihood optimization failed to converge. Check mle_retvals\n",
      "  warnings.warn(\"Maximum Likelihood optimization failed to \"\n",
      "C:\\Users\\hp\\miniconda3\\envs\\kirtesh\\lib\\site-packages\\statsmodels\\tsa\\base\\tsa_model.py:834: ValueWarning: No supported index is available. Prediction results will be given with an integer index beginning at `start`.\n",
      "  return get_prediction_index(\n",
      "C:\\Users\\hp\\AppData\\Local\\Temp\\ipykernel_14348\\4164044962.py:14: FutureWarning: The series.append method is deprecated and will be removed from pandas in a future version. Use pandas.concat instead.\n",
      "  pred_df=pred_df.append(pred)\n",
      "C:\\Users\\hp\\AppData\\Local\\Temp\\ipykernel_14348\\4164044962.py:18: FutureWarning: The series.append method is deprecated and will be removed from pandas in a future version. Use pandas.concat instead.\n",
      "  df=df.append(x)\n",
      "C:\\Users\\hp\\miniconda3\\envs\\kirtesh\\lib\\site-packages\\statsmodels\\tsa\\base\\tsa_model.py:471: ValueWarning: A date index has been provided, but it has no associated frequency information and so will be ignored when e.g. forecasting.\n",
      "  self._init_dates(dates, freq)\n",
      "C:\\Users\\hp\\miniconda3\\envs\\kirtesh\\lib\\site-packages\\statsmodels\\tsa\\base\\tsa_model.py:471: ValueWarning: A date index has been provided, but it has no associated frequency information and so will be ignored when e.g. forecasting.\n",
      "  self._init_dates(dates, freq)\n",
      "C:\\Users\\hp\\miniconda3\\envs\\kirtesh\\lib\\site-packages\\statsmodels\\tsa\\base\\tsa_model.py:834: ValueWarning: No supported index is available. Prediction results will be given with an integer index beginning at `start`.\n",
      "  return get_prediction_index(\n",
      "C:\\Users\\hp\\AppData\\Local\\Temp\\ipykernel_14348\\4164044962.py:14: FutureWarning: The series.append method is deprecated and will be removed from pandas in a future version. Use pandas.concat instead.\n",
      "  pred_df=pred_df.append(pred)\n",
      "C:\\Users\\hp\\AppData\\Local\\Temp\\ipykernel_14348\\4164044962.py:18: FutureWarning: The series.append method is deprecated and will be removed from pandas in a future version. Use pandas.concat instead.\n",
      "  df=df.append(x)\n",
      "C:\\Users\\hp\\miniconda3\\envs\\kirtesh\\lib\\site-packages\\statsmodels\\tsa\\base\\tsa_model.py:471: ValueWarning: A date index has been provided, but it has no associated frequency information and so will be ignored when e.g. forecasting.\n",
      "  self._init_dates(dates, freq)\n",
      "C:\\Users\\hp\\miniconda3\\envs\\kirtesh\\lib\\site-packages\\statsmodels\\tsa\\base\\tsa_model.py:471: ValueWarning: A date index has been provided, but it has no associated frequency information and so will be ignored when e.g. forecasting.\n",
      "  self._init_dates(dates, freq)\n",
      "C:\\Users\\hp\\miniconda3\\envs\\kirtesh\\lib\\site-packages\\statsmodels\\tsa\\base\\tsa_model.py:834: ValueWarning: No supported index is available. Prediction results will be given with an integer index beginning at `start`.\n",
      "  return get_prediction_index(\n",
      "C:\\Users\\hp\\AppData\\Local\\Temp\\ipykernel_14348\\4164044962.py:14: FutureWarning: The series.append method is deprecated and will be removed from pandas in a future version. Use pandas.concat instead.\n",
      "  pred_df=pred_df.append(pred)\n",
      "C:\\Users\\hp\\AppData\\Local\\Temp\\ipykernel_14348\\4164044962.py:18: FutureWarning: The series.append method is deprecated and will be removed from pandas in a future version. Use pandas.concat instead.\n",
      "  df=df.append(x)\n",
      "C:\\Users\\hp\\miniconda3\\envs\\kirtesh\\lib\\site-packages\\statsmodels\\tsa\\base\\tsa_model.py:471: ValueWarning: A date index has been provided, but it has no associated frequency information and so will be ignored when e.g. forecasting.\n",
      "  self._init_dates(dates, freq)\n",
      "C:\\Users\\hp\\miniconda3\\envs\\kirtesh\\lib\\site-packages\\statsmodels\\tsa\\base\\tsa_model.py:471: ValueWarning: A date index has been provided, but it has no associated frequency information and so will be ignored when e.g. forecasting.\n",
      "  self._init_dates(dates, freq)\n",
      "C:\\Users\\hp\\miniconda3\\envs\\kirtesh\\lib\\site-packages\\statsmodels\\base\\model.py:604: ConvergenceWarning: Maximum Likelihood optimization failed to converge. Check mle_retvals\n",
      "  warnings.warn(\"Maximum Likelihood optimization failed to \"\n",
      "C:\\Users\\hp\\miniconda3\\envs\\kirtesh\\lib\\site-packages\\statsmodels\\tsa\\base\\tsa_model.py:834: ValueWarning: No supported index is available. Prediction results will be given with an integer index beginning at `start`.\n",
      "  return get_prediction_index(\n",
      "C:\\Users\\hp\\AppData\\Local\\Temp\\ipykernel_14348\\4164044962.py:14: FutureWarning: The series.append method is deprecated and will be removed from pandas in a future version. Use pandas.concat instead.\n",
      "  pred_df=pred_df.append(pred)\n",
      "C:\\Users\\hp\\AppData\\Local\\Temp\\ipykernel_14348\\4164044962.py:18: FutureWarning: The series.append method is deprecated and will be removed from pandas in a future version. Use pandas.concat instead.\n",
      "  df=df.append(x)\n",
      "C:\\Users\\hp\\miniconda3\\envs\\kirtesh\\lib\\site-packages\\statsmodels\\tsa\\base\\tsa_model.py:471: ValueWarning: A date index has been provided, but it has no associated frequency information and so will be ignored when e.g. forecasting.\n",
      "  self._init_dates(dates, freq)\n",
      "C:\\Users\\hp\\miniconda3\\envs\\kirtesh\\lib\\site-packages\\statsmodels\\tsa\\base\\tsa_model.py:471: ValueWarning: A date index has been provided, but it has no associated frequency information and so will be ignored when e.g. forecasting.\n",
      "  self._init_dates(dates, freq)\n",
      "C:\\Users\\hp\\miniconda3\\envs\\kirtesh\\lib\\site-packages\\statsmodels\\tsa\\base\\tsa_model.py:834: ValueWarning: No supported index is available. Prediction results will be given with an integer index beginning at `start`.\n",
      "  return get_prediction_index(\n",
      "C:\\Users\\hp\\AppData\\Local\\Temp\\ipykernel_14348\\4164044962.py:14: FutureWarning: The series.append method is deprecated and will be removed from pandas in a future version. Use pandas.concat instead.\n",
      "  pred_df=pred_df.append(pred)\n",
      "C:\\Users\\hp\\AppData\\Local\\Temp\\ipykernel_14348\\4164044962.py:18: FutureWarning: The series.append method is deprecated and will be removed from pandas in a future version. Use pandas.concat instead.\n",
      "  df=df.append(x)\n",
      "C:\\Users\\hp\\miniconda3\\envs\\kirtesh\\lib\\site-packages\\statsmodels\\tsa\\base\\tsa_model.py:471: ValueWarning: A date index has been provided, but it has no associated frequency information and so will be ignored when e.g. forecasting.\n",
      "  self._init_dates(dates, freq)\n",
      "C:\\Users\\hp\\miniconda3\\envs\\kirtesh\\lib\\site-packages\\statsmodels\\tsa\\base\\tsa_model.py:471: ValueWarning: A date index has been provided, but it has no associated frequency information and so will be ignored when e.g. forecasting.\n",
      "  self._init_dates(dates, freq)\n"
     ]
    },
    {
     "name": "stderr",
     "output_type": "stream",
     "text": [
      "C:\\Users\\hp\\miniconda3\\envs\\kirtesh\\lib\\site-packages\\statsmodels\\tsa\\base\\tsa_model.py:834: ValueWarning: No supported index is available. Prediction results will be given with an integer index beginning at `start`.\n",
      "  return get_prediction_index(\n",
      "C:\\Users\\hp\\AppData\\Local\\Temp\\ipykernel_14348\\4164044962.py:14: FutureWarning: The series.append method is deprecated and will be removed from pandas in a future version. Use pandas.concat instead.\n",
      "  pred_df=pred_df.append(pred)\n",
      "C:\\Users\\hp\\AppData\\Local\\Temp\\ipykernel_14348\\4164044962.py:18: FutureWarning: The series.append method is deprecated and will be removed from pandas in a future version. Use pandas.concat instead.\n",
      "  df=df.append(x)\n",
      "C:\\Users\\hp\\miniconda3\\envs\\kirtesh\\lib\\site-packages\\statsmodels\\tsa\\base\\tsa_model.py:471: ValueWarning: A date index has been provided, but it has no associated frequency information and so will be ignored when e.g. forecasting.\n",
      "  self._init_dates(dates, freq)\n",
      "C:\\Users\\hp\\miniconda3\\envs\\kirtesh\\lib\\site-packages\\statsmodels\\tsa\\base\\tsa_model.py:471: ValueWarning: A date index has been provided, but it has no associated frequency information and so will be ignored when e.g. forecasting.\n",
      "  self._init_dates(dates, freq)\n",
      "C:\\Users\\hp\\miniconda3\\envs\\kirtesh\\lib\\site-packages\\statsmodels\\tsa\\base\\tsa_model.py:834: ValueWarning: No supported index is available. Prediction results will be given with an integer index beginning at `start`.\n",
      "  return get_prediction_index(\n",
      "C:\\Users\\hp\\AppData\\Local\\Temp\\ipykernel_14348\\4164044962.py:14: FutureWarning: The series.append method is deprecated and will be removed from pandas in a future version. Use pandas.concat instead.\n",
      "  pred_df=pred_df.append(pred)\n",
      "C:\\Users\\hp\\AppData\\Local\\Temp\\ipykernel_14348\\4164044962.py:18: FutureWarning: The series.append method is deprecated and will be removed from pandas in a future version. Use pandas.concat instead.\n",
      "  df=df.append(x)\n",
      "C:\\Users\\hp\\miniconda3\\envs\\kirtesh\\lib\\site-packages\\statsmodels\\tsa\\base\\tsa_model.py:471: ValueWarning: A date index has been provided, but it has no associated frequency information and so will be ignored when e.g. forecasting.\n",
      "  self._init_dates(dates, freq)\n",
      "C:\\Users\\hp\\miniconda3\\envs\\kirtesh\\lib\\site-packages\\statsmodels\\tsa\\base\\tsa_model.py:471: ValueWarning: A date index has been provided, but it has no associated frequency information and so will be ignored when e.g. forecasting.\n",
      "  self._init_dates(dates, freq)\n",
      "C:\\Users\\hp\\miniconda3\\envs\\kirtesh\\lib\\site-packages\\statsmodels\\tsa\\base\\tsa_model.py:834: ValueWarning: No supported index is available. Prediction results will be given with an integer index beginning at `start`.\n",
      "  return get_prediction_index(\n",
      "C:\\Users\\hp\\AppData\\Local\\Temp\\ipykernel_14348\\4164044962.py:14: FutureWarning: The series.append method is deprecated and will be removed from pandas in a future version. Use pandas.concat instead.\n",
      "  pred_df=pred_df.append(pred)\n",
      "C:\\Users\\hp\\AppData\\Local\\Temp\\ipykernel_14348\\4164044962.py:18: FutureWarning: The series.append method is deprecated and will be removed from pandas in a future version. Use pandas.concat instead.\n",
      "  df=df.append(x)\n",
      "C:\\Users\\hp\\miniconda3\\envs\\kirtesh\\lib\\site-packages\\statsmodels\\tsa\\base\\tsa_model.py:471: ValueWarning: A date index has been provided, but it has no associated frequency information and so will be ignored when e.g. forecasting.\n",
      "  self._init_dates(dates, freq)\n",
      "C:\\Users\\hp\\miniconda3\\envs\\kirtesh\\lib\\site-packages\\statsmodels\\tsa\\base\\tsa_model.py:471: ValueWarning: A date index has been provided, but it has no associated frequency information and so will be ignored when e.g. forecasting.\n",
      "  self._init_dates(dates, freq)\n",
      "C:\\Users\\hp\\miniconda3\\envs\\kirtesh\\lib\\site-packages\\statsmodels\\tsa\\base\\tsa_model.py:834: ValueWarning: No supported index is available. Prediction results will be given with an integer index beginning at `start`.\n",
      "  return get_prediction_index(\n",
      "C:\\Users\\hp\\AppData\\Local\\Temp\\ipykernel_14348\\4164044962.py:14: FutureWarning: The series.append method is deprecated and will be removed from pandas in a future version. Use pandas.concat instead.\n",
      "  pred_df=pred_df.append(pred)\n",
      "C:\\Users\\hp\\AppData\\Local\\Temp\\ipykernel_14348\\4164044962.py:18: FutureWarning: The series.append method is deprecated and will be removed from pandas in a future version. Use pandas.concat instead.\n",
      "  df=df.append(x)\n",
      "C:\\Users\\hp\\miniconda3\\envs\\kirtesh\\lib\\site-packages\\statsmodels\\tsa\\base\\tsa_model.py:471: ValueWarning: A date index has been provided, but it has no associated frequency information and so will be ignored when e.g. forecasting.\n",
      "  self._init_dates(dates, freq)\n",
      "C:\\Users\\hp\\miniconda3\\envs\\kirtesh\\lib\\site-packages\\statsmodels\\tsa\\base\\tsa_model.py:471: ValueWarning: A date index has been provided, but it has no associated frequency information and so will be ignored when e.g. forecasting.\n",
      "  self._init_dates(dates, freq)\n",
      "C:\\Users\\hp\\miniconda3\\envs\\kirtesh\\lib\\site-packages\\statsmodels\\tsa\\base\\tsa_model.py:834: ValueWarning: No supported index is available. Prediction results will be given with an integer index beginning at `start`.\n",
      "  return get_prediction_index(\n",
      "C:\\Users\\hp\\AppData\\Local\\Temp\\ipykernel_14348\\4164044962.py:14: FutureWarning: The series.append method is deprecated and will be removed from pandas in a future version. Use pandas.concat instead.\n",
      "  pred_df=pred_df.append(pred)\n",
      "C:\\Users\\hp\\AppData\\Local\\Temp\\ipykernel_14348\\4164044962.py:18: FutureWarning: The series.append method is deprecated and will be removed from pandas in a future version. Use pandas.concat instead.\n",
      "  df=df.append(x)\n",
      "C:\\Users\\hp\\miniconda3\\envs\\kirtesh\\lib\\site-packages\\statsmodels\\tsa\\base\\tsa_model.py:471: ValueWarning: A date index has been provided, but it has no associated frequency information and so will be ignored when e.g. forecasting.\n",
      "  self._init_dates(dates, freq)\n",
      "C:\\Users\\hp\\miniconda3\\envs\\kirtesh\\lib\\site-packages\\statsmodels\\tsa\\base\\tsa_model.py:471: ValueWarning: A date index has been provided, but it has no associated frequency information and so will be ignored when e.g. forecasting.\n",
      "  self._init_dates(dates, freq)\n",
      "C:\\Users\\hp\\miniconda3\\envs\\kirtesh\\lib\\site-packages\\statsmodels\\tsa\\base\\tsa_model.py:834: ValueWarning: No supported index is available. Prediction results will be given with an integer index beginning at `start`.\n",
      "  return get_prediction_index(\n",
      "C:\\Users\\hp\\AppData\\Local\\Temp\\ipykernel_14348\\4164044962.py:14: FutureWarning: The series.append method is deprecated and will be removed from pandas in a future version. Use pandas.concat instead.\n",
      "  pred_df=pred_df.append(pred)\n",
      "C:\\Users\\hp\\AppData\\Local\\Temp\\ipykernel_14348\\4164044962.py:18: FutureWarning: The series.append method is deprecated and will be removed from pandas in a future version. Use pandas.concat instead.\n",
      "  df=df.append(x)\n",
      "C:\\Users\\hp\\miniconda3\\envs\\kirtesh\\lib\\site-packages\\statsmodels\\tsa\\base\\tsa_model.py:471: ValueWarning: A date index has been provided, but it has no associated frequency information and so will be ignored when e.g. forecasting.\n",
      "  self._init_dates(dates, freq)\n",
      "C:\\Users\\hp\\miniconda3\\envs\\kirtesh\\lib\\site-packages\\statsmodels\\tsa\\base\\tsa_model.py:471: ValueWarning: A date index has been provided, but it has no associated frequency information and so will be ignored when e.g. forecasting.\n",
      "  self._init_dates(dates, freq)\n",
      "C:\\Users\\hp\\miniconda3\\envs\\kirtesh\\lib\\site-packages\\statsmodels\\tsa\\base\\tsa_model.py:834: ValueWarning: No supported index is available. Prediction results will be given with an integer index beginning at `start`.\n",
      "  return get_prediction_index(\n",
      "C:\\Users\\hp\\AppData\\Local\\Temp\\ipykernel_14348\\4164044962.py:14: FutureWarning: The series.append method is deprecated and will be removed from pandas in a future version. Use pandas.concat instead.\n",
      "  pred_df=pred_df.append(pred)\n",
      "C:\\Users\\hp\\AppData\\Local\\Temp\\ipykernel_14348\\4164044962.py:18: FutureWarning: The series.append method is deprecated and will be removed from pandas in a future version. Use pandas.concat instead.\n",
      "  df=df.append(x)\n",
      "C:\\Users\\hp\\miniconda3\\envs\\kirtesh\\lib\\site-packages\\statsmodels\\tsa\\base\\tsa_model.py:471: ValueWarning: A date index has been provided, but it has no associated frequency information and so will be ignored when e.g. forecasting.\n",
      "  self._init_dates(dates, freq)\n",
      "C:\\Users\\hp\\miniconda3\\envs\\kirtesh\\lib\\site-packages\\statsmodels\\tsa\\base\\tsa_model.py:471: ValueWarning: A date index has been provided, but it has no associated frequency information and so will be ignored when e.g. forecasting.\n",
      "  self._init_dates(dates, freq)\n"
     ]
    },
    {
     "name": "stderr",
     "output_type": "stream",
     "text": [
      "C:\\Users\\hp\\miniconda3\\envs\\kirtesh\\lib\\site-packages\\statsmodels\\tsa\\base\\tsa_model.py:834: ValueWarning: No supported index is available. Prediction results will be given with an integer index beginning at `start`.\n",
      "  return get_prediction_index(\n",
      "C:\\Users\\hp\\AppData\\Local\\Temp\\ipykernel_14348\\4164044962.py:14: FutureWarning: The series.append method is deprecated and will be removed from pandas in a future version. Use pandas.concat instead.\n",
      "  pred_df=pred_df.append(pred)\n",
      "C:\\Users\\hp\\AppData\\Local\\Temp\\ipykernel_14348\\4164044962.py:18: FutureWarning: The series.append method is deprecated and will be removed from pandas in a future version. Use pandas.concat instead.\n",
      "  df=df.append(x)\n"
     ]
    }
   ],
   "source": [
    "sp500_for=dynamic_pred(np.log(sp500.loc[~np.isnan(np.array(sp500['Returns %'])),'Returns %']+1),np.log(sp500_fore.loc[~np.isnan(np.array(sp500_fore['Returns %'])),'Returns %']+1))"
   ]
  },
  {
   "cell_type": "code",
   "execution_count": 27,
   "id": "6b08ec61",
   "metadata": {
    "scrolled": true
   },
   "outputs": [
    {
     "data": {
      "text/plain": [
       "DatetimeIndex(['2016-01-05', '2016-01-06', '2016-01-07', '2016-01-08',\n",
       "               '2016-01-11', '2016-01-12', '2016-01-13', '2016-01-14',\n",
       "               '2016-01-15', '2016-01-18', '2016-01-19', '2016-01-20',\n",
       "               '2016-01-21', '2016-01-22', '2016-01-25', '2016-01-27',\n",
       "               '2016-01-28', '2016-01-29', '2016-02-01', '2016-02-02',\n",
       "               '2016-02-03', '2016-02-04', '2016-02-05', '2016-02-08',\n",
       "               '2016-02-09', '2016-02-10', '2016-02-11', '2016-02-12',\n",
       "               '2016-02-15', '2016-02-16', '2016-02-17', '2016-02-18',\n",
       "               '2016-02-19', '2016-02-22', '2016-02-23', '2016-02-24',\n",
       "               '2016-02-25', '2016-02-26', '2016-02-29', '2016-03-01',\n",
       "               '2016-03-02', '2016-03-03', '2016-03-04'],\n",
       "              dtype='datetime64[ns]', name='Date', freq=None)"
      ]
     },
     "execution_count": 27,
     "metadata": {},
     "output_type": "execute_result"
    }
   ],
   "source": [
    "np.log(sp500_fore.loc[~np.isnan(np.array(sp500_fore['Returns %'])),'Returns %']+1).index"
   ]
  },
  {
   "cell_type": "code",
   "execution_count": 33,
   "id": "572f125a",
   "metadata": {},
   "outputs": [],
   "source": [
    "import matplotlib.pyplot as plt"
   ]
  },
  {
   "cell_type": "code",
   "execution_count": 73,
   "id": "1e430b3e",
   "metadata": {},
   "outputs": [
    {
     "data": {
      "image/png": "[encoded data removed]",
      "text/plain": [
       "<Figure size 640x480 with 1 Axes>"
      ]
     },
     "metadata": {},
     "output_type": "display_data"
    }
   ],
   "source": [
    "import matplotlib.pyplot as plt\n",
    "sp500_for.plot(marker='v',linewidth=1)\n",
    "np.log(sp500_fore.loc[~np.isnan(np.array(sp500_fore['Returns %'])),'Returns %']+1).plot(xlabel='Time Period',ylabel='Log Returns % Difference',linestyle='--',marker='o',alpha=0.5,legend='Actual')\n",
    "plt.legend(['Predicted','Actual'])\n",
    "plt.title('NIFTY Predictions 2016')\n",
    "plt.savefig('ppt_pics/NIFTY_predictions_2016.png')"
   ]
  },
  {
   "cell_type": "code",
   "execution_count": null,
   "id": "f4b862c7",
   "metadata": {},
   "outputs": [],
   "source": []
  },
  {
   "cell_type": "code",
   "execution_count": 69,
   "id": "8abebacc",
   "metadata": {},
   "outputs": [],
   "source": [
    "# np.sign(np.array(sp500_for))==np.sign(np.array(np.log(sp500_fore.loc[~np.isnan(np.array(sp500_fore['Returns %'])),'Returns %']+1)))"
   ]
  },
  {
   "cell_type": "code",
   "execution_count": 77,
   "id": "43b1a621",
   "metadata": {},
   "outputs": [],
   "source": [
    "def accuracy_sarimax(df1,df2):\n",
    "    x=np.sign(np.array(df1))==np.sign(np.array(df2))\n",
    "    \n",
    "    return sum(x) / len(x)"
   ]
  },
  {
   "cell_type": "code",
   "execution_count": 83,
   "id": "2411fd6f",
   "metadata": {},
   "outputs": [
    {
     "data": {
      "text/plain": [
       "0.5813953488372093"
      ]
     },
     "execution_count": 83,
     "metadata": {},
     "output_type": "execute_result"
    }
   ],
   "source": [
    "acc_nifty_ns_11_15=accuracy_sarimax(sp500_for,np.log(sp500_fore.loc[~np.isnan(np.array(sp500_fore['Returns %'])),'Returns %']+1))\n",
    "acc_nifty_ns_11_15"
   ]
  },
  {
   "cell_type": "code",
   "execution_count": 79,
   "id": "53d4ca56",
   "metadata": {},
   "outputs": [
    {
     "data": {
      "text/plain": [
       "0.018246943308921182"
      ]
     },
     "execution_count": 79,
     "metadata": {},
     "output_type": "execute_result"
    }
   ],
   "source": [
    "from sklearn.metrics import r2_score\n",
    "r2_score(np.log(sp500_fore.loc[~np.isnan(np.array(sp500_fore['Returns %'])),'Returns %']+1), sp500_for)"
   ]
  },
  {
   "cell_type": "code",
   "execution_count": 82,
   "id": "ef18defc",
   "metadata": {},
   "outputs": [
    {
     "name": "stdout",
     "output_type": "stream",
     "text": [
      "RMSE: 0.01\n"
     ]
    }
   ],
   "source": []
  },
  {
   "cell_type": "code",
   "execution_count": 72,
   "id": "e773dcf2",
   "metadata": {},
   "outputs": [
    {
     "name": "stdout",
     "output_type": "stream",
     "text": [
      "Stored 'acc_nifty_ns_11_15' (float64)\n"
     ]
    }
   ],
   "source": [
    "%store acc_nifty_ns_11_15"
   ]
  },
  {
   "cell_type": "code",
   "execution_count": null,
   "id": "160643ce",
   "metadata": {},
   "outputs": [],
   "source": []
  }
 ],
 "metadata": {
  "kernelspec": {
   "display_name": "Python 3 (ipykernel)",
   "language": "python",
   "name": "python3"
  },
  "language_info": {
   "codemirror_mode": {
    "name": "ipython",
    "version": 3
   },
   "file_extension": ".py",
   "mimetype": "text/x-python",
   "name": "python",
   "nbconvert_exporter": "python",
   "pygments_lexer": "ipython3",
   "version": "3.10.6"
  }
 },
 "nbformat": 4,
 "nbformat_minor": 5
}
