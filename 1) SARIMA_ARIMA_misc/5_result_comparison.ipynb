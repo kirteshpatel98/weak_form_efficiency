{
 "cells": [
  {
   "cell_type": "code",
   "execution_count": 17,
   "id": "81bd85e0",
   "metadata": {},
   "outputs": [],
   "source": [
    "%store -r acc_nifty_ns_11_15\n",
    "%store -r acc_nifty_ns_18_22\n",
    "%store -r acc_sp500_ns_11_15\n",
    "%store -r acc_sp500_ns_18_22"
   ]
  },
  {
   "cell_type": "code",
   "execution_count": 18,
   "id": "f64675d9",
   "metadata": {},
   "outputs": [
    {
     "data": {
      "text/plain": [
       "(0.5116279069767442, 0.4090909090909091)"
      ]
     },
     "execution_count": 18,
     "metadata": {},
     "output_type": "execute_result"
    }
   ],
   "source": [
    "acc_nifty_ns_11_15, acc_nifty_ns_18_22"
   ]
  },
  {
   "cell_type": "code",
   "execution_count": 19,
   "id": "c34baea3",
   "metadata": {},
   "outputs": [
    {
     "data": {
      "text/plain": [
       "(0.5476190476190477, 0.46511627906976744)"
      ]
     },
     "execution_count": 19,
     "metadata": {},
     "output_type": "execute_result"
    }
   ],
   "source": [
    "acc_sp500_ns_11_15, acc_sp500_ns_18_22"
   ]
  },
  {
   "cell_type": "code",
   "execution_count": 20,
   "id": "e4f98d59",
   "metadata": {},
   "outputs": [
    {
     "data": {
      "text/plain": [
       "(0.5116279069767442, 0.5476190476190477)"
      ]
     },
     "execution_count": 20,
     "metadata": {},
     "output_type": "execute_result"
    }
   ],
   "source": [
    "acc_nifty_ns_11_15, acc_sp500_ns_11_15"
   ]
  },
  {
   "cell_type": "code",
   "execution_count": 21,
   "id": "b363b606",
   "metadata": {},
   "outputs": [
    {
     "data": {
      "text/plain": [
       "(0.4090909090909091, 0.46511627906976744)"
      ]
     },
     "execution_count": 21,
     "metadata": {},
     "output_type": "execute_result"
    }
   ],
   "source": [
    "acc_nifty_ns_18_22, acc_sp500_ns_18_22"
   ]
  },
  {
   "cell_type": "code",
   "execution_count": null,
   "id": "97a11b72",
   "metadata": {},
   "outputs": [],
   "source": []
  }
 ],
 "metadata": {
  "kernelspec": {
   "display_name": "Python 3 (ipykernel)",
   "language": "python",
   "name": "python3"
  },
  "language_info": {
   "codemirror_mode": {
    "name": "ipython",
    "version": 3
   },
   "file_extension": ".py",
   "mimetype": "text/x-python",
   "name": "python",
   "nbconvert_exporter": "python",
   "pygments_lexer": "ipython3",
   "version": "3.10.6"
  }
 },
 "nbformat": 4,
 "nbformat_minor": 5
}
